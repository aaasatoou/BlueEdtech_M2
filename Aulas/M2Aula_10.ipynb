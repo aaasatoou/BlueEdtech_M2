{
  "nbformat": 4,
  "nbformat_minor": 0,
  "metadata": {
    "colab": {
      "name": "M2Aula_10.ipynb",
      "provenance": [],
      "collapsed_sections": [],
      "authorship_tag": "ABX9TyODRZ3zUoymYD3HQ4d5n5/s"
    },
    "kernelspec": {
      "name": "python3",
      "display_name": "Python 3"
    },
    "language_info": {
      "name": "python"
    }
  },
  "cells": [
    {
      "cell_type": "code",
      "execution_count": null,
      "metadata": {
        "id": "lv3yk8Nds_iB"
      },
      "outputs": [],
      "source": [
        "import numpy as np\n",
        "import pandas as pd\n",
        "\n",
        "from sklearn.preprocessing import StandardScaler\n",
        "from sklearn.feature_selection import RFE\n",
        "from sklearn.model_selection import train_test_split\n",
        "from sklearn.linear_model import LogisticRegression\n",
        "\n",
        "# metricas usadas para classificacao\n",
        "from sklearn.metrics import confusion_matrix\n",
        "\n",
        "colunas = [\"idx\",\n",
        "           \"clump_thickness\",            \n",
        "           \"uniformity_cell_size\",    \n",
        "           \"uniformity_cell_shape\",   \n",
        "           \"marginal_adhesion\",          \n",
        "           \"single_epithelial_cell_size\",\n",
        "           \"bare_nuclei\",                \n",
        "           \"bland_chromatin\",            \n",
        "           \"normal_nucleoli\",            \n",
        "           \"mitoses\",                    \n",
        "           \"class\"]\n",
        "           \n",
        "dados = pd.read_csv('https://archive.ics.uci.edu/ml/machine-learning-databases/breast-cancer-wisconsin/breast-cancer-wisconsin.data', header=None, names = colunas)"
      ]
    },
    {
      "cell_type": "code",
      "source": [
        "dados.head()"
      ],
      "metadata": {
        "colab": {
          "base_uri": "https://localhost:8080/",
          "height": 206
        },
        "id": "Mv1CWDGNzx6p",
        "outputId": "d7a287d8-1d0e-4a98-fe18-3acee6e6ccd8"
      },
      "execution_count": null,
      "outputs": [
        {
          "output_type": "execute_result",
          "data": {
            "text/plain": [
              "       idx  clump_thickness  uniformity_cell_size  uniformity_cell_shape  \\\n",
              "0  1000025                5                     1                      1   \n",
              "1  1002945                5                     4                      4   \n",
              "2  1015425                3                     1                      1   \n",
              "3  1016277                6                     8                      8   \n",
              "4  1017023                4                     1                      1   \n",
              "\n",
              "   marginal_adhesion  single_epithelial_cell_size bare_nuclei  \\\n",
              "0                  1                            2           1   \n",
              "1                  5                            7          10   \n",
              "2                  1                            2           2   \n",
              "3                  1                            3           4   \n",
              "4                  3                            2           1   \n",
              "\n",
              "   bland_chromatin  normal_nucleoli  mitoses  class  \n",
              "0                3                1        1      2  \n",
              "1                3                2        1      2  \n",
              "2                3                1        1      2  \n",
              "3                3                7        1      2  \n",
              "4                3                1        1      2  "
            ],
            "text/html": [
              "\n",
              "  <div id=\"df-038d79c5-de2f-406c-8d15-ff5763b10461\">\n",
              "    <div class=\"colab-df-container\">\n",
              "      <div>\n",
              "<style scoped>\n",
              "    .dataframe tbody tr th:only-of-type {\n",
              "        vertical-align: middle;\n",
              "    }\n",
              "\n",
              "    .dataframe tbody tr th {\n",
              "        vertical-align: top;\n",
              "    }\n",
              "\n",
              "    .dataframe thead th {\n",
              "        text-align: right;\n",
              "    }\n",
              "</style>\n",
              "<table border=\"1\" class=\"dataframe\">\n",
              "  <thead>\n",
              "    <tr style=\"text-align: right;\">\n",
              "      <th></th>\n",
              "      <th>idx</th>\n",
              "      <th>clump_thickness</th>\n",
              "      <th>uniformity_cell_size</th>\n",
              "      <th>uniformity_cell_shape</th>\n",
              "      <th>marginal_adhesion</th>\n",
              "      <th>single_epithelial_cell_size</th>\n",
              "      <th>bare_nuclei</th>\n",
              "      <th>bland_chromatin</th>\n",
              "      <th>normal_nucleoli</th>\n",
              "      <th>mitoses</th>\n",
              "      <th>class</th>\n",
              "    </tr>\n",
              "  </thead>\n",
              "  <tbody>\n",
              "    <tr>\n",
              "      <th>0</th>\n",
              "      <td>1000025</td>\n",
              "      <td>5</td>\n",
              "      <td>1</td>\n",
              "      <td>1</td>\n",
              "      <td>1</td>\n",
              "      <td>2</td>\n",
              "      <td>1</td>\n",
              "      <td>3</td>\n",
              "      <td>1</td>\n",
              "      <td>1</td>\n",
              "      <td>2</td>\n",
              "    </tr>\n",
              "    <tr>\n",
              "      <th>1</th>\n",
              "      <td>1002945</td>\n",
              "      <td>5</td>\n",
              "      <td>4</td>\n",
              "      <td>4</td>\n",
              "      <td>5</td>\n",
              "      <td>7</td>\n",
              "      <td>10</td>\n",
              "      <td>3</td>\n",
              "      <td>2</td>\n",
              "      <td>1</td>\n",
              "      <td>2</td>\n",
              "    </tr>\n",
              "    <tr>\n",
              "      <th>2</th>\n",
              "      <td>1015425</td>\n",
              "      <td>3</td>\n",
              "      <td>1</td>\n",
              "      <td>1</td>\n",
              "      <td>1</td>\n",
              "      <td>2</td>\n",
              "      <td>2</td>\n",
              "      <td>3</td>\n",
              "      <td>1</td>\n",
              "      <td>1</td>\n",
              "      <td>2</td>\n",
              "    </tr>\n",
              "    <tr>\n",
              "      <th>3</th>\n",
              "      <td>1016277</td>\n",
              "      <td>6</td>\n",
              "      <td>8</td>\n",
              "      <td>8</td>\n",
              "      <td>1</td>\n",
              "      <td>3</td>\n",
              "      <td>4</td>\n",
              "      <td>3</td>\n",
              "      <td>7</td>\n",
              "      <td>1</td>\n",
              "      <td>2</td>\n",
              "    </tr>\n",
              "    <tr>\n",
              "      <th>4</th>\n",
              "      <td>1017023</td>\n",
              "      <td>4</td>\n",
              "      <td>1</td>\n",
              "      <td>1</td>\n",
              "      <td>3</td>\n",
              "      <td>2</td>\n",
              "      <td>1</td>\n",
              "      <td>3</td>\n",
              "      <td>1</td>\n",
              "      <td>1</td>\n",
              "      <td>2</td>\n",
              "    </tr>\n",
              "  </tbody>\n",
              "</table>\n",
              "</div>\n",
              "      <button class=\"colab-df-convert\" onclick=\"convertToInteractive('df-038d79c5-de2f-406c-8d15-ff5763b10461')\"\n",
              "              title=\"Convert this dataframe to an interactive table.\"\n",
              "              style=\"display:none;\">\n",
              "        \n",
              "  <svg xmlns=\"http://www.w3.org/2000/svg\" height=\"24px\"viewBox=\"0 0 24 24\"\n",
              "       width=\"24px\">\n",
              "    <path d=\"M0 0h24v24H0V0z\" fill=\"none\"/>\n",
              "    <path d=\"M18.56 5.44l.94 2.06.94-2.06 2.06-.94-2.06-.94-.94-2.06-.94 2.06-2.06.94zm-11 1L8.5 8.5l.94-2.06 2.06-.94-2.06-.94L8.5 2.5l-.94 2.06-2.06.94zm10 10l.94 2.06.94-2.06 2.06-.94-2.06-.94-.94-2.06-.94 2.06-2.06.94z\"/><path d=\"M17.41 7.96l-1.37-1.37c-.4-.4-.92-.59-1.43-.59-.52 0-1.04.2-1.43.59L10.3 9.45l-7.72 7.72c-.78.78-.78 2.05 0 2.83L4 21.41c.39.39.9.59 1.41.59.51 0 1.02-.2 1.41-.59l7.78-7.78 2.81-2.81c.8-.78.8-2.07 0-2.86zM5.41 20L4 18.59l7.72-7.72 1.47 1.35L5.41 20z\"/>\n",
              "  </svg>\n",
              "      </button>\n",
              "      \n",
              "  <style>\n",
              "    .colab-df-container {\n",
              "      display:flex;\n",
              "      flex-wrap:wrap;\n",
              "      gap: 12px;\n",
              "    }\n",
              "\n",
              "    .colab-df-convert {\n",
              "      background-color: #E8F0FE;\n",
              "      border: none;\n",
              "      border-radius: 50%;\n",
              "      cursor: pointer;\n",
              "      display: none;\n",
              "      fill: #1967D2;\n",
              "      height: 32px;\n",
              "      padding: 0 0 0 0;\n",
              "      width: 32px;\n",
              "    }\n",
              "\n",
              "    .colab-df-convert:hover {\n",
              "      background-color: #E2EBFA;\n",
              "      box-shadow: 0px 1px 2px rgba(60, 64, 67, 0.3), 0px 1px 3px 1px rgba(60, 64, 67, 0.15);\n",
              "      fill: #174EA6;\n",
              "    }\n",
              "\n",
              "    [theme=dark] .colab-df-convert {\n",
              "      background-color: #3B4455;\n",
              "      fill: #D2E3FC;\n",
              "    }\n",
              "\n",
              "    [theme=dark] .colab-df-convert:hover {\n",
              "      background-color: #434B5C;\n",
              "      box-shadow: 0px 1px 3px 1px rgba(0, 0, 0, 0.15);\n",
              "      filter: drop-shadow(0px 1px 2px rgba(0, 0, 0, 0.3));\n",
              "      fill: #FFFFFF;\n",
              "    }\n",
              "  </style>\n",
              "\n",
              "      <script>\n",
              "        const buttonEl =\n",
              "          document.querySelector('#df-038d79c5-de2f-406c-8d15-ff5763b10461 button.colab-df-convert');\n",
              "        buttonEl.style.display =\n",
              "          google.colab.kernel.accessAllowed ? 'block' : 'none';\n",
              "\n",
              "        async function convertToInteractive(key) {\n",
              "          const element = document.querySelector('#df-038d79c5-de2f-406c-8d15-ff5763b10461');\n",
              "          const dataTable =\n",
              "            await google.colab.kernel.invokeFunction('convertToInteractive',\n",
              "                                                     [key], {});\n",
              "          if (!dataTable) return;\n",
              "\n",
              "          const docLinkHtml = 'Like what you see? Visit the ' +\n",
              "            '<a target=\"_blank\" href=https://colab.research.google.com/notebooks/data_table.ipynb>data table notebook</a>'\n",
              "            + ' to learn more about interactive tables.';\n",
              "          element.innerHTML = '';\n",
              "          dataTable['output_type'] = 'display_data';\n",
              "          await google.colab.output.renderOutput(dataTable, element);\n",
              "          const docLink = document.createElement('div');\n",
              "          docLink.innerHTML = docLinkHtml;\n",
              "          element.appendChild(docLink);\n",
              "        }\n",
              "      </script>\n",
              "    </div>\n",
              "  </div>\n",
              "  "
            ]
          },
          "metadata": {},
          "execution_count": 2
        }
      ]
    },
    {
      "cell_type": "code",
      "source": [
        "# removendo as linhas com dados faltantes\n",
        "dados = dados.replace({'?': np.nan})\n",
        "dados = dados.dropna()\n",
        "\n",
        "# separando os dados\n",
        "X = dados.drop(['idx', 'class'], axis = 1)\n",
        "y = np.array(dados['class'], dtype = 'str')\n",
        "X_std = StandardScaler().fit_transform(X)"
      ],
      "metadata": {
        "id": "GEH25HlXz7QL"
      },
      "execution_count": null,
      "outputs": []
    },
    {
      "cell_type": "code",
      "source": [
        "X_train, X_test, y_train, y_test = train_test_split(X_std, y, test_size = 0.2, random_state=10)\n",
        "\n",
        "lr = LogisticRegression(random_state=42)\n",
        "lr.fit(X_train, y_train)\n",
        "y_pred = lr.predict(X_test)"
      ],
      "metadata": {
        "id": "RhfMuazB0AvN"
      },
      "execution_count": null,
      "outputs": []
    },
    {
      "cell_type": "code",
      "source": [
        "# Usamos a estrutura dataframe da biblioteca pandas para melhor apresentar a matriz de confusao\n",
        "pd.DataFrame(confusion_matrix(y_test, y_pred), \n",
        "             columns=[\"Predito benigno\",\"Predito maligno\",],\n",
        "             index  =[\"Verdadeiro benigno\", \"Verdadeiro maligno\"])"
      ],
      "metadata": {
        "colab": {
          "base_uri": "https://localhost:8080/",
          "height": 112
        },
        "id": "9sdGrccR0Gjh",
        "outputId": "a01c1eee-3e2d-4d28-807c-71ecfe5a2d94"
      },
      "execution_count": null,
      "outputs": [
        {
          "output_type": "execute_result",
          "data": {
            "text/plain": [
              "                    Predito benigno  Predito maligno\n",
              "Verdadeiro benigno               87                2\n",
              "Verdadeiro maligno                3               45"
            ],
            "text/html": [
              "\n",
              "  <div id=\"df-d536f279-3cea-445e-8c4c-b6c94dacaf9b\">\n",
              "    <div class=\"colab-df-container\">\n",
              "      <div>\n",
              "<style scoped>\n",
              "    .dataframe tbody tr th:only-of-type {\n",
              "        vertical-align: middle;\n",
              "    }\n",
              "\n",
              "    .dataframe tbody tr th {\n",
              "        vertical-align: top;\n",
              "    }\n",
              "\n",
              "    .dataframe thead th {\n",
              "        text-align: right;\n",
              "    }\n",
              "</style>\n",
              "<table border=\"1\" class=\"dataframe\">\n",
              "  <thead>\n",
              "    <tr style=\"text-align: right;\">\n",
              "      <th></th>\n",
              "      <th>Predito benigno</th>\n",
              "      <th>Predito maligno</th>\n",
              "    </tr>\n",
              "  </thead>\n",
              "  <tbody>\n",
              "    <tr>\n",
              "      <th>Verdadeiro benigno</th>\n",
              "      <td>87</td>\n",
              "      <td>2</td>\n",
              "    </tr>\n",
              "    <tr>\n",
              "      <th>Verdadeiro maligno</th>\n",
              "      <td>3</td>\n",
              "      <td>45</td>\n",
              "    </tr>\n",
              "  </tbody>\n",
              "</table>\n",
              "</div>\n",
              "      <button class=\"colab-df-convert\" onclick=\"convertToInteractive('df-d536f279-3cea-445e-8c4c-b6c94dacaf9b')\"\n",
              "              title=\"Convert this dataframe to an interactive table.\"\n",
              "              style=\"display:none;\">\n",
              "        \n",
              "  <svg xmlns=\"http://www.w3.org/2000/svg\" height=\"24px\"viewBox=\"0 0 24 24\"\n",
              "       width=\"24px\">\n",
              "    <path d=\"M0 0h24v24H0V0z\" fill=\"none\"/>\n",
              "    <path d=\"M18.56 5.44l.94 2.06.94-2.06 2.06-.94-2.06-.94-.94-2.06-.94 2.06-2.06.94zm-11 1L8.5 8.5l.94-2.06 2.06-.94-2.06-.94L8.5 2.5l-.94 2.06-2.06.94zm10 10l.94 2.06.94-2.06 2.06-.94-2.06-.94-.94-2.06-.94 2.06-2.06.94z\"/><path d=\"M17.41 7.96l-1.37-1.37c-.4-.4-.92-.59-1.43-.59-.52 0-1.04.2-1.43.59L10.3 9.45l-7.72 7.72c-.78.78-.78 2.05 0 2.83L4 21.41c.39.39.9.59 1.41.59.51 0 1.02-.2 1.41-.59l7.78-7.78 2.81-2.81c.8-.78.8-2.07 0-2.86zM5.41 20L4 18.59l7.72-7.72 1.47 1.35L5.41 20z\"/>\n",
              "  </svg>\n",
              "      </button>\n",
              "      \n",
              "  <style>\n",
              "    .colab-df-container {\n",
              "      display:flex;\n",
              "      flex-wrap:wrap;\n",
              "      gap: 12px;\n",
              "    }\n",
              "\n",
              "    .colab-df-convert {\n",
              "      background-color: #E8F0FE;\n",
              "      border: none;\n",
              "      border-radius: 50%;\n",
              "      cursor: pointer;\n",
              "      display: none;\n",
              "      fill: #1967D2;\n",
              "      height: 32px;\n",
              "      padding: 0 0 0 0;\n",
              "      width: 32px;\n",
              "    }\n",
              "\n",
              "    .colab-df-convert:hover {\n",
              "      background-color: #E2EBFA;\n",
              "      box-shadow: 0px 1px 2px rgba(60, 64, 67, 0.3), 0px 1px 3px 1px rgba(60, 64, 67, 0.15);\n",
              "      fill: #174EA6;\n",
              "    }\n",
              "\n",
              "    [theme=dark] .colab-df-convert {\n",
              "      background-color: #3B4455;\n",
              "      fill: #D2E3FC;\n",
              "    }\n",
              "\n",
              "    [theme=dark] .colab-df-convert:hover {\n",
              "      background-color: #434B5C;\n",
              "      box-shadow: 0px 1px 3px 1px rgba(0, 0, 0, 0.15);\n",
              "      filter: drop-shadow(0px 1px 2px rgba(0, 0, 0, 0.3));\n",
              "      fill: #FFFFFF;\n",
              "    }\n",
              "  </style>\n",
              "\n",
              "      <script>\n",
              "        const buttonEl =\n",
              "          document.querySelector('#df-d536f279-3cea-445e-8c4c-b6c94dacaf9b button.colab-df-convert');\n",
              "        buttonEl.style.display =\n",
              "          google.colab.kernel.accessAllowed ? 'block' : 'none';\n",
              "\n",
              "        async function convertToInteractive(key) {\n",
              "          const element = document.querySelector('#df-d536f279-3cea-445e-8c4c-b6c94dacaf9b');\n",
              "          const dataTable =\n",
              "            await google.colab.kernel.invokeFunction('convertToInteractive',\n",
              "                                                     [key], {});\n",
              "          if (!dataTable) return;\n",
              "\n",
              "          const docLinkHtml = 'Like what you see? Visit the ' +\n",
              "            '<a target=\"_blank\" href=https://colab.research.google.com/notebooks/data_table.ipynb>data table notebook</a>'\n",
              "            + ' to learn more about interactive tables.';\n",
              "          element.innerHTML = '';\n",
              "          dataTable['output_type'] = 'display_data';\n",
              "          await google.colab.output.renderOutput(dataTable, element);\n",
              "          const docLink = document.createElement('div');\n",
              "          docLink.innerHTML = docLinkHtml;\n",
              "          element.appendChild(docLink);\n",
              "        }\n",
              "      </script>\n",
              "    </div>\n",
              "  </div>\n",
              "  "
            ]
          },
          "metadata": {},
          "execution_count": 5
        }
      ]
    },
    {
      "cell_type": "markdown",
      "source": [
        "# ![image.png](data:image/png;base64,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)"
      ],
      "metadata": {
        "id": "_WhQCOgTHKnG"
      }
    },
    {
      "cell_type": "markdown",
      "source": [
        "### 1."
      ],
      "metadata": {
        "id": "1pBwwo9pG28S"
      }
    },
    {
      "cell_type": "code",
      "source": [
        "seletor = RFE(LogisticRegression(random_state=42),n_features_to_select = 3, step = 1).fit(X,y)"
      ],
      "metadata": {
        "id": "ZL52XnZOD5m5"
      },
      "execution_count": null,
      "outputs": []
    },
    {
      "cell_type": "code",
      "source": [
        "seletor.get_feature_names_out()"
      ],
      "metadata": {
        "colab": {
          "base_uri": "https://localhost:8080/"
        },
        "id": "d9PBGlSRE5q-",
        "outputId": "86062867-a229-494a-f799-628ca673ce6f"
      },
      "execution_count": null,
      "outputs": [
        {
          "output_type": "execute_result",
          "data": {
            "text/plain": [
              "array(['uniformity_cell_shape', 'bland_chromatin', 'mitoses'],\n",
              "      dtype=object)"
            ]
          },
          "metadata": {},
          "execution_count": 7
        }
      ]
    },
    {
      "cell_type": "code",
      "source": [
        "X = X[seletor.get_feature_names_out()]\n",
        "X_std = StandardScaler().fit_transform(X)\n",
        "\n",
        "X_train, X_test, y_train, y_test = train_test_split(X_std, y, test_size = 0.2, random_state=10)\n",
        "\n",
        "modelo2 = LogisticRegression(random_state=42)\n",
        "modelo2.fit(X_train, y_train)\n",
        "y_pred = modelo2.predict(X_test)"
      ],
      "metadata": {
        "id": "oJ0kzfepFMX_"
      },
      "execution_count": null,
      "outputs": []
    },
    {
      "cell_type": "markdown",
      "source": [
        "### 2."
      ],
      "metadata": {
        "id": "2esvRKmRG6YS"
      }
    },
    {
      "cell_type": "code",
      "source": [
        "pd.DataFrame(confusion_matrix(y_test, y_pred), \n",
        "             columns=[\"Predito benigno\",\"Predito maligno\",],\n",
        "             index  =[\"Verdadeiro benigno\", \"Verdadeiro maligno\"])"
      ],
      "metadata": {
        "colab": {
          "base_uri": "https://localhost:8080/",
          "height": 112
        },
        "id": "OIkJsdUXFwBP",
        "outputId": "e1eb1118-e5e0-4180-80da-daa69607afd3"
      },
      "execution_count": null,
      "outputs": [
        {
          "output_type": "execute_result",
          "data": {
            "text/plain": [
              "                    Predito benigno  Predito maligno\n",
              "Verdadeiro benigno               87                2\n",
              "Verdadeiro maligno                6               42"
            ],
            "text/html": [
              "\n",
              "  <div id=\"df-9eec2a75-d98f-445b-aa90-d5b7a770233d\">\n",
              "    <div class=\"colab-df-container\">\n",
              "      <div>\n",
              "<style scoped>\n",
              "    .dataframe tbody tr th:only-of-type {\n",
              "        vertical-align: middle;\n",
              "    }\n",
              "\n",
              "    .dataframe tbody tr th {\n",
              "        vertical-align: top;\n",
              "    }\n",
              "\n",
              "    .dataframe thead th {\n",
              "        text-align: right;\n",
              "    }\n",
              "</style>\n",
              "<table border=\"1\" class=\"dataframe\">\n",
              "  <thead>\n",
              "    <tr style=\"text-align: right;\">\n",
              "      <th></th>\n",
              "      <th>Predito benigno</th>\n",
              "      <th>Predito maligno</th>\n",
              "    </tr>\n",
              "  </thead>\n",
              "  <tbody>\n",
              "    <tr>\n",
              "      <th>Verdadeiro benigno</th>\n",
              "      <td>87</td>\n",
              "      <td>2</td>\n",
              "    </tr>\n",
              "    <tr>\n",
              "      <th>Verdadeiro maligno</th>\n",
              "      <td>6</td>\n",
              "      <td>42</td>\n",
              "    </tr>\n",
              "  </tbody>\n",
              "</table>\n",
              "</div>\n",
              "      <button class=\"colab-df-convert\" onclick=\"convertToInteractive('df-9eec2a75-d98f-445b-aa90-d5b7a770233d')\"\n",
              "              title=\"Convert this dataframe to an interactive table.\"\n",
              "              style=\"display:none;\">\n",
              "        \n",
              "  <svg xmlns=\"http://www.w3.org/2000/svg\" height=\"24px\"viewBox=\"0 0 24 24\"\n",
              "       width=\"24px\">\n",
              "    <path d=\"M0 0h24v24H0V0z\" fill=\"none\"/>\n",
              "    <path d=\"M18.56 5.44l.94 2.06.94-2.06 2.06-.94-2.06-.94-.94-2.06-.94 2.06-2.06.94zm-11 1L8.5 8.5l.94-2.06 2.06-.94-2.06-.94L8.5 2.5l-.94 2.06-2.06.94zm10 10l.94 2.06.94-2.06 2.06-.94-2.06-.94-.94-2.06-.94 2.06-2.06.94z\"/><path d=\"M17.41 7.96l-1.37-1.37c-.4-.4-.92-.59-1.43-.59-.52 0-1.04.2-1.43.59L10.3 9.45l-7.72 7.72c-.78.78-.78 2.05 0 2.83L4 21.41c.39.39.9.59 1.41.59.51 0 1.02-.2 1.41-.59l7.78-7.78 2.81-2.81c.8-.78.8-2.07 0-2.86zM5.41 20L4 18.59l7.72-7.72 1.47 1.35L5.41 20z\"/>\n",
              "  </svg>\n",
              "      </button>\n",
              "      \n",
              "  <style>\n",
              "    .colab-df-container {\n",
              "      display:flex;\n",
              "      flex-wrap:wrap;\n",
              "      gap: 12px;\n",
              "    }\n",
              "\n",
              "    .colab-df-convert {\n",
              "      background-color: #E8F0FE;\n",
              "      border: none;\n",
              "      border-radius: 50%;\n",
              "      cursor: pointer;\n",
              "      display: none;\n",
              "      fill: #1967D2;\n",
              "      height: 32px;\n",
              "      padding: 0 0 0 0;\n",
              "      width: 32px;\n",
              "    }\n",
              "\n",
              "    .colab-df-convert:hover {\n",
              "      background-color: #E2EBFA;\n",
              "      box-shadow: 0px 1px 2px rgba(60, 64, 67, 0.3), 0px 1px 3px 1px rgba(60, 64, 67, 0.15);\n",
              "      fill: #174EA6;\n",
              "    }\n",
              "\n",
              "    [theme=dark] .colab-df-convert {\n",
              "      background-color: #3B4455;\n",
              "      fill: #D2E3FC;\n",
              "    }\n",
              "\n",
              "    [theme=dark] .colab-df-convert:hover {\n",
              "      background-color: #434B5C;\n",
              "      box-shadow: 0px 1px 3px 1px rgba(0, 0, 0, 0.15);\n",
              "      filter: drop-shadow(0px 1px 2px rgba(0, 0, 0, 0.3));\n",
              "      fill: #FFFFFF;\n",
              "    }\n",
              "  </style>\n",
              "\n",
              "      <script>\n",
              "        const buttonEl =\n",
              "          document.querySelector('#df-9eec2a75-d98f-445b-aa90-d5b7a770233d button.colab-df-convert');\n",
              "        buttonEl.style.display =\n",
              "          google.colab.kernel.accessAllowed ? 'block' : 'none';\n",
              "\n",
              "        async function convertToInteractive(key) {\n",
              "          const element = document.querySelector('#df-9eec2a75-d98f-445b-aa90-d5b7a770233d');\n",
              "          const dataTable =\n",
              "            await google.colab.kernel.invokeFunction('convertToInteractive',\n",
              "                                                     [key], {});\n",
              "          if (!dataTable) return;\n",
              "\n",
              "          const docLinkHtml = 'Like what you see? Visit the ' +\n",
              "            '<a target=\"_blank\" href=https://colab.research.google.com/notebooks/data_table.ipynb>data table notebook</a>'\n",
              "            + ' to learn more about interactive tables.';\n",
              "          element.innerHTML = '';\n",
              "          dataTable['output_type'] = 'display_data';\n",
              "          await google.colab.output.renderOutput(dataTable, element);\n",
              "          const docLink = document.createElement('div');\n",
              "          docLink.innerHTML = docLinkHtml;\n",
              "          element.appendChild(docLink);\n",
              "        }\n",
              "      </script>\n",
              "    </div>\n",
              "  </div>\n",
              "  "
            ]
          },
          "metadata": {},
          "execution_count": 9
        }
      ]
    },
    {
      "cell_type": "markdown",
      "source": [
        "Acurácia:   \n",
        "$$\n",
        "Acuracia = \\frac{87+42}{87+42+6+2} = 0.9416\n",
        "$$\n",
        "\n",
        "Precisão:   \n",
        "$$\n",
        "Precisao = \\frac{42}{42+2} = 0.9545\n",
        "$$\n",
        "\n",
        "Especificidade:   \n",
        "$$\n",
        "Especificidade = \\frac{87}{87+2} = 0.9775\n",
        "$$\n",
        "\n",
        "Sensitividade:   \n",
        "$$\n",
        "Sensitividade = \\frac{42}{42+6} = 0.875\n",
        "$$\n",
        "\n",
        "O resultado indica uma piora na sensitividade, isso significa que o modelo piora na predição de valores verdadeiros positivos. Concluimos que o modelo <b><u>perde</b></u> desempenho."
      ],
      "metadata": {
        "id": "HAO7EadsHmgs"
      }
    },
    {
      "cell_type": "code",
      "source": [
        "print(round((42)/(42+6),4))"
      ],
      "metadata": {
        "colab": {
          "base_uri": "https://localhost:8080/"
        },
        "id": "IgPDBhnaIm4i",
        "outputId": "23ddbb02-2350-42cd-8c96-3784354da5f2"
      },
      "execution_count": null,
      "outputs": [
        {
          "output_type": "stream",
          "name": "stdout",
          "text": [
            "0.875\n"
          ]
        }
      ]
    },
    {
      "cell_type": "markdown",
      "source": [
        "### 3."
      ],
      "metadata": {
        "id": "toVOaqBkGpEB"
      }
    },
    {
      "cell_type": "code",
      "source": [
        "print(modelo2.intercept_, modelo2.coef_)"
      ],
      "metadata": {
        "colab": {
          "base_uri": "https://localhost:8080/"
        },
        "id": "WN0f-qqmD7iV",
        "outputId": "530c1431-ab28-4c59-b352-c2a460181d3f"
      },
      "execution_count": null,
      "outputs": [
        {
          "output_type": "stream",
          "name": "stdout",
          "text": [
            "[-0.52980577] [[2.91175835 1.92969891 1.12032833]]\n"
          ]
        }
      ]
    },
    {
      "cell_type": "markdown",
      "source": [
        "$$\n",
        "f(x) = \\frac {1}{1+e^{-0.52980577 + 2.91175835*x1 + 1.92969891*x2 + 1.12032833*x3}}\n",
        "$$"
      ],
      "metadata": {
        "id": "h-1lWr-ZKoPj"
      }
    }
  ]
}