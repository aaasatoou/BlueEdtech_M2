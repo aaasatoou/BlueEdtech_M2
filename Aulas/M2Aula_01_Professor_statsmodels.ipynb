{
  "nbformat": 4,
  "nbformat_minor": 0,
  "metadata": {
    "colab": {
      "name": "statsmodels.ipynb",
      "provenance": [],
      "collapsed_sections": []
    },
    "kernelspec": {
      "name": "python3",
      "display_name": "Python 3"
    },
    "language_info": {
      "name": "python"
    }
  },
  "cells": [
    {
      "cell_type": "markdown",
      "source": [
        "#**Regressão Linear com: statsmodels**\n",
        "https://www.statsmodels.org/stable/gettingstarted.html\n",
        "\n",
        "Este estudo de caso projetado para colocá-lo em funcionamento rapidamente com o statsmodels. \n",
        "\n",
        "A partir de dados brutos, mostraremos os passos necessários para estimar um modelo estatístico e traçar um gráfico de diagnóstico. Usaremos apenas funções fornecidas por ou statsmodels e suas dependências:\n",
        "\n",
        "*   pandas\n",
        "*   patsy\n",
        "\n"
      ],
      "metadata": {
        "id": "Jg8PAMsN51FZ"
      }
    },
    {
      "cell_type": "code",
      "source": [
        "import statsmodels.api as sm"
      ],
      "metadata": {
        "colab": {
          "base_uri": "https://localhost:8080/"
        },
        "id": "P7cC6XTpISXV",
        "outputId": "a1f93615-82ff-48e6-c474-129548ceee80"
      },
      "execution_count": null,
      "outputs": [
        {
          "output_type": "stream",
          "name": "stderr",
          "text": [
            "/usr/local/lib/python3.7/dist-packages/statsmodels/tools/_testing.py:19: FutureWarning: pandas.util.testing is deprecated. Use the functions in the public API at pandas.testing instead.\n",
            "  import pandas.util.testing as tm\n"
          ]
        }
      ]
    },
    {
      "cell_type": "code",
      "source": [
        "import pandas as pd"
      ],
      "metadata": {
        "id": "03OzmgR6IfFp"
      },
      "execution_count": null,
      "outputs": []
    },
    {
      "cell_type": "code",
      "source": [
        "from patsy import dmatrices"
      ],
      "metadata": {
        "id": "3PzbgN_8IjAL"
      },
      "execution_count": null,
      "outputs": []
    },
    {
      "cell_type": "code",
      "source": [
        "df = sm.datasets.get_rdataset(\"Guerry\", \"HistData\").data\n",
        "df.head()"
      ],
      "metadata": {
        "colab": {
          "base_uri": "https://localhost:8080/",
          "height": 334
        },
        "id": "oVMiskPOJB6n",
        "outputId": "babbc425-0cd3-4fd7-a776-14c9da5fb61b"
      },
      "execution_count": null,
      "outputs": [
        {
          "output_type": "execute_result",
          "data": {
            "text/plain": [
              "   dept Region    Department  Crime_pers  Crime_prop  Literacy  Donations  \\\n",
              "0     1      E           Ain       28870       15890        37       5098   \n",
              "1     2      N         Aisne       26226        5521        51       8901   \n",
              "2     3      C        Allier       26747        7925        13      10973   \n",
              "3     4      E  Basses-Alpes       12935        7289        46       2733   \n",
              "4     5      E  Hautes-Alpes       17488        8174        69       6962   \n",
              "\n",
              "   Infants  Suicides MainCity  ...  Crime_parents  Infanticide  \\\n",
              "0    33120     35039    2:Med  ...             71           60   \n",
              "1    14572     12831    2:Med  ...              4           82   \n",
              "2    17044    114121    2:Med  ...             46           42   \n",
              "3    23018     14238     1:Sm  ...             70           12   \n",
              "4    23076     16171     1:Sm  ...             22           23   \n",
              "\n",
              "   Donation_clergy  Lottery  Desertion  Instruction  Prostitutes  Distance  \\\n",
              "0               69       41         55           46           13   218.372   \n",
              "1               36       38         82           24          327    65.945   \n",
              "2               76       66         16           85           34   161.927   \n",
              "3               37       80         32           29            2   351.399   \n",
              "4               64       79         35            7            1   320.280   \n",
              "\n",
              "   Area  Pop1831  \n",
              "0  5762   346.03  \n",
              "1  7369   513.00  \n",
              "2  7340   298.26  \n",
              "3  6925   155.90  \n",
              "4  5549   129.10  \n",
              "\n",
              "[5 rows x 23 columns]"
            ],
            "text/html": [
              "\n",
              "  <div id=\"df-a18d0645-e705-4404-b68c-478ea4fc1322\">\n",
              "    <div class=\"colab-df-container\">\n",
              "      <div>\n",
              "<style scoped>\n",
              "    .dataframe tbody tr th:only-of-type {\n",
              "        vertical-align: middle;\n",
              "    }\n",
              "\n",
              "    .dataframe tbody tr th {\n",
              "        vertical-align: top;\n",
              "    }\n",
              "\n",
              "    .dataframe thead th {\n",
              "        text-align: right;\n",
              "    }\n",
              "</style>\n",
              "<table border=\"1\" class=\"dataframe\">\n",
              "  <thead>\n",
              "    <tr style=\"text-align: right;\">\n",
              "      <th></th>\n",
              "      <th>dept</th>\n",
              "      <th>Region</th>\n",
              "      <th>Department</th>\n",
              "      <th>Crime_pers</th>\n",
              "      <th>Crime_prop</th>\n",
              "      <th>Literacy</th>\n",
              "      <th>Donations</th>\n",
              "      <th>Infants</th>\n",
              "      <th>Suicides</th>\n",
              "      <th>MainCity</th>\n",
              "      <th>...</th>\n",
              "      <th>Crime_parents</th>\n",
              "      <th>Infanticide</th>\n",
              "      <th>Donation_clergy</th>\n",
              "      <th>Lottery</th>\n",
              "      <th>Desertion</th>\n",
              "      <th>Instruction</th>\n",
              "      <th>Prostitutes</th>\n",
              "      <th>Distance</th>\n",
              "      <th>Area</th>\n",
              "      <th>Pop1831</th>\n",
              "    </tr>\n",
              "  </thead>\n",
              "  <tbody>\n",
              "    <tr>\n",
              "      <th>0</th>\n",
              "      <td>1</td>\n",
              "      <td>E</td>\n",
              "      <td>Ain</td>\n",
              "      <td>28870</td>\n",
              "      <td>15890</td>\n",
              "      <td>37</td>\n",
              "      <td>5098</td>\n",
              "      <td>33120</td>\n",
              "      <td>35039</td>\n",
              "      <td>2:Med</td>\n",
              "      <td>...</td>\n",
              "      <td>71</td>\n",
              "      <td>60</td>\n",
              "      <td>69</td>\n",
              "      <td>41</td>\n",
              "      <td>55</td>\n",
              "      <td>46</td>\n",
              "      <td>13</td>\n",
              "      <td>218.372</td>\n",
              "      <td>5762</td>\n",
              "      <td>346.03</td>\n",
              "    </tr>\n",
              "    <tr>\n",
              "      <th>1</th>\n",
              "      <td>2</td>\n",
              "      <td>N</td>\n",
              "      <td>Aisne</td>\n",
              "      <td>26226</td>\n",
              "      <td>5521</td>\n",
              "      <td>51</td>\n",
              "      <td>8901</td>\n",
              "      <td>14572</td>\n",
              "      <td>12831</td>\n",
              "      <td>2:Med</td>\n",
              "      <td>...</td>\n",
              "      <td>4</td>\n",
              "      <td>82</td>\n",
              "      <td>36</td>\n",
              "      <td>38</td>\n",
              "      <td>82</td>\n",
              "      <td>24</td>\n",
              "      <td>327</td>\n",
              "      <td>65.945</td>\n",
              "      <td>7369</td>\n",
              "      <td>513.00</td>\n",
              "    </tr>\n",
              "    <tr>\n",
              "      <th>2</th>\n",
              "      <td>3</td>\n",
              "      <td>C</td>\n",
              "      <td>Allier</td>\n",
              "      <td>26747</td>\n",
              "      <td>7925</td>\n",
              "      <td>13</td>\n",
              "      <td>10973</td>\n",
              "      <td>17044</td>\n",
              "      <td>114121</td>\n",
              "      <td>2:Med</td>\n",
              "      <td>...</td>\n",
              "      <td>46</td>\n",
              "      <td>42</td>\n",
              "      <td>76</td>\n",
              "      <td>66</td>\n",
              "      <td>16</td>\n",
              "      <td>85</td>\n",
              "      <td>34</td>\n",
              "      <td>161.927</td>\n",
              "      <td>7340</td>\n",
              "      <td>298.26</td>\n",
              "    </tr>\n",
              "    <tr>\n",
              "      <th>3</th>\n",
              "      <td>4</td>\n",
              "      <td>E</td>\n",
              "      <td>Basses-Alpes</td>\n",
              "      <td>12935</td>\n",
              "      <td>7289</td>\n",
              "      <td>46</td>\n",
              "      <td>2733</td>\n",
              "      <td>23018</td>\n",
              "      <td>14238</td>\n",
              "      <td>1:Sm</td>\n",
              "      <td>...</td>\n",
              "      <td>70</td>\n",
              "      <td>12</td>\n",
              "      <td>37</td>\n",
              "      <td>80</td>\n",
              "      <td>32</td>\n",
              "      <td>29</td>\n",
              "      <td>2</td>\n",
              "      <td>351.399</td>\n",
              "      <td>6925</td>\n",
              "      <td>155.90</td>\n",
              "    </tr>\n",
              "    <tr>\n",
              "      <th>4</th>\n",
              "      <td>5</td>\n",
              "      <td>E</td>\n",
              "      <td>Hautes-Alpes</td>\n",
              "      <td>17488</td>\n",
              "      <td>8174</td>\n",
              "      <td>69</td>\n",
              "      <td>6962</td>\n",
              "      <td>23076</td>\n",
              "      <td>16171</td>\n",
              "      <td>1:Sm</td>\n",
              "      <td>...</td>\n",
              "      <td>22</td>\n",
              "      <td>23</td>\n",
              "      <td>64</td>\n",
              "      <td>79</td>\n",
              "      <td>35</td>\n",
              "      <td>7</td>\n",
              "      <td>1</td>\n",
              "      <td>320.280</td>\n",
              "      <td>5549</td>\n",
              "      <td>129.10</td>\n",
              "    </tr>\n",
              "  </tbody>\n",
              "</table>\n",
              "<p>5 rows × 23 columns</p>\n",
              "</div>\n",
              "      <button class=\"colab-df-convert\" onclick=\"convertToInteractive('df-a18d0645-e705-4404-b68c-478ea4fc1322')\"\n",
              "              title=\"Convert this dataframe to an interactive table.\"\n",
              "              style=\"display:none;\">\n",
              "        \n",
              "  <svg xmlns=\"http://www.w3.org/2000/svg\" height=\"24px\"viewBox=\"0 0 24 24\"\n",
              "       width=\"24px\">\n",
              "    <path d=\"M0 0h24v24H0V0z\" fill=\"none\"/>\n",
              "    <path d=\"M18.56 5.44l.94 2.06.94-2.06 2.06-.94-2.06-.94-.94-2.06-.94 2.06-2.06.94zm-11 1L8.5 8.5l.94-2.06 2.06-.94-2.06-.94L8.5 2.5l-.94 2.06-2.06.94zm10 10l.94 2.06.94-2.06 2.06-.94-2.06-.94-.94-2.06-.94 2.06-2.06.94z\"/><path d=\"M17.41 7.96l-1.37-1.37c-.4-.4-.92-.59-1.43-.59-.52 0-1.04.2-1.43.59L10.3 9.45l-7.72 7.72c-.78.78-.78 2.05 0 2.83L4 21.41c.39.39.9.59 1.41.59.51 0 1.02-.2 1.41-.59l7.78-7.78 2.81-2.81c.8-.78.8-2.07 0-2.86zM5.41 20L4 18.59l7.72-7.72 1.47 1.35L5.41 20z\"/>\n",
              "  </svg>\n",
              "      </button>\n",
              "      \n",
              "  <style>\n",
              "    .colab-df-container {\n",
              "      display:flex;\n",
              "      flex-wrap:wrap;\n",
              "      gap: 12px;\n",
              "    }\n",
              "\n",
              "    .colab-df-convert {\n",
              "      background-color: #E8F0FE;\n",
              "      border: none;\n",
              "      border-radius: 50%;\n",
              "      cursor: pointer;\n",
              "      display: none;\n",
              "      fill: #1967D2;\n",
              "      height: 32px;\n",
              "      padding: 0 0 0 0;\n",
              "      width: 32px;\n",
              "    }\n",
              "\n",
              "    .colab-df-convert:hover {\n",
              "      background-color: #E2EBFA;\n",
              "      box-shadow: 0px 1px 2px rgba(60, 64, 67, 0.3), 0px 1px 3px 1px rgba(60, 64, 67, 0.15);\n",
              "      fill: #174EA6;\n",
              "    }\n",
              "\n",
              "    [theme=dark] .colab-df-convert {\n",
              "      background-color: #3B4455;\n",
              "      fill: #D2E3FC;\n",
              "    }\n",
              "\n",
              "    [theme=dark] .colab-df-convert:hover {\n",
              "      background-color: #434B5C;\n",
              "      box-shadow: 0px 1px 3px 1px rgba(0, 0, 0, 0.15);\n",
              "      filter: drop-shadow(0px 1px 2px rgba(0, 0, 0, 0.3));\n",
              "      fill: #FFFFFF;\n",
              "    }\n",
              "  </style>\n",
              "\n",
              "      <script>\n",
              "        const buttonEl =\n",
              "          document.querySelector('#df-a18d0645-e705-4404-b68c-478ea4fc1322 button.colab-df-convert');\n",
              "        buttonEl.style.display =\n",
              "          google.colab.kernel.accessAllowed ? 'block' : 'none';\n",
              "\n",
              "        async function convertToInteractive(key) {\n",
              "          const element = document.querySelector('#df-a18d0645-e705-4404-b68c-478ea4fc1322');\n",
              "          const dataTable =\n",
              "            await google.colab.kernel.invokeFunction('convertToInteractive',\n",
              "                                                     [key], {});\n",
              "          if (!dataTable) return;\n",
              "\n",
              "          const docLinkHtml = 'Like what you see? Visit the ' +\n",
              "            '<a target=\"_blank\" href=https://colab.research.google.com/notebooks/data_table.ipynb>data table notebook</a>'\n",
              "            + ' to learn more about interactive tables.';\n",
              "          element.innerHTML = '';\n",
              "          dataTable['output_type'] = 'display_data';\n",
              "          await google.colab.output.renderOutput(dataTable, element);\n",
              "          const docLink = document.createElement('div');\n",
              "          docLink.innerHTML = docLinkHtml;\n",
              "          element.appendChild(docLink);\n",
              "        }\n",
              "      </script>\n",
              "    </div>\n",
              "  </div>\n",
              "  "
            ]
          },
          "metadata": {},
          "execution_count": 5
        }
      ]
    },
    {
      "cell_type": "code",
      "source": [
        "vars = ['Department', 'Lottery', 'Literacy', 'Wealth', 'Region']"
      ],
      "metadata": {
        "id": "iiPDP3MTLBQn"
      },
      "execution_count": null,
      "outputs": []
    },
    {
      "cell_type": "code",
      "source": [
        "df_vars = df[vars]"
      ],
      "metadata": {
        "id": "ALU9t36nLSSr"
      },
      "execution_count": null,
      "outputs": []
    },
    {
      "cell_type": "code",
      "source": [
        "df_vars.tail()"
      ],
      "metadata": {
        "colab": {
          "base_uri": "https://localhost:8080/",
          "height": 206
        },
        "id": "C_AhKb6mLYkU",
        "outputId": "2b0089dc-9445-47b3-b526-6b29844572bb"
      },
      "execution_count": null,
      "outputs": [
        {
          "output_type": "execute_result",
          "data": {
            "text/plain": [
              "      Department  Lottery  Literacy  Wealth Region\n",
              "81        Vienne       40        25      68      W\n",
              "82  Haute-Vienne       55        13      67      C\n",
              "83        Vosges       14        62      82      E\n",
              "84         Yonne       51        47      30      C\n",
              "85         Corse       83        49      37    NaN"
            ],
            "text/html": [
              "\n",
              "  <div id=\"df-95b8d707-9d20-4c87-be5b-be805f3d3a54\">\n",
              "    <div class=\"colab-df-container\">\n",
              "      <div>\n",
              "<style scoped>\n",
              "    .dataframe tbody tr th:only-of-type {\n",
              "        vertical-align: middle;\n",
              "    }\n",
              "\n",
              "    .dataframe tbody tr th {\n",
              "        vertical-align: top;\n",
              "    }\n",
              "\n",
              "    .dataframe thead th {\n",
              "        text-align: right;\n",
              "    }\n",
              "</style>\n",
              "<table border=\"1\" class=\"dataframe\">\n",
              "  <thead>\n",
              "    <tr style=\"text-align: right;\">\n",
              "      <th></th>\n",
              "      <th>Department</th>\n",
              "      <th>Lottery</th>\n",
              "      <th>Literacy</th>\n",
              "      <th>Wealth</th>\n",
              "      <th>Region</th>\n",
              "    </tr>\n",
              "  </thead>\n",
              "  <tbody>\n",
              "    <tr>\n",
              "      <th>81</th>\n",
              "      <td>Vienne</td>\n",
              "      <td>40</td>\n",
              "      <td>25</td>\n",
              "      <td>68</td>\n",
              "      <td>W</td>\n",
              "    </tr>\n",
              "    <tr>\n",
              "      <th>82</th>\n",
              "      <td>Haute-Vienne</td>\n",
              "      <td>55</td>\n",
              "      <td>13</td>\n",
              "      <td>67</td>\n",
              "      <td>C</td>\n",
              "    </tr>\n",
              "    <tr>\n",
              "      <th>83</th>\n",
              "      <td>Vosges</td>\n",
              "      <td>14</td>\n",
              "      <td>62</td>\n",
              "      <td>82</td>\n",
              "      <td>E</td>\n",
              "    </tr>\n",
              "    <tr>\n",
              "      <th>84</th>\n",
              "      <td>Yonne</td>\n",
              "      <td>51</td>\n",
              "      <td>47</td>\n",
              "      <td>30</td>\n",
              "      <td>C</td>\n",
              "    </tr>\n",
              "    <tr>\n",
              "      <th>85</th>\n",
              "      <td>Corse</td>\n",
              "      <td>83</td>\n",
              "      <td>49</td>\n",
              "      <td>37</td>\n",
              "      <td>NaN</td>\n",
              "    </tr>\n",
              "  </tbody>\n",
              "</table>\n",
              "</div>\n",
              "      <button class=\"colab-df-convert\" onclick=\"convertToInteractive('df-95b8d707-9d20-4c87-be5b-be805f3d3a54')\"\n",
              "              title=\"Convert this dataframe to an interactive table.\"\n",
              "              style=\"display:none;\">\n",
              "        \n",
              "  <svg xmlns=\"http://www.w3.org/2000/svg\" height=\"24px\"viewBox=\"0 0 24 24\"\n",
              "       width=\"24px\">\n",
              "    <path d=\"M0 0h24v24H0V0z\" fill=\"none\"/>\n",
              "    <path d=\"M18.56 5.44l.94 2.06.94-2.06 2.06-.94-2.06-.94-.94-2.06-.94 2.06-2.06.94zm-11 1L8.5 8.5l.94-2.06 2.06-.94-2.06-.94L8.5 2.5l-.94 2.06-2.06.94zm10 10l.94 2.06.94-2.06 2.06-.94-2.06-.94-.94-2.06-.94 2.06-2.06.94z\"/><path d=\"M17.41 7.96l-1.37-1.37c-.4-.4-.92-.59-1.43-.59-.52 0-1.04.2-1.43.59L10.3 9.45l-7.72 7.72c-.78.78-.78 2.05 0 2.83L4 21.41c.39.39.9.59 1.41.59.51 0 1.02-.2 1.41-.59l7.78-7.78 2.81-2.81c.8-.78.8-2.07 0-2.86zM5.41 20L4 18.59l7.72-7.72 1.47 1.35L5.41 20z\"/>\n",
              "  </svg>\n",
              "      </button>\n",
              "      \n",
              "  <style>\n",
              "    .colab-df-container {\n",
              "      display:flex;\n",
              "      flex-wrap:wrap;\n",
              "      gap: 12px;\n",
              "    }\n",
              "\n",
              "    .colab-df-convert {\n",
              "      background-color: #E8F0FE;\n",
              "      border: none;\n",
              "      border-radius: 50%;\n",
              "      cursor: pointer;\n",
              "      display: none;\n",
              "      fill: #1967D2;\n",
              "      height: 32px;\n",
              "      padding: 0 0 0 0;\n",
              "      width: 32px;\n",
              "    }\n",
              "\n",
              "    .colab-df-convert:hover {\n",
              "      background-color: #E2EBFA;\n",
              "      box-shadow: 0px 1px 2px rgba(60, 64, 67, 0.3), 0px 1px 3px 1px rgba(60, 64, 67, 0.15);\n",
              "      fill: #174EA6;\n",
              "    }\n",
              "\n",
              "    [theme=dark] .colab-df-convert {\n",
              "      background-color: #3B4455;\n",
              "      fill: #D2E3FC;\n",
              "    }\n",
              "\n",
              "    [theme=dark] .colab-df-convert:hover {\n",
              "      background-color: #434B5C;\n",
              "      box-shadow: 0px 1px 3px 1px rgba(0, 0, 0, 0.15);\n",
              "      filter: drop-shadow(0px 1px 2px rgba(0, 0, 0, 0.3));\n",
              "      fill: #FFFFFF;\n",
              "    }\n",
              "  </style>\n",
              "\n",
              "      <script>\n",
              "        const buttonEl =\n",
              "          document.querySelector('#df-95b8d707-9d20-4c87-be5b-be805f3d3a54 button.colab-df-convert');\n",
              "        buttonEl.style.display =\n",
              "          google.colab.kernel.accessAllowed ? 'block' : 'none';\n",
              "\n",
              "        async function convertToInteractive(key) {\n",
              "          const element = document.querySelector('#df-95b8d707-9d20-4c87-be5b-be805f3d3a54');\n",
              "          const dataTable =\n",
              "            await google.colab.kernel.invokeFunction('convertToInteractive',\n",
              "                                                     [key], {});\n",
              "          if (!dataTable) return;\n",
              "\n",
              "          const docLinkHtml = 'Like what you see? Visit the ' +\n",
              "            '<a target=\"_blank\" href=https://colab.research.google.com/notebooks/data_table.ipynb>data table notebook</a>'\n",
              "            + ' to learn more about interactive tables.';\n",
              "          element.innerHTML = '';\n",
              "          dataTable['output_type'] = 'display_data';\n",
              "          await google.colab.output.renderOutput(dataTable, element);\n",
              "          const docLink = document.createElement('div');\n",
              "          docLink.innerHTML = docLinkHtml;\n",
              "          element.appendChild(docLink);\n",
              "        }\n",
              "      </script>\n",
              "    </div>\n",
              "  </div>\n",
              "  "
            ]
          },
          "metadata": {},
          "execution_count": 8
        }
      ]
    },
    {
      "cell_type": "code",
      "source": [
        "df_vars = df_vars.dropna()\n",
        "df_vars.tail()"
      ],
      "metadata": {
        "colab": {
          "base_uri": "https://localhost:8080/",
          "height": 206
        },
        "id": "VuH1259CNYdl",
        "outputId": "0c53ed4d-fda0-46c5-f819-d638308ca692"
      },
      "execution_count": null,
      "outputs": [
        {
          "output_type": "execute_result",
          "data": {
            "text/plain": [
              "      Department  Lottery  Literacy  Wealth Region\n",
              "80        Vendee       68        28      56      W\n",
              "81        Vienne       40        25      68      W\n",
              "82  Haute-Vienne       55        13      67      C\n",
              "83        Vosges       14        62      82      E\n",
              "84         Yonne       51        47      30      C"
            ],
            "text/html": [
              "\n",
              "  <div id=\"df-4a097b14-5466-45a7-a63f-5d03f23c31ec\">\n",
              "    <div class=\"colab-df-container\">\n",
              "      <div>\n",
              "<style scoped>\n",
              "    .dataframe tbody tr th:only-of-type {\n",
              "        vertical-align: middle;\n",
              "    }\n",
              "\n",
              "    .dataframe tbody tr th {\n",
              "        vertical-align: top;\n",
              "    }\n",
              "\n",
              "    .dataframe thead th {\n",
              "        text-align: right;\n",
              "    }\n",
              "</style>\n",
              "<table border=\"1\" class=\"dataframe\">\n",
              "  <thead>\n",
              "    <tr style=\"text-align: right;\">\n",
              "      <th></th>\n",
              "      <th>Department</th>\n",
              "      <th>Lottery</th>\n",
              "      <th>Literacy</th>\n",
              "      <th>Wealth</th>\n",
              "      <th>Region</th>\n",
              "    </tr>\n",
              "  </thead>\n",
              "  <tbody>\n",
              "    <tr>\n",
              "      <th>80</th>\n",
              "      <td>Vendee</td>\n",
              "      <td>68</td>\n",
              "      <td>28</td>\n",
              "      <td>56</td>\n",
              "      <td>W</td>\n",
              "    </tr>\n",
              "    <tr>\n",
              "      <th>81</th>\n",
              "      <td>Vienne</td>\n",
              "      <td>40</td>\n",
              "      <td>25</td>\n",
              "      <td>68</td>\n",
              "      <td>W</td>\n",
              "    </tr>\n",
              "    <tr>\n",
              "      <th>82</th>\n",
              "      <td>Haute-Vienne</td>\n",
              "      <td>55</td>\n",
              "      <td>13</td>\n",
              "      <td>67</td>\n",
              "      <td>C</td>\n",
              "    </tr>\n",
              "    <tr>\n",
              "      <th>83</th>\n",
              "      <td>Vosges</td>\n",
              "      <td>14</td>\n",
              "      <td>62</td>\n",
              "      <td>82</td>\n",
              "      <td>E</td>\n",
              "    </tr>\n",
              "    <tr>\n",
              "      <th>84</th>\n",
              "      <td>Yonne</td>\n",
              "      <td>51</td>\n",
              "      <td>47</td>\n",
              "      <td>30</td>\n",
              "      <td>C</td>\n",
              "    </tr>\n",
              "  </tbody>\n",
              "</table>\n",
              "</div>\n",
              "      <button class=\"colab-df-convert\" onclick=\"convertToInteractive('df-4a097b14-5466-45a7-a63f-5d03f23c31ec')\"\n",
              "              title=\"Convert this dataframe to an interactive table.\"\n",
              "              style=\"display:none;\">\n",
              "        \n",
              "  <svg xmlns=\"http://www.w3.org/2000/svg\" height=\"24px\"viewBox=\"0 0 24 24\"\n",
              "       width=\"24px\">\n",
              "    <path d=\"M0 0h24v24H0V0z\" fill=\"none\"/>\n",
              "    <path d=\"M18.56 5.44l.94 2.06.94-2.06 2.06-.94-2.06-.94-.94-2.06-.94 2.06-2.06.94zm-11 1L8.5 8.5l.94-2.06 2.06-.94-2.06-.94L8.5 2.5l-.94 2.06-2.06.94zm10 10l.94 2.06.94-2.06 2.06-.94-2.06-.94-.94-2.06-.94 2.06-2.06.94z\"/><path d=\"M17.41 7.96l-1.37-1.37c-.4-.4-.92-.59-1.43-.59-.52 0-1.04.2-1.43.59L10.3 9.45l-7.72 7.72c-.78.78-.78 2.05 0 2.83L4 21.41c.39.39.9.59 1.41.59.51 0 1.02-.2 1.41-.59l7.78-7.78 2.81-2.81c.8-.78.8-2.07 0-2.86zM5.41 20L4 18.59l7.72-7.72 1.47 1.35L5.41 20z\"/>\n",
              "  </svg>\n",
              "      </button>\n",
              "      \n",
              "  <style>\n",
              "    .colab-df-container {\n",
              "      display:flex;\n",
              "      flex-wrap:wrap;\n",
              "      gap: 12px;\n",
              "    }\n",
              "\n",
              "    .colab-df-convert {\n",
              "      background-color: #E8F0FE;\n",
              "      border: none;\n",
              "      border-radius: 50%;\n",
              "      cursor: pointer;\n",
              "      display: none;\n",
              "      fill: #1967D2;\n",
              "      height: 32px;\n",
              "      padding: 0 0 0 0;\n",
              "      width: 32px;\n",
              "    }\n",
              "\n",
              "    .colab-df-convert:hover {\n",
              "      background-color: #E2EBFA;\n",
              "      box-shadow: 0px 1px 2px rgba(60, 64, 67, 0.3), 0px 1px 3px 1px rgba(60, 64, 67, 0.15);\n",
              "      fill: #174EA6;\n",
              "    }\n",
              "\n",
              "    [theme=dark] .colab-df-convert {\n",
              "      background-color: #3B4455;\n",
              "      fill: #D2E3FC;\n",
              "    }\n",
              "\n",
              "    [theme=dark] .colab-df-convert:hover {\n",
              "      background-color: #434B5C;\n",
              "      box-shadow: 0px 1px 3px 1px rgba(0, 0, 0, 0.15);\n",
              "      filter: drop-shadow(0px 1px 2px rgba(0, 0, 0, 0.3));\n",
              "      fill: #FFFFFF;\n",
              "    }\n",
              "  </style>\n",
              "\n",
              "      <script>\n",
              "        const buttonEl =\n",
              "          document.querySelector('#df-4a097b14-5466-45a7-a63f-5d03f23c31ec button.colab-df-convert');\n",
              "        buttonEl.style.display =\n",
              "          google.colab.kernel.accessAllowed ? 'block' : 'none';\n",
              "\n",
              "        async function convertToInteractive(key) {\n",
              "          const element = document.querySelector('#df-4a097b14-5466-45a7-a63f-5d03f23c31ec');\n",
              "          const dataTable =\n",
              "            await google.colab.kernel.invokeFunction('convertToInteractive',\n",
              "                                                     [key], {});\n",
              "          if (!dataTable) return;\n",
              "\n",
              "          const docLinkHtml = 'Like what you see? Visit the ' +\n",
              "            '<a target=\"_blank\" href=https://colab.research.google.com/notebooks/data_table.ipynb>data table notebook</a>'\n",
              "            + ' to learn more about interactive tables.';\n",
              "          element.innerHTML = '';\n",
              "          dataTable['output_type'] = 'display_data';\n",
              "          await google.colab.output.renderOutput(dataTable, element);\n",
              "          const docLink = document.createElement('div');\n",
              "          docLink.innerHTML = docLinkHtml;\n",
              "          element.appendChild(docLink);\n",
              "        }\n",
              "      </script>\n",
              "    </div>\n",
              "  </div>\n",
              "  "
            ]
          },
          "metadata": {},
          "execution_count": 9
        }
      ]
    },
    {
      "cell_type": "markdown",
      "source": [
        "# **Motivação e modelo substantivos¶**\n",
        "\n",
        "Queremos saber se as taxas de alfabetização nos 86 departamentos franceses estão associadas às apostas per capita na Loteria Real na década de 1820. Precisamos controlar o nível de riqueza em cada departamento e também queremos incluir uma série de variáveis ​​dummy no lado direito de nossa equação de regressão para controlar a heterogeneidade não observada devido a efeitos regionais. O modelo é estimado usando a regressão dos mínimos quadrados ordinários (OLS)."
      ],
      "metadata": {
        "id": "api0uXTfPU6e"
      }
    },
    {
      "cell_type": "markdown",
      "source": [
        "## **Matrizes de design ( endog e exog )¶**\n",
        "\n",
        "Para se adequar à maioria dos modelos cobertos por statsmodels, você precisará criar duas matrizes de projeto:\n",
        "* A primeira é uma matriz de variáveis ​​endógenas (ou seja, dependentes, resposta, regressando, etc.).\n",
        "* A segunda é uma matriz de variáveis ​​exógenas (ou seja, independentes, preditoras, regressoras, etc.). As estimativas do coeficiente OLS (**Ordinary Least Squares** - Mínimos Quadrados Comum) são calculadas como de costume: Regressão Linear por Mínimos Quadrados Ordinários.\n",
        "\n",
        "Onde y é uma coluna N x 1 de dados sobre apostas de loteria per capita (Loterry). X é uma coluna N x 7 com um intercepto, as variáveis Literacy e Wealth, e 4 variáveis ​​binárias de região.\n",
        "\n",
        "O patsy módulo fornece uma função conveniente para preparar matrizes de projeto usando R fórmulas semelhantes.\n"
      ],
      "metadata": {
        "id": "-bxp9f4vQC_V"
      }
    },
    {
      "cell_type": "code",
      "source": [
        "#Usamos a função patsy's dmatricespara criar matrizes de design:\n",
        "y, X = dmatrices('Lottery ~ Literacy + Wealth + Region', data=df_vars, return_type='dataframe')"
      ],
      "metadata": {
        "id": "dGmGzHS9TeNU"
      },
      "execution_count": null,
      "outputs": []
    },
    {
      "cell_type": "markdown",
      "source": [
        "Observe que “~” separa o lado esquerdo do modelo do lado direito, e que “+” adiciona novas colunas à matriz de projeto.\n",
        "* Fórmula:  *'variável dependente ~ lista de variáveis ​​independentes separadas pelo símbolo +..'*. Em termos simples, a variável dependente é o fator que você está tentando prever e, do outro lado da fórmula são as variáveis ​​que estão sendo usadas para realizar a \"previsão\". "
      ],
      "metadata": {
        "id": "dXYnvNnuRMxC"
      }
    },
    {
      "cell_type": "code",
      "source": [
        "#As matrizes/quadros de dados resultantes são assim:\n",
        "y[:3]"
      ],
      "metadata": {
        "colab": {
          "base_uri": "https://localhost:8080/",
          "height": 143
        },
        "id": "gVwSi3O6Tm1V",
        "outputId": "f0147350-eace-4d2a-ba93-4a07c0c974e5"
      },
      "execution_count": null,
      "outputs": [
        {
          "output_type": "execute_result",
          "data": {
            "text/plain": [
              "   Lottery\n",
              "0     41.0\n",
              "1     38.0\n",
              "2     66.0"
            ],
            "text/html": [
              "\n",
              "  <div id=\"df-ae381a63-3bf9-4973-afef-c2bfe0453a15\">\n",
              "    <div class=\"colab-df-container\">\n",
              "      <div>\n",
              "<style scoped>\n",
              "    .dataframe tbody tr th:only-of-type {\n",
              "        vertical-align: middle;\n",
              "    }\n",
              "\n",
              "    .dataframe tbody tr th {\n",
              "        vertical-align: top;\n",
              "    }\n",
              "\n",
              "    .dataframe thead th {\n",
              "        text-align: right;\n",
              "    }\n",
              "</style>\n",
              "<table border=\"1\" class=\"dataframe\">\n",
              "  <thead>\n",
              "    <tr style=\"text-align: right;\">\n",
              "      <th></th>\n",
              "      <th>Lottery</th>\n",
              "    </tr>\n",
              "  </thead>\n",
              "  <tbody>\n",
              "    <tr>\n",
              "      <th>0</th>\n",
              "      <td>41.0</td>\n",
              "    </tr>\n",
              "    <tr>\n",
              "      <th>1</th>\n",
              "      <td>38.0</td>\n",
              "    </tr>\n",
              "    <tr>\n",
              "      <th>2</th>\n",
              "      <td>66.0</td>\n",
              "    </tr>\n",
              "  </tbody>\n",
              "</table>\n",
              "</div>\n",
              "      <button class=\"colab-df-convert\" onclick=\"convertToInteractive('df-ae381a63-3bf9-4973-afef-c2bfe0453a15')\"\n",
              "              title=\"Convert this dataframe to an interactive table.\"\n",
              "              style=\"display:none;\">\n",
              "        \n",
              "  <svg xmlns=\"http://www.w3.org/2000/svg\" height=\"24px\"viewBox=\"0 0 24 24\"\n",
              "       width=\"24px\">\n",
              "    <path d=\"M0 0h24v24H0V0z\" fill=\"none\"/>\n",
              "    <path d=\"M18.56 5.44l.94 2.06.94-2.06 2.06-.94-2.06-.94-.94-2.06-.94 2.06-2.06.94zm-11 1L8.5 8.5l.94-2.06 2.06-.94-2.06-.94L8.5 2.5l-.94 2.06-2.06.94zm10 10l.94 2.06.94-2.06 2.06-.94-2.06-.94-.94-2.06-.94 2.06-2.06.94z\"/><path d=\"M17.41 7.96l-1.37-1.37c-.4-.4-.92-.59-1.43-.59-.52 0-1.04.2-1.43.59L10.3 9.45l-7.72 7.72c-.78.78-.78 2.05 0 2.83L4 21.41c.39.39.9.59 1.41.59.51 0 1.02-.2 1.41-.59l7.78-7.78 2.81-2.81c.8-.78.8-2.07 0-2.86zM5.41 20L4 18.59l7.72-7.72 1.47 1.35L5.41 20z\"/>\n",
              "  </svg>\n",
              "      </button>\n",
              "      \n",
              "  <style>\n",
              "    .colab-df-container {\n",
              "      display:flex;\n",
              "      flex-wrap:wrap;\n",
              "      gap: 12px;\n",
              "    }\n",
              "\n",
              "    .colab-df-convert {\n",
              "      background-color: #E8F0FE;\n",
              "      border: none;\n",
              "      border-radius: 50%;\n",
              "      cursor: pointer;\n",
              "      display: none;\n",
              "      fill: #1967D2;\n",
              "      height: 32px;\n",
              "      padding: 0 0 0 0;\n",
              "      width: 32px;\n",
              "    }\n",
              "\n",
              "    .colab-df-convert:hover {\n",
              "      background-color: #E2EBFA;\n",
              "      box-shadow: 0px 1px 2px rgba(60, 64, 67, 0.3), 0px 1px 3px 1px rgba(60, 64, 67, 0.15);\n",
              "      fill: #174EA6;\n",
              "    }\n",
              "\n",
              "    [theme=dark] .colab-df-convert {\n",
              "      background-color: #3B4455;\n",
              "      fill: #D2E3FC;\n",
              "    }\n",
              "\n",
              "    [theme=dark] .colab-df-convert:hover {\n",
              "      background-color: #434B5C;\n",
              "      box-shadow: 0px 1px 3px 1px rgba(0, 0, 0, 0.15);\n",
              "      filter: drop-shadow(0px 1px 2px rgba(0, 0, 0, 0.3));\n",
              "      fill: #FFFFFF;\n",
              "    }\n",
              "  </style>\n",
              "\n",
              "      <script>\n",
              "        const buttonEl =\n",
              "          document.querySelector('#df-ae381a63-3bf9-4973-afef-c2bfe0453a15 button.colab-df-convert');\n",
              "        buttonEl.style.display =\n",
              "          google.colab.kernel.accessAllowed ? 'block' : 'none';\n",
              "\n",
              "        async function convertToInteractive(key) {\n",
              "          const element = document.querySelector('#df-ae381a63-3bf9-4973-afef-c2bfe0453a15');\n",
              "          const dataTable =\n",
              "            await google.colab.kernel.invokeFunction('convertToInteractive',\n",
              "                                                     [key], {});\n",
              "          if (!dataTable) return;\n",
              "\n",
              "          const docLinkHtml = 'Like what you see? Visit the ' +\n",
              "            '<a target=\"_blank\" href=https://colab.research.google.com/notebooks/data_table.ipynb>data table notebook</a>'\n",
              "            + ' to learn more about interactive tables.';\n",
              "          element.innerHTML = '';\n",
              "          dataTable['output_type'] = 'display_data';\n",
              "          await google.colab.output.renderOutput(dataTable, element);\n",
              "          const docLink = document.createElement('div');\n",
              "          docLink.innerHTML = docLinkHtml;\n",
              "          element.appendChild(docLink);\n",
              "        }\n",
              "      </script>\n",
              "    </div>\n",
              "  </div>\n",
              "  "
            ]
          },
          "metadata": {},
          "execution_count": 11
        }
      ]
    },
    {
      "cell_type": "code",
      "source": [
        "X.head()"
      ],
      "metadata": {
        "colab": {
          "base_uri": "https://localhost:8080/",
          "height": 206
        },
        "id": "l9FccYjtXgHH",
        "outputId": "3ecb9699-e836-4f8b-c59b-e31a563f4a74"
      },
      "execution_count": null,
      "outputs": [
        {
          "output_type": "execute_result",
          "data": {
            "text/plain": [
              "   Intercept  Region[T.E]  Region[T.N]  Region[T.S]  Region[T.W]  Literacy  \\\n",
              "0        1.0          1.0          0.0          0.0          0.0      37.0   \n",
              "1        1.0          0.0          1.0          0.0          0.0      51.0   \n",
              "2        1.0          0.0          0.0          0.0          0.0      13.0   \n",
              "3        1.0          1.0          0.0          0.0          0.0      46.0   \n",
              "4        1.0          1.0          0.0          0.0          0.0      69.0   \n",
              "\n",
              "   Wealth  \n",
              "0    73.0  \n",
              "1    22.0  \n",
              "2    61.0  \n",
              "3    76.0  \n",
              "4    83.0  "
            ],
            "text/html": [
              "\n",
              "  <div id=\"df-5b4ef2ff-741d-4f99-bf8a-a3925268bbe3\">\n",
              "    <div class=\"colab-df-container\">\n",
              "      <div>\n",
              "<style scoped>\n",
              "    .dataframe tbody tr th:only-of-type {\n",
              "        vertical-align: middle;\n",
              "    }\n",
              "\n",
              "    .dataframe tbody tr th {\n",
              "        vertical-align: top;\n",
              "    }\n",
              "\n",
              "    .dataframe thead th {\n",
              "        text-align: right;\n",
              "    }\n",
              "</style>\n",
              "<table border=\"1\" class=\"dataframe\">\n",
              "  <thead>\n",
              "    <tr style=\"text-align: right;\">\n",
              "      <th></th>\n",
              "      <th>Intercept</th>\n",
              "      <th>Region[T.E]</th>\n",
              "      <th>Region[T.N]</th>\n",
              "      <th>Region[T.S]</th>\n",
              "      <th>Region[T.W]</th>\n",
              "      <th>Literacy</th>\n",
              "      <th>Wealth</th>\n",
              "    </tr>\n",
              "  </thead>\n",
              "  <tbody>\n",
              "    <tr>\n",
              "      <th>0</th>\n",
              "      <td>1.0</td>\n",
              "      <td>1.0</td>\n",
              "      <td>0.0</td>\n",
              "      <td>0.0</td>\n",
              "      <td>0.0</td>\n",
              "      <td>37.0</td>\n",
              "      <td>73.0</td>\n",
              "    </tr>\n",
              "    <tr>\n",
              "      <th>1</th>\n",
              "      <td>1.0</td>\n",
              "      <td>0.0</td>\n",
              "      <td>1.0</td>\n",
              "      <td>0.0</td>\n",
              "      <td>0.0</td>\n",
              "      <td>51.0</td>\n",
              "      <td>22.0</td>\n",
              "    </tr>\n",
              "    <tr>\n",
              "      <th>2</th>\n",
              "      <td>1.0</td>\n",
              "      <td>0.0</td>\n",
              "      <td>0.0</td>\n",
              "      <td>0.0</td>\n",
              "      <td>0.0</td>\n",
              "      <td>13.0</td>\n",
              "      <td>61.0</td>\n",
              "    </tr>\n",
              "    <tr>\n",
              "      <th>3</th>\n",
              "      <td>1.0</td>\n",
              "      <td>1.0</td>\n",
              "      <td>0.0</td>\n",
              "      <td>0.0</td>\n",
              "      <td>0.0</td>\n",
              "      <td>46.0</td>\n",
              "      <td>76.0</td>\n",
              "    </tr>\n",
              "    <tr>\n",
              "      <th>4</th>\n",
              "      <td>1.0</td>\n",
              "      <td>1.0</td>\n",
              "      <td>0.0</td>\n",
              "      <td>0.0</td>\n",
              "      <td>0.0</td>\n",
              "      <td>69.0</td>\n",
              "      <td>83.0</td>\n",
              "    </tr>\n",
              "  </tbody>\n",
              "</table>\n",
              "</div>\n",
              "      <button class=\"colab-df-convert\" onclick=\"convertToInteractive('df-5b4ef2ff-741d-4f99-bf8a-a3925268bbe3')\"\n",
              "              title=\"Convert this dataframe to an interactive table.\"\n",
              "              style=\"display:none;\">\n",
              "        \n",
              "  <svg xmlns=\"http://www.w3.org/2000/svg\" height=\"24px\"viewBox=\"0 0 24 24\"\n",
              "       width=\"24px\">\n",
              "    <path d=\"M0 0h24v24H0V0z\" fill=\"none\"/>\n",
              "    <path d=\"M18.56 5.44l.94 2.06.94-2.06 2.06-.94-2.06-.94-.94-2.06-.94 2.06-2.06.94zm-11 1L8.5 8.5l.94-2.06 2.06-.94-2.06-.94L8.5 2.5l-.94 2.06-2.06.94zm10 10l.94 2.06.94-2.06 2.06-.94-2.06-.94-.94-2.06-.94 2.06-2.06.94z\"/><path d=\"M17.41 7.96l-1.37-1.37c-.4-.4-.92-.59-1.43-.59-.52 0-1.04.2-1.43.59L10.3 9.45l-7.72 7.72c-.78.78-.78 2.05 0 2.83L4 21.41c.39.39.9.59 1.41.59.51 0 1.02-.2 1.41-.59l7.78-7.78 2.81-2.81c.8-.78.8-2.07 0-2.86zM5.41 20L4 18.59l7.72-7.72 1.47 1.35L5.41 20z\"/>\n",
              "  </svg>\n",
              "      </button>\n",
              "      \n",
              "  <style>\n",
              "    .colab-df-container {\n",
              "      display:flex;\n",
              "      flex-wrap:wrap;\n",
              "      gap: 12px;\n",
              "    }\n",
              "\n",
              "    .colab-df-convert {\n",
              "      background-color: #E8F0FE;\n",
              "      border: none;\n",
              "      border-radius: 50%;\n",
              "      cursor: pointer;\n",
              "      display: none;\n",
              "      fill: #1967D2;\n",
              "      height: 32px;\n",
              "      padding: 0 0 0 0;\n",
              "      width: 32px;\n",
              "    }\n",
              "\n",
              "    .colab-df-convert:hover {\n",
              "      background-color: #E2EBFA;\n",
              "      box-shadow: 0px 1px 2px rgba(60, 64, 67, 0.3), 0px 1px 3px 1px rgba(60, 64, 67, 0.15);\n",
              "      fill: #174EA6;\n",
              "    }\n",
              "\n",
              "    [theme=dark] .colab-df-convert {\n",
              "      background-color: #3B4455;\n",
              "      fill: #D2E3FC;\n",
              "    }\n",
              "\n",
              "    [theme=dark] .colab-df-convert:hover {\n",
              "      background-color: #434B5C;\n",
              "      box-shadow: 0px 1px 3px 1px rgba(0, 0, 0, 0.15);\n",
              "      filter: drop-shadow(0px 1px 2px rgba(0, 0, 0, 0.3));\n",
              "      fill: #FFFFFF;\n",
              "    }\n",
              "  </style>\n",
              "\n",
              "      <script>\n",
              "        const buttonEl =\n",
              "          document.querySelector('#df-5b4ef2ff-741d-4f99-bf8a-a3925268bbe3 button.colab-df-convert');\n",
              "        buttonEl.style.display =\n",
              "          google.colab.kernel.accessAllowed ? 'block' : 'none';\n",
              "\n",
              "        async function convertToInteractive(key) {\n",
              "          const element = document.querySelector('#df-5b4ef2ff-741d-4f99-bf8a-a3925268bbe3');\n",
              "          const dataTable =\n",
              "            await google.colab.kernel.invokeFunction('convertToInteractive',\n",
              "                                                     [key], {});\n",
              "          if (!dataTable) return;\n",
              "\n",
              "          const docLinkHtml = 'Like what you see? Visit the ' +\n",
              "            '<a target=\"_blank\" href=https://colab.research.google.com/notebooks/data_table.ipynb>data table notebook</a>'\n",
              "            + ' to learn more about interactive tables.';\n",
              "          element.innerHTML = '';\n",
              "          dataTable['output_type'] = 'display_data';\n",
              "          await google.colab.output.renderOutput(dataTable, element);\n",
              "          const docLink = document.createElement('div');\n",
              "          docLink.innerHTML = docLinkHtml;\n",
              "          element.appendChild(docLink);\n",
              "        }\n",
              "      </script>\n",
              "    </div>\n",
              "  </div>\n",
              "  "
            ]
          },
          "metadata": {},
          "execution_count": 12
        }
      ]
    },
    {
      "cell_type": "code",
      "source": [
        "# Criando o modelo\n",
        "mod = sm.OLS(y, X)"
      ],
      "metadata": {
        "id": "CHCFciO7ZhMx"
      },
      "execution_count": null,
      "outputs": []
    },
    {
      "cell_type": "code",
      "source": [
        "# usando o modelo para criar uma linha de melhor ajuste - Regressão Linear\n",
        "res = mod.fit()"
      ],
      "metadata": {
        "id": "oObseaiaZujY"
      },
      "execution_count": null,
      "outputs": []
    },
    {
      "cell_type": "code",
      "source": [
        "# Imprimindo o resumo\n",
        "print(res.summary())"
      ],
      "metadata": {
        "colab": {
          "base_uri": "https://localhost:8080/"
        },
        "id": "5EeygGWNZ5vE",
        "outputId": "6c974c8c-4dc6-4097-f4bf-cd9ca779a3de"
      },
      "execution_count": null,
      "outputs": [
        {
          "output_type": "stream",
          "name": "stdout",
          "text": [
            "                            OLS Regression Results                            \n",
            "==============================================================================\n",
            "Dep. Variable:                Lottery   R-squared:                       0.338\n",
            "Model:                            OLS   Adj. R-squared:                  0.287\n",
            "Method:                 Least Squares   F-statistic:                     6.636\n",
            "Date:                Wed, 13 Apr 2022   Prob (F-statistic):           1.07e-05\n",
            "Time:                        16:54:14   Log-Likelihood:                -375.30\n",
            "No. Observations:                  85   AIC:                             764.6\n",
            "Df Residuals:                      78   BIC:                             781.7\n",
            "Df Model:                           6                                         \n",
            "Covariance Type:            nonrobust                                         \n",
            "===============================================================================\n",
            "                  coef    std err          t      P>|t|      [0.025      0.975]\n",
            "-------------------------------------------------------------------------------\n",
            "Intercept      38.6517      9.456      4.087      0.000      19.826      57.478\n",
            "Region[T.E]   -15.4278      9.727     -1.586      0.117     -34.793       3.938\n",
            "Region[T.N]   -10.0170      9.260     -1.082      0.283     -28.453       8.419\n",
            "Region[T.S]    -4.5483      7.279     -0.625      0.534     -19.039       9.943\n",
            "Region[T.W]   -10.0913      7.196     -1.402      0.165     -24.418       4.235\n",
            "Literacy       -0.1858      0.210     -0.886      0.378      -0.603       0.232\n",
            "Wealth          0.4515      0.103      4.390      0.000       0.247       0.656\n",
            "==============================================================================\n",
            "Omnibus:                        3.049   Durbin-Watson:                   1.785\n",
            "Prob(Omnibus):                  0.218   Jarque-Bera (JB):                2.694\n",
            "Skew:                          -0.340   Prob(JB):                        0.260\n",
            "Kurtosis:                       2.454   Cond. No.                         371.\n",
            "==============================================================================\n",
            "\n",
            "Warnings:\n",
            "[1] Standard Errors assume that the covariance matrix of the errors is correctly specified.\n"
          ]
        }
      ]
    },
    {
      "cell_type": "markdown",
      "source": [
        "## **Lendo os Resultados: OLS Regression Results**\n",
        "* Dep. Variable: variável dependente \"Lottery\"\n",
        "* Modelo: OLS - Mínimos Quadrados Ordinários\n",
        "* Date / Time: Data e Hora em que criamos o modelo\n",
        "* No. Observations: número de observações no conjunto de dados\n",
        "* Df Residuals: outra notação para Graus de Liberdade no modelo.  É calculado na forma de 'nk-1' ou 'número de observações-número de variáveis ​​de previsão-1'.\n",
        "*  Df Model: numera as variáveis de previsão\n",
        "* Covariance Type: é uma medida que explica como duas variáveis estão ligadas de forma positiva ou negativa. (covariância robusta é aquela calculada de forma a minimizar ou eliminar variáveis)\n",
        "* R-squared: é a medida de quanto da variável independente é explicada por mudanças em nossas variáveis ​​dependentes. Em termos percentuais, 0,338 significaria que nosso modelo explica 33,8% da mudança em nossa variável 'Lottery'.\n",
        "* Adj. R-squared: analisa a eficácia de multiplas variáveis, dependendo do modelo.\n",
        "* F-statistic: é um valor obtido quando você executa a análise de regressão para descobrir se as médias entre duas populações são significativamente diferentes. (https://www.statisticshowto.com/probability-and-statistics/f-statistic-value-test/)\n",
        "* Prob (F-Statistic): refere-se a precisão da hipótese nula, ou se é preciso que o efeito de suas variáveis ​​seja 0. Neste caso, está nos dizendo 0,00107% de chance disso.\n",
        "* Log-Likelihood: é probabilidade de que seu modelo tenha produzido os dados fornecidos. Ele é usado para comparar valores de coeficiente para cada variável no processo de criação do modelo.\n",
        "* AIC / BIC: são usados ​​para comparar a eficácia de modelos no processo de regressão linear, usando um sistema de penalidade para medir múltiplas variáveis. Esses números são usados ​​para a seleção de recursos de variáveis.\n",
        "* O Intercept é o resultado do nosso modelo se todas as variáveis ​​fossem ajustadas para 0. Na clássica fórmula linear 'y = mx+b', é nosso b, uma constante adicionada para explicar um valor inicial para nossa linha.\n",
        "* Abaixo da interceptação estão nossas variáveis. Lembra da nossa fórmula? 'Literacy + Wealth + Region'. Aqui vemos nossas variáveis ​​dependentes representadas. Mas por que existem quatro versões diferentes de Region quando inserimos apenas uma? Simplificando, a fórmula espera valores contínuos na forma de números. Ao inserir a região com pontos de dados como strings, a fórmula separa cada string em categorias e analisa a categoria separadamente. Formatar seus dados com antecedência pode ajudá-lo a organizar e analisar isso corretamente.\n",
        "* coef: é o valor da interceptação. Para cada variável, é a medida de como a mudança nessa variável afeta a variável independente. É o 'm' em 'y = mx + b' Uma unidade de mudança na variável dependente afetará o valor de mudança do coeficiente da variável na variável independente. Se o coeficiente for negativo, eles têm uma relação inversa. À medida que um sobe, o outro desce.\n",
        "* std err: é uma estimativa do desvio padrão do coeficiente, uma medida da quantidade de variação no coeficiente ao longo de seus pontos de dados. O t está relacionado e é uma medida da precisão com que o coeficiente foi medido. Um erro std baixo comparado a um coeficiente alto produz uma estatística t alta, o que denota uma significância alta para o seu coeficiente.\n",
        "* P>|t|: é uma das estatísticas mais importantes no resumo. Ele usa a estatística t para produzir o valor p , uma medida da probabilidade de seu coeficiente ser medido por acaso por meio de nosso modelo. O valor p de 0,378 para \"Wealth\" está dizendo que há 37,8% de chance de a variável \"Wealth\" não afetar a variável dependente, \"Lottery\", e nossos resultados são produzidos por acaso. A análise adequada do modelo irá comparar o valor p com um valor alfa previamente estabelecido, ou um limite com o qual podemos aplicar significância ao nosso coeficiente. Um alfa comum é 0,05, que poucas de nossas variáveis ​​passam nesta instância.\n",
        "* [0,025 e 0,975]: são ambas medidas de valores de nossos coeficientes dentro de 95% de nossos dados, ou dentro de dois desvios padrão. Fora desses valores geralmente podem ser considerados valores discrepantes.\n",
        "*Omnibus: descreve a normalidade da distribuição de nossos resíduos usando skew e curtose como medidas. Um 0 indicaria normalidade perfeita.\n",
        "* Prob(Omnibus): é um teste estatístico que mede a probabilidade de os resíduos serem normalmente distribuídos. Um 1 indicaria distribuição perfeitamente normal. \n",
        "* Skew é uma medida de simetria em nossos dados, sendo 0 simetria perfeita. A curtose mede o pico de nossos dados, ou sua concentração em torno de 0 em uma curva normal. \n",
        "* Kurtosis: mais alta implica menos outliers.\n",
        "* Durbin-Watson é uma medida de homocedasticidade, ou uma distribuição uniforme de erros ao longo de nossos dados. A heterocedasticidade implicaria uma distribuição desigual, por exemplo, à medida que o ponto de dados aumenta, o erro relativo aumenta. A homocedasticidade ideal ficará entre 1 e 2. \n",
        "* Jarque-Bera (JB) e Prob(JB): são métodos alternativos de medir o mesmo valor que Omnibus e Prob(Omnibus) usando assimetria e curtose. Usamos esses valores para confirmar um ao outro.\n",
        "* Cond. No.: é uma medida da sensibilidade do nosso modelo em comparação com o tamanho das mudanças nos dados que está analisando.\n",
        "\n",
        "\n",
        "**Referências do resumo supracitado**:\n",
        "* https://medium.com/swlh/interpreting-linear-regression-through-statsmodels-summary-4796d359035a#:~:text=OLS%20is%20a%20common%20technique,the%20amount%20of%20error%20produced.\n",
        "* https://www.statsmodels.org/stable/example_formulas.html"
      ],
      "metadata": {
        "id": "qwYlChZefBBl"
      }
    },
    {
      "cell_type": "markdown",
      "source": [
        "## Variáveis Categóricas:\n",
        "https://www.statsmodels.org/stable/example_formulas.html\n",
        "\n",
        "Observando o resumo impresso acima, observe que patsy determinou que os elementos de Region eram strings de texto, então tratou Region como uma variável categórica. o padrão de patsy também é incluir uma interceptação, então automaticamente descartamos uma das categorias de região.\n",
        "\n",
        "Se Region fosse uma variável inteira e quezéssemos tratar explicitamente como categórica, poderíamos ter feito isso usando o operador C():"
      ],
      "metadata": {
        "id": "D-QPiutlOp8V"
      }
    },
    {
      "cell_type": "code",
      "source": [
        "import statsmodels.formula.api as smf\n",
        "res=smf.ols(formula='Lottery ~ Literacy + Wealth + C(Region)', data=df_vars).fit()\n",
        "print(res.params)"
      ],
      "metadata": {
        "colab": {
          "base_uri": "https://localhost:8080/"
        },
        "id": "81GJqjDLPJap",
        "outputId": "4d48d7b0-8bdc-4a3e-ced4-ce05bbe8fb2e"
      },
      "execution_count": null,
      "outputs": [
        {
          "output_type": "stream",
          "name": "stdout",
          "text": [
            "Intercept         38.651655\n",
            "C(Region)[T.E]   -15.427785\n",
            "C(Region)[T.N]   -10.016961\n",
            "C(Region)[T.S]    -4.548257\n",
            "C(Region)[T.W]   -10.091276\n",
            "Literacy          -0.185819\n",
            "Wealth             0.451475\n",
            "dtype: float64\n"
          ]
        }
      ]
    },
    {
      "cell_type": "code",
      "source": [
        "dir(res)"
      ],
      "metadata": {
        "id": "FSjM9lZ135zp"
      },
      "execution_count": null,
      "outputs": []
    },
    {
      "cell_type": "markdown",
      "source": [
        "# **Testes de diagnóstico e especificação**\n",
        "\n",
        "statsmodels permite que você conduza uma série de diagnósticos de regressão úteis e testes de especificação."
      ],
      "metadata": {
        "id": "ws5SoCKpBkFI"
      }
    },
    {
      "cell_type": "markdown",
      "source": [
        "Por exemplo, aplique o teste Rainbow para linearidade (a hipótese nula é que a relação está devidamente modelada como linear):"
      ],
      "metadata": {
        "id": "V0kgAu1jB3j_"
      }
    },
    {
      "cell_type": "code",
      "source": [
        "sm.stats.linear_rainbow(res)"
      ],
      "metadata": {
        "colab": {
          "base_uri": "https://localhost:8080/"
        },
        "id": "PSpVpFLdB4-Y",
        "outputId": "83541684-7ca3-4741-94b5-e6f0d281f929"
      },
      "execution_count": null,
      "outputs": [
        {
          "output_type": "execute_result",
          "data": {
            "text/plain": [
              "(0.847233997615691, 0.6997965543621644)"
            ]
          },
          "metadata": {},
          "execution_count": 22
        }
      ]
    },
    {
      "cell_type": "code",
      "source": [
        "print(sm.stats.linear_rainbow.__doc__)"
      ],
      "metadata": {
        "colab": {
          "base_uri": "https://localhost:8080/"
        },
        "id": "FMCxxNN2C0in",
        "outputId": "e68e8d0d-5251-4cb5-b616-6b71f201058e"
      },
      "execution_count": null,
      "outputs": [
        {
          "output_type": "stream",
          "name": "stdout",
          "text": [
            "Rainbow test for linearity\n",
            "\n",
            "    The Null hypothesis is that the regression is correctly modelled as linear.\n",
            "    The alternative for which the power might be large are convex, check\n",
            "\n",
            "    Parameters\n",
            "    ----------\n",
            "    res : Result instance\n",
            "\n",
            "    Returns\n",
            "    -------\n",
            "    fstat : float\n",
            "        test statistic based of F test\n",
            "    pvalue : float\n",
            "        pvalue of the test\n",
            "\n",
            "    \n"
          ]
        }
      ]
    },
    {
      "cell_type": "code",
      "source": [
        "print(res.summary2())"
      ],
      "metadata": {
        "colab": {
          "base_uri": "https://localhost:8080/"
        },
        "id": "Ga-VH8YmEZPy",
        "outputId": "120aaf64-0bb8-4a74-f999-257ae086b404"
      },
      "execution_count": null,
      "outputs": [
        {
          "output_type": "stream",
          "name": "stdout",
          "text": [
            "                 Results: Ordinary least squares\n",
            "=================================================================\n",
            "Model:              OLS              Adj. R-squared:     0.287   \n",
            "Dependent Variable: Lottery          AIC:                764.5986\n",
            "Date:               2022-04-13 18:01 BIC:                781.6971\n",
            "No. Observations:   85               Log-Likelihood:     -375.30 \n",
            "Df Model:           6                F-statistic:        6.636   \n",
            "Df Residuals:       78               Prob (F-statistic): 1.07e-05\n",
            "R-squared:          0.338            Scale:              436.43  \n",
            "-----------------------------------------------------------------\n",
            "                 Coef.   Std.Err.    t    P>|t|   [0.025   0.975]\n",
            "-----------------------------------------------------------------\n",
            "Intercept        38.6517   9.4563  4.0874 0.0001  19.8255 57.4778\n",
            "Region[T.E]     -15.4278   9.7273 -1.5860 0.1168 -34.7934  3.9378\n",
            "Region[T.N]     -10.0170   9.2603 -1.0817 0.2827 -28.4528  8.4188\n",
            "Region[T.S]      -4.5483   7.2789 -0.6249 0.5339 -19.0394  9.9429\n",
            "Region[T.W]     -10.0913   7.1961 -1.4023 0.1648 -24.4176  4.2351\n",
            "Literacy         -0.1858   0.2098 -0.8857 0.3785  -0.6035  0.2319\n",
            "Wealth            0.4515   0.1028  4.3899 0.0000   0.2467  0.6562\n",
            "-----------------------------------------------------------------\n",
            "Omnibus:               3.049        Durbin-Watson:          1.785\n",
            "Prob(Omnibus):         0.218        Jarque-Bera (JB):       2.694\n",
            "Skew:                  -0.340       Prob(JB):               0.260\n",
            "Kurtosis:              2.454        Condition No.:          371  \n",
            "=================================================================\n",
            "\n"
          ]
        }
      ]
    },
    {
      "cell_type": "markdown",
      "source": [
        "statsmodels também fornece funções gráficas.\n",
        "\n",
        "Por exemplo, podemos desenhar um gráfico de regressão parcial para um conjunto de regressores por:"
      ],
      "metadata": {
        "id": "13FJMMfoKuyE"
      }
    },
    {
      "cell_type": "code",
      "source": [
        "sm.graphics.plot_partregress('Lottery', 'Wealth', ['Region', 'Literacy'], data=df_vars, obs_labels=False)"
      ],
      "metadata": {
        "colab": {
          "base_uri": "https://localhost:8080/",
          "height": 575
        },
        "id": "bn1k4Gy3F8nR",
        "outputId": "82962d4d-06cc-49d8-8f81-00b2494ea7da"
      },
      "execution_count": null,
      "outputs": [
        {
          "output_type": "execute_result",
          "data": {
            "text/plain": [
              "<Figure size 432x288 with 1 Axes>"
            ],
            "image/png": "[encoded data removed]"
          },
          "metadata": {},
          "execution_count": 61
        },
        {
          "output_type": "display_data",
          "data": {
            "text/plain": [
              "<Figure size 432x288 with 1 Axes>"
            ],
            "image/png": "[encoded data removed]"
          },
          "metadata": {
            "needs_background": "light"
          }
        }
      ]
    },
    {
      "cell_type": "markdown",
      "source": [
        "# Pratique com os seguintes exemplos:\n",
        "https://www.statsmodels.org/stable/examples/notebooks/generated/ols.html"
      ],
      "metadata": {
        "id": "gJ8AQdjEummS"
      }
    }
  ]
}