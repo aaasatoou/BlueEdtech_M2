{
  "nbformat": 4,
  "nbformat_minor": 0,
  "metadata": {
    "colab": {
      "name": "M2Codelab_02.ipynb",
      "provenance": [],
      "authorship_tag": "ABX9TyNzyQjeB5yi7yJgUsuUZWa6"
    },
    "kernelspec": {
      "name": "python3",
      "display_name": "Python 3"
    },
    "language_info": {
      "name": "python"
    }
  },
  "cells": [
    {
      "cell_type": "code",
      "execution_count": 1,
      "metadata": {
        "colab": {
          "base_uri": "https://localhost:8080/"
        },
        "id": "FblTl2ph_BTe",
        "outputId": "b4fd3c6e-697a-4ded-9988-8afb35f08b74"
      },
      "outputs": [
        {
          "output_type": "stream",
          "name": "stderr",
          "text": [
            "/usr/local/lib/python3.7/dist-packages/statsmodels/tools/_testing.py:19: FutureWarning: pandas.util.testing is deprecated. Use the functions in the public API at pandas.testing instead.\n",
            "  import pandas.util.testing as tm\n"
          ]
        }
      ],
      "source": [
        "import pandas as pd\n",
        "import statsmodels.api as sm\n",
        "from patsy import dmatrices\n",
        "import datetime"
      ]
    },
    {
      "cell_type": "code",
      "source": [
        "df = pd.read_csv('/content/day.csv')\n"
      ],
      "metadata": {
        "id": "NtdP0pUO_qGt"
      },
      "execution_count": 2,
      "outputs": []
    },
    {
      "cell_type": "markdown",
      "source": [
        "### 1. Obtenha um modelo a partir da função statsmodels.api"
      ],
      "metadata": {
        "id": "t9cdOeG_Udt4"
      }
    },
    {
      "cell_type": "code",
      "source": [
        "df.tail()"
      ],
      "metadata": {
        "colab": {
          "base_uri": "https://localhost:8080/",
          "height": 206
        },
        "id": "-DIbUvCFLoWu",
        "outputId": "8660780f-d503-4a48-e8e8-a50e461d28fe"
      },
      "execution_count": 3,
      "outputs": [
        {
          "output_type": "execute_result",
          "data": {
            "text/plain": [
              "     instant      dteday  season  yr  mnth  holiday  weekday  workingday  \\\n",
              "726      727  2012-12-27       1   1    12        0        4           1   \n",
              "727      728  2012-12-28       1   1    12        0        5           1   \n",
              "728      729  2012-12-29       1   1    12        0        6           0   \n",
              "729      730  2012-12-30       1   1    12        0        0           0   \n",
              "730      731  2012-12-31       1   1    12        0        1           1   \n",
              "\n",
              "     weathersit      temp     atemp       hum  windspeed  casual  registered  \\\n",
              "726           2  0.254167  0.226642  0.652917   0.350133     247        1867   \n",
              "727           2  0.253333  0.255046  0.590000   0.155471     644        2451   \n",
              "728           2  0.253333  0.242400  0.752917   0.124383     159        1182   \n",
              "729           1  0.255833  0.231700  0.483333   0.350754     364        1432   \n",
              "730           2  0.215833  0.223487  0.577500   0.154846     439        2290   \n",
              "\n",
              "      cnt  \n",
              "726  2114  \n",
              "727  3095  \n",
              "728  1341  \n",
              "729  1796  \n",
              "730  2729  "
            ],
            "text/html": [
              "\n",
              "  <div id=\"df-27c39d4e-cfe1-43da-ac47-a1ff43af0e72\">\n",
              "    <div class=\"colab-df-container\">\n",
              "      <div>\n",
              "<style scoped>\n",
              "    .dataframe tbody tr th:only-of-type {\n",
              "        vertical-align: middle;\n",
              "    }\n",
              "\n",
              "    .dataframe tbody tr th {\n",
              "        vertical-align: top;\n",
              "    }\n",
              "\n",
              "    .dataframe thead th {\n",
              "        text-align: right;\n",
              "    }\n",
              "</style>\n",
              "<table border=\"1\" class=\"dataframe\">\n",
              "  <thead>\n",
              "    <tr style=\"text-align: right;\">\n",
              "      <th></th>\n",
              "      <th>instant</th>\n",
              "      <th>dteday</th>\n",
              "      <th>season</th>\n",
              "      <th>yr</th>\n",
              "      <th>mnth</th>\n",
              "      <th>holiday</th>\n",
              "      <th>weekday</th>\n",
              "      <th>workingday</th>\n",
              "      <th>weathersit</th>\n",
              "      <th>temp</th>\n",
              "      <th>atemp</th>\n",
              "      <th>hum</th>\n",
              "      <th>windspeed</th>\n",
              "      <th>casual</th>\n",
              "      <th>registered</th>\n",
              "      <th>cnt</th>\n",
              "    </tr>\n",
              "  </thead>\n",
              "  <tbody>\n",
              "    <tr>\n",
              "      <th>726</th>\n",
              "      <td>727</td>\n",
              "      <td>2012-12-27</td>\n",
              "      <td>1</td>\n",
              "      <td>1</td>\n",
              "      <td>12</td>\n",
              "      <td>0</td>\n",
              "      <td>4</td>\n",
              "      <td>1</td>\n",
              "      <td>2</td>\n",
              "      <td>0.254167</td>\n",
              "      <td>0.226642</td>\n",
              "      <td>0.652917</td>\n",
              "      <td>0.350133</td>\n",
              "      <td>247</td>\n",
              "      <td>1867</td>\n",
              "      <td>2114</td>\n",
              "    </tr>\n",
              "    <tr>\n",
              "      <th>727</th>\n",
              "      <td>728</td>\n",
              "      <td>2012-12-28</td>\n",
              "      <td>1</td>\n",
              "      <td>1</td>\n",
              "      <td>12</td>\n",
              "      <td>0</td>\n",
              "      <td>5</td>\n",
              "      <td>1</td>\n",
              "      <td>2</td>\n",
              "      <td>0.253333</td>\n",
              "      <td>0.255046</td>\n",
              "      <td>0.590000</td>\n",
              "      <td>0.155471</td>\n",
              "      <td>644</td>\n",
              "      <td>2451</td>\n",
              "      <td>3095</td>\n",
              "    </tr>\n",
              "    <tr>\n",
              "      <th>728</th>\n",
              "      <td>729</td>\n",
              "      <td>2012-12-29</td>\n",
              "      <td>1</td>\n",
              "      <td>1</td>\n",
              "      <td>12</td>\n",
              "      <td>0</td>\n",
              "      <td>6</td>\n",
              "      <td>0</td>\n",
              "      <td>2</td>\n",
              "      <td>0.253333</td>\n",
              "      <td>0.242400</td>\n",
              "      <td>0.752917</td>\n",
              "      <td>0.124383</td>\n",
              "      <td>159</td>\n",
              "      <td>1182</td>\n",
              "      <td>1341</td>\n",
              "    </tr>\n",
              "    <tr>\n",
              "      <th>729</th>\n",
              "      <td>730</td>\n",
              "      <td>2012-12-30</td>\n",
              "      <td>1</td>\n",
              "      <td>1</td>\n",
              "      <td>12</td>\n",
              "      <td>0</td>\n",
              "      <td>0</td>\n",
              "      <td>0</td>\n",
              "      <td>1</td>\n",
              "      <td>0.255833</td>\n",
              "      <td>0.231700</td>\n",
              "      <td>0.483333</td>\n",
              "      <td>0.350754</td>\n",
              "      <td>364</td>\n",
              "      <td>1432</td>\n",
              "      <td>1796</td>\n",
              "    </tr>\n",
              "    <tr>\n",
              "      <th>730</th>\n",
              "      <td>731</td>\n",
              "      <td>2012-12-31</td>\n",
              "      <td>1</td>\n",
              "      <td>1</td>\n",
              "      <td>12</td>\n",
              "      <td>0</td>\n",
              "      <td>1</td>\n",
              "      <td>1</td>\n",
              "      <td>2</td>\n",
              "      <td>0.215833</td>\n",
              "      <td>0.223487</td>\n",
              "      <td>0.577500</td>\n",
              "      <td>0.154846</td>\n",
              "      <td>439</td>\n",
              "      <td>2290</td>\n",
              "      <td>2729</td>\n",
              "    </tr>\n",
              "  </tbody>\n",
              "</table>\n",
              "</div>\n",
              "      <button class=\"colab-df-convert\" onclick=\"convertToInteractive('df-27c39d4e-cfe1-43da-ac47-a1ff43af0e72')\"\n",
              "              title=\"Convert this dataframe to an interactive table.\"\n",
              "              style=\"display:none;\">\n",
              "        \n",
              "  <svg xmlns=\"http://www.w3.org/2000/svg\" height=\"24px\"viewBox=\"0 0 24 24\"\n",
              "       width=\"24px\">\n",
              "    <path d=\"M0 0h24v24H0V0z\" fill=\"none\"/>\n",
              "    <path d=\"M18.56 5.44l.94 2.06.94-2.06 2.06-.94-2.06-.94-.94-2.06-.94 2.06-2.06.94zm-11 1L8.5 8.5l.94-2.06 2.06-.94-2.06-.94L8.5 2.5l-.94 2.06-2.06.94zm10 10l.94 2.06.94-2.06 2.06-.94-2.06-.94-.94-2.06-.94 2.06-2.06.94z\"/><path d=\"M17.41 7.96l-1.37-1.37c-.4-.4-.92-.59-1.43-.59-.52 0-1.04.2-1.43.59L10.3 9.45l-7.72 7.72c-.78.78-.78 2.05 0 2.83L4 21.41c.39.39.9.59 1.41.59.51 0 1.02-.2 1.41-.59l7.78-7.78 2.81-2.81c.8-.78.8-2.07 0-2.86zM5.41 20L4 18.59l7.72-7.72 1.47 1.35L5.41 20z\"/>\n",
              "  </svg>\n",
              "      </button>\n",
              "      \n",
              "  <style>\n",
              "    .colab-df-container {\n",
              "      display:flex;\n",
              "      flex-wrap:wrap;\n",
              "      gap: 12px;\n",
              "    }\n",
              "\n",
              "    .colab-df-convert {\n",
              "      background-color: #E8F0FE;\n",
              "      border: none;\n",
              "      border-radius: 50%;\n",
              "      cursor: pointer;\n",
              "      display: none;\n",
              "      fill: #1967D2;\n",
              "      height: 32px;\n",
              "      padding: 0 0 0 0;\n",
              "      width: 32px;\n",
              "    }\n",
              "\n",
              "    .colab-df-convert:hover {\n",
              "      background-color: #E2EBFA;\n",
              "      box-shadow: 0px 1px 2px rgba(60, 64, 67, 0.3), 0px 1px 3px 1px rgba(60, 64, 67, 0.15);\n",
              "      fill: #174EA6;\n",
              "    }\n",
              "\n",
              "    [theme=dark] .colab-df-convert {\n",
              "      background-color: #3B4455;\n",
              "      fill: #D2E3FC;\n",
              "    }\n",
              "\n",
              "    [theme=dark] .colab-df-convert:hover {\n",
              "      background-color: #434B5C;\n",
              "      box-shadow: 0px 1px 3px 1px rgba(0, 0, 0, 0.15);\n",
              "      filter: drop-shadow(0px 1px 2px rgba(0, 0, 0, 0.3));\n",
              "      fill: #FFFFFF;\n",
              "    }\n",
              "  </style>\n",
              "\n",
              "      <script>\n",
              "        const buttonEl =\n",
              "          document.querySelector('#df-27c39d4e-cfe1-43da-ac47-a1ff43af0e72 button.colab-df-convert');\n",
              "        buttonEl.style.display =\n",
              "          google.colab.kernel.accessAllowed ? 'block' : 'none';\n",
              "\n",
              "        async function convertToInteractive(key) {\n",
              "          const element = document.querySelector('#df-27c39d4e-cfe1-43da-ac47-a1ff43af0e72');\n",
              "          const dataTable =\n",
              "            await google.colab.kernel.invokeFunction('convertToInteractive',\n",
              "                                                     [key], {});\n",
              "          if (!dataTable) return;\n",
              "\n",
              "          const docLinkHtml = 'Like what you see? Visit the ' +\n",
              "            '<a target=\"_blank\" href=https://colab.research.google.com/notebooks/data_table.ipynb>data table notebook</a>'\n",
              "            + ' to learn more about interactive tables.';\n",
              "          element.innerHTML = '';\n",
              "          dataTable['output_type'] = 'display_data';\n",
              "          await google.colab.output.renderOutput(dataTable, element);\n",
              "          const docLink = document.createElement('div');\n",
              "          docLink.innerHTML = docLinkHtml;\n",
              "          element.appendChild(docLink);\n",
              "        }\n",
              "      </script>\n",
              "    </div>\n",
              "  </div>\n",
              "  "
            ]
          },
          "metadata": {},
          "execution_count": 3
        }
      ]
    },
    {
      "cell_type": "code",
      "source": [
        "df['dteday'] = pd.to_datetime(df['dteday'])"
      ],
      "metadata": {
        "id": "D94pkQ2PQHp2"
      },
      "execution_count": 4,
      "outputs": []
    },
    {
      "cell_type": "code",
      "source": [
        "vars = ['season','weekday','holiday','workingday','weathersit','temp','atemp','hum','windspeed','cnt'] # Variaveis que julgo mais impactantes no aluguel de bicicletas\n",
        "df_variaveis = df[vars]"
      ],
      "metadata": {
        "id": "AECuO-JzQ7mN"
      },
      "execution_count": 5,
      "outputs": []
    },
    {
      "cell_type": "code",
      "source": [
        "y, X = dmatrices('cnt ~ season + weekday + holiday + workingday + weathersit + temp + atemp + hum + windspeed', data=df_variaveis, return_type='dataframe')"
      ],
      "metadata": {
        "id": "2TE3G_aXTVQ4"
      },
      "execution_count": 6,
      "outputs": []
    },
    {
      "cell_type": "code",
      "source": [
        "modelo = sm.OLS(y,X)\n",
        "resultado = modelo.fit()"
      ],
      "metadata": {
        "id": "L3jJvLNuT-2N"
      },
      "execution_count": 7,
      "outputs": []
    },
    {
      "cell_type": "code",
      "source": [
        "print(resultado.summary())"
      ],
      "metadata": {
        "colab": {
          "base_uri": "https://localhost:8080/"
        },
        "id": "vJg3Z2n2UN2j",
        "outputId": "1df4b9e9-ff7f-4359-c787-e6934c2853ce"
      },
      "execution_count": 8,
      "outputs": [
        {
          "output_type": "stream",
          "name": "stdout",
          "text": [
            "                            OLS Regression Results                            \n",
            "==============================================================================\n",
            "Dep. Variable:                    cnt   R-squared:                       0.527\n",
            "Model:                            OLS   Adj. R-squared:                  0.521\n",
            "Method:                 Least Squares   F-statistic:                     89.31\n",
            "Date:                Mon, 18 Apr 2022   Prob (F-statistic):          4.63e-111\n",
            "Time:                        20:24:30   Log-Likelihood:                -6295.9\n",
            "No. Observations:                 731   AIC:                         1.261e+04\n",
            "Df Residuals:                     721   BIC:                         1.266e+04\n",
            "Df Model:                           9                                         \n",
            "Covariance Type:            nonrobust                                         \n",
            "==============================================================================\n",
            "                 coef    std err          t      P>|t|      [0.025      0.975]\n",
            "------------------------------------------------------------------------------\n",
            "Intercept   3037.1604    360.990      8.413      0.000    2328.443    3745.878\n",
            "season       405.6633     48.787      8.315      0.000     309.882     501.444\n",
            "weekday       60.3889     25.025      2.413      0.016      11.259     109.519\n",
            "holiday     -495.7224    308.556     -1.607      0.109   -1101.497     110.053\n",
            "workingday   113.9386    110.625      1.030      0.303    -103.247     331.125\n",
            "weathersit  -490.2313    120.200     -4.078      0.000    -726.215    -254.248\n",
            "temp        2370.0184   2156.557      1.099      0.272   -1863.863    6603.900\n",
            "atemp       3692.6385   2441.427      1.512      0.131   -1100.517    8485.794\n",
            "hum        -2286.0650    476.466     -4.798      0.000   -3221.491   -1350.639\n",
            "windspeed  -3131.5379    700.338     -4.471      0.000   -4506.483   -1756.593\n",
            "==============================================================================\n",
            "Omnibus:                       14.245   Durbin-Watson:                   0.395\n",
            "Prob(Omnibus):                  0.001   Jarque-Bera (JB):                8.333\n",
            "Skew:                           0.059   Prob(JB):                       0.0155\n",
            "Kurtosis:                       2.490   Cond. No.                         308.\n",
            "==============================================================================\n",
            "\n",
            "Warnings:\n",
            "[1] Standard Errors assume that the covariance matrix of the errors is correctly specified.\n"
          ]
        }
      ]
    },
    {
      "cell_type": "markdown",
      "source": [
        "### 2. Escreva a equação da regressão estimada\n",
        "\n",
        "cnt = 3037.1604 + (*season* * 405.6633) + (weekday * 60.3889) + (*holiday* * -495.7224) + (workingday * 113.9386) + (*weathersit* * -490.2313) + (temp * 2370.0184) + (*atemp* *  3692.6385) + (hum * -2286.0650) + (*windspeed* * -3131.5379)"
      ],
      "metadata": {
        "id": "qJlqyfbMUwh_"
      }
    },
    {
      "cell_type": "markdown",
      "source": [
        "### 3. Escreva o valor de r2\n",
        "\n",
        "R-squared:                       0.527\n"
      ],
      "metadata": {
        "id": "6rVo_-vPVy5x"
      }
    }
  ]
}