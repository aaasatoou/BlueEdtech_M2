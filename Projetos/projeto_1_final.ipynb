{
  "cells": [
    {
      "cell_type": "markdown",
      "metadata": {
        "id": "7rf7y7r3UKY5"
      },
      "source": [
        "# Projeto 1 - Predição da precificação de casas \n",
        "## House Sales in King County, USA - Kaggle"
      ]
    },
    {
      "cell_type": "markdown",
      "metadata": {
        "id": "idbTzlDkUKY_"
      },
      "source": [
        "## Introdução"
      ]
    },
    {
      "cell_type": "markdown",
      "metadata": {
        "id": "ur7g7yuEUKZA"
      },
      "source": [
        "Este é um conjunto de dados armazenado no Kaggle, uma plataforma de estudo e competições de Ciência de Dados. Segue a tradução sobre o conjunto de dados.\n",
        "\n",
        "**\"Este conjunto de dados contém preços de venda de casas para King County, que inclui Seattle. Inclui casas vendidas entre maio de 2014 e maio de 2015.\"**\n",
        "\n",
        "Segue a descrição das variaveis:\n",
        "\n",
        "- id - identificação unica para cada venda\n",
        "- date - data da venda\n",
        "- price - preço da venda\n",
        "- bedrooms - número de quartos\n",
        "- bathrooms - número de banheiros\n",
        "- sqft_living - tamanho da casa em metros quadrados\n",
        "- sqft_lot - tamanho do lote em metros quadrados\n",
        "- floors - número de andares\n",
        "- waterfront - vista para praia\n",
        "- view - visitado\n",
        "- condition - condição da casa\n",
        "- grade - nota de qualidade (baseado no sistema de classificação do King County)\n",
        "- sqft_above - tamanho da área abaixo da casa em metros quadrados\n",
        "- sqft_basement - tamanho do porão em metros quadrados\n",
        "- yr_built - ano de construção\n",
        "- yr_renovated - ano da ultima reforma\n",
        "- zipcode - CEP\n",
        "- lat - latitude\n",
        "- long - longitude\n",
        "- sqft_living15 - área da casa em 2015 (implica a algumas reformas). Isso pode ou não ter afetado a área do lote\n",
        "- sqft_lot15 - área do lote em 2015 (implica a algumas reformas)"
      ]
    },
    {
      "cell_type": "markdown",
      "metadata": {
        "id": "_SgP7uzeUKZB"
      },
      "source": [
        "# Sobre este projeto\n",
        "\n",
        "Este é o seu primeiro projeto usando Ciência de Dados. Neste projeto treine os conhecimentos aprendidos até o momento e que entenda algumas das dificuldades que pode ter quando for aplicar os mesmos. \n",
        "\n",
        "Os principais pontos que serão avaliados:\n",
        "\n",
        "- Levantamento de hipoteses\n",
        "- Manipulação de dados e criação de gráficos simples com o `Pandas`\n",
        "- Criar um modelo usando regressão linear e justificar"
      ]
    },
    {
      "cell_type": "markdown",
      "metadata": {
        "id": "rA2gB7jGUKZC"
      },
      "source": [
        "# Preparação do ambiente\n",
        "\n",
        "- Acessem o link - https://www.kaggle.com/datasets/harlfoxem/housesalesprediction e logo abaixo cliquem em \"Download\". Caso voce não tenha uma conta no Kaggle, crie uma e retorne para esse ponto para realizar o download."
      ]
    },
    {
      "cell_type": "code",
      "source": [
        "# Preparação dos dados e bibliotecas\n",
        "\n",
        "import pandas as pd\n",
        "import numpy as np\n",
        "\n",
        "from patsy import dmatrices\n",
        "import statsmodels.api as sm\n",
        "\n",
        "import seaborn as sns\n",
        "import matplotlib.pyplot as plt\n",
        "\n",
        "from sklearn.model_selection import train_test_split\n",
        "from sklearn.linear_model import LinearRegression\n",
        "from sklearn.preprocessing import StandardScaler\n",
        "from sklearn.metrics import r2_score, mean_absolute_error\n",
        "from sklearn.feature_selection import RFE\n",
        "\n",
        "df = pd.read_csv('/content/kc_house_data.csv')"
      ],
      "metadata": {
        "id": "mpEPdnToco9d"
      },
      "execution_count": null,
      "outputs": []
    },
    {
      "cell_type": "code",
      "source": [
        "df.head()"
      ],
      "metadata": {
        "colab": {
          "base_uri": "https://localhost:8080/",
          "height": 300
        },
        "id": "WfhS-I8Rc_qq",
        "outputId": "a9a8667c-8130-418a-fdf0-1b0c04728e6c"
      },
      "execution_count": null,
      "outputs": [
        {
          "output_type": "execute_result",
          "data": {
            "text/plain": [
              "           id             date     price  bedrooms  bathrooms  sqft_living  \\\n",
              "0  7129300520  20141013T000000  221900.0         3       1.00         1180   \n",
              "1  6414100192  20141209T000000  538000.0         3       2.25         2570   \n",
              "2  5631500400  20150225T000000  180000.0         2       1.00          770   \n",
              "3  2487200875  20141209T000000  604000.0         4       3.00         1960   \n",
              "4  1954400510  20150218T000000  510000.0         3       2.00         1680   \n",
              "\n",
              "   sqft_lot  floors  waterfront  view  ...  grade  sqft_above  sqft_basement  \\\n",
              "0      5650     1.0           0     0  ...      7        1180              0   \n",
              "1      7242     2.0           0     0  ...      7        2170            400   \n",
              "2     10000     1.0           0     0  ...      6         770              0   \n",
              "3      5000     1.0           0     0  ...      7        1050            910   \n",
              "4      8080     1.0           0     0  ...      8        1680              0   \n",
              "\n",
              "   yr_built  yr_renovated  zipcode      lat     long  sqft_living15  \\\n",
              "0      1955             0    98178  47.5112 -122.257           1340   \n",
              "1      1951          1991    98125  47.7210 -122.319           1690   \n",
              "2      1933             0    98028  47.7379 -122.233           2720   \n",
              "3      1965             0    98136  47.5208 -122.393           1360   \n",
              "4      1987             0    98074  47.6168 -122.045           1800   \n",
              "\n",
              "   sqft_lot15  \n",
              "0        5650  \n",
              "1        7639  \n",
              "2        8062  \n",
              "3        5000  \n",
              "4        7503  \n",
              "\n",
              "[5 rows x 21 columns]"
            ],
            "text/html": [
              "\n",
              "  <div id=\"df-36033f02-a759-4d14-9f65-4cbeba82561f\">\n",
              "    <div class=\"colab-df-container\">\n",
              "      <div>\n",
              "<style scoped>\n",
              "    .dataframe tbody tr th:only-of-type {\n",
              "        vertical-align: middle;\n",
              "    }\n",
              "\n",
              "    .dataframe tbody tr th {\n",
              "        vertical-align: top;\n",
              "    }\n",
              "\n",
              "    .dataframe thead th {\n",
              "        text-align: right;\n",
              "    }\n",
              "</style>\n",
              "<table border=\"1\" class=\"dataframe\">\n",
              "  <thead>\n",
              "    <tr style=\"text-align: right;\">\n",
              "      <th></th>\n",
              "      <th>id</th>\n",
              "      <th>date</th>\n",
              "      <th>price</th>\n",
              "      <th>bedrooms</th>\n",
              "      <th>bathrooms</th>\n",
              "      <th>sqft_living</th>\n",
              "      <th>sqft_lot</th>\n",
              "      <th>floors</th>\n",
              "      <th>waterfront</th>\n",
              "      <th>view</th>\n",
              "      <th>...</th>\n",
              "      <th>grade</th>\n",
              "      <th>sqft_above</th>\n",
              "      <th>sqft_basement</th>\n",
              "      <th>yr_built</th>\n",
              "      <th>yr_renovated</th>\n",
              "      <th>zipcode</th>\n",
              "      <th>lat</th>\n",
              "      <th>long</th>\n",
              "      <th>sqft_living15</th>\n",
              "      <th>sqft_lot15</th>\n",
              "    </tr>\n",
              "  </thead>\n",
              "  <tbody>\n",
              "    <tr>\n",
              "      <th>0</th>\n",
              "      <td>7129300520</td>\n",
              "      <td>20141013T000000</td>\n",
              "      <td>221900.0</td>\n",
              "      <td>3</td>\n",
              "      <td>1.00</td>\n",
              "      <td>1180</td>\n",
              "      <td>5650</td>\n",
              "      <td>1.0</td>\n",
              "      <td>0</td>\n",
              "      <td>0</td>\n",
              "      <td>...</td>\n",
              "      <td>7</td>\n",
              "      <td>1180</td>\n",
              "      <td>0</td>\n",
              "      <td>1955</td>\n",
              "      <td>0</td>\n",
              "      <td>98178</td>\n",
              "      <td>47.5112</td>\n",
              "      <td>-122.257</td>\n",
              "      <td>1340</td>\n",
              "      <td>5650</td>\n",
              "    </tr>\n",
              "    <tr>\n",
              "      <th>1</th>\n",
              "      <td>6414100192</td>\n",
              "      <td>20141209T000000</td>\n",
              "      <td>538000.0</td>\n",
              "      <td>3</td>\n",
              "      <td>2.25</td>\n",
              "      <td>2570</td>\n",
              "      <td>7242</td>\n",
              "      <td>2.0</td>\n",
              "      <td>0</td>\n",
              "      <td>0</td>\n",
              "      <td>...</td>\n",
              "      <td>7</td>\n",
              "      <td>2170</td>\n",
              "      <td>400</td>\n",
              "      <td>1951</td>\n",
              "      <td>1991</td>\n",
              "      <td>98125</td>\n",
              "      <td>47.7210</td>\n",
              "      <td>-122.319</td>\n",
              "      <td>1690</td>\n",
              "      <td>7639</td>\n",
              "    </tr>\n",
              "    <tr>\n",
              "      <th>2</th>\n",
              "      <td>5631500400</td>\n",
              "      <td>20150225T000000</td>\n",
              "      <td>180000.0</td>\n",
              "      <td>2</td>\n",
              "      <td>1.00</td>\n",
              "      <td>770</td>\n",
              "      <td>10000</td>\n",
              "      <td>1.0</td>\n",
              "      <td>0</td>\n",
              "      <td>0</td>\n",
              "      <td>...</td>\n",
              "      <td>6</td>\n",
              "      <td>770</td>\n",
              "      <td>0</td>\n",
              "      <td>1933</td>\n",
              "      <td>0</td>\n",
              "      <td>98028</td>\n",
              "      <td>47.7379</td>\n",
              "      <td>-122.233</td>\n",
              "      <td>2720</td>\n",
              "      <td>8062</td>\n",
              "    </tr>\n",
              "    <tr>\n",
              "      <th>3</th>\n",
              "      <td>2487200875</td>\n",
              "      <td>20141209T000000</td>\n",
              "      <td>604000.0</td>\n",
              "      <td>4</td>\n",
              "      <td>3.00</td>\n",
              "      <td>1960</td>\n",
              "      <td>5000</td>\n",
              "      <td>1.0</td>\n",
              "      <td>0</td>\n",
              "      <td>0</td>\n",
              "      <td>...</td>\n",
              "      <td>7</td>\n",
              "      <td>1050</td>\n",
              "      <td>910</td>\n",
              "      <td>1965</td>\n",
              "      <td>0</td>\n",
              "      <td>98136</td>\n",
              "      <td>47.5208</td>\n",
              "      <td>-122.393</td>\n",
              "      <td>1360</td>\n",
              "      <td>5000</td>\n",
              "    </tr>\n",
              "    <tr>\n",
              "      <th>4</th>\n",
              "      <td>1954400510</td>\n",
              "      <td>20150218T000000</td>\n",
              "      <td>510000.0</td>\n",
              "      <td>3</td>\n",
              "      <td>2.00</td>\n",
              "      <td>1680</td>\n",
              "      <td>8080</td>\n",
              "      <td>1.0</td>\n",
              "      <td>0</td>\n",
              "      <td>0</td>\n",
              "      <td>...</td>\n",
              "      <td>8</td>\n",
              "      <td>1680</td>\n",
              "      <td>0</td>\n",
              "      <td>1987</td>\n",
              "      <td>0</td>\n",
              "      <td>98074</td>\n",
              "      <td>47.6168</td>\n",
              "      <td>-122.045</td>\n",
              "      <td>1800</td>\n",
              "      <td>7503</td>\n",
              "    </tr>\n",
              "  </tbody>\n",
              "</table>\n",
              "<p>5 rows × 21 columns</p>\n",
              "</div>\n",
              "      <button class=\"colab-df-convert\" onclick=\"convertToInteractive('df-36033f02-a759-4d14-9f65-4cbeba82561f')\"\n",
              "              title=\"Convert this dataframe to an interactive table.\"\n",
              "              style=\"display:none;\">\n",
              "        \n",
              "  <svg xmlns=\"http://www.w3.org/2000/svg\" height=\"24px\"viewBox=\"0 0 24 24\"\n",
              "       width=\"24px\">\n",
              "    <path d=\"M0 0h24v24H0V0z\" fill=\"none\"/>\n",
              "    <path d=\"M18.56 5.44l.94 2.06.94-2.06 2.06-.94-2.06-.94-.94-2.06-.94 2.06-2.06.94zm-11 1L8.5 8.5l.94-2.06 2.06-.94-2.06-.94L8.5 2.5l-.94 2.06-2.06.94zm10 10l.94 2.06.94-2.06 2.06-.94-2.06-.94-.94-2.06-.94 2.06-2.06.94z\"/><path d=\"M17.41 7.96l-1.37-1.37c-.4-.4-.92-.59-1.43-.59-.52 0-1.04.2-1.43.59L10.3 9.45l-7.72 7.72c-.78.78-.78 2.05 0 2.83L4 21.41c.39.39.9.59 1.41.59.51 0 1.02-.2 1.41-.59l7.78-7.78 2.81-2.81c.8-.78.8-2.07 0-2.86zM5.41 20L4 18.59l7.72-7.72 1.47 1.35L5.41 20z\"/>\n",
              "  </svg>\n",
              "      </button>\n",
              "      \n",
              "  <style>\n",
              "    .colab-df-container {\n",
              "      display:flex;\n",
              "      flex-wrap:wrap;\n",
              "      gap: 12px;\n",
              "    }\n",
              "\n",
              "    .colab-df-convert {\n",
              "      background-color: #E8F0FE;\n",
              "      border: none;\n",
              "      border-radius: 50%;\n",
              "      cursor: pointer;\n",
              "      display: none;\n",
              "      fill: #1967D2;\n",
              "      height: 32px;\n",
              "      padding: 0 0 0 0;\n",
              "      width: 32px;\n",
              "    }\n",
              "\n",
              "    .colab-df-convert:hover {\n",
              "      background-color: #E2EBFA;\n",
              "      box-shadow: 0px 1px 2px rgba(60, 64, 67, 0.3), 0px 1px 3px 1px rgba(60, 64, 67, 0.15);\n",
              "      fill: #174EA6;\n",
              "    }\n",
              "\n",
              "    [theme=dark] .colab-df-convert {\n",
              "      background-color: #3B4455;\n",
              "      fill: #D2E3FC;\n",
              "    }\n",
              "\n",
              "    [theme=dark] .colab-df-convert:hover {\n",
              "      background-color: #434B5C;\n",
              "      box-shadow: 0px 1px 3px 1px rgba(0, 0, 0, 0.15);\n",
              "      filter: drop-shadow(0px 1px 2px rgba(0, 0, 0, 0.3));\n",
              "      fill: #FFFFFF;\n",
              "    }\n",
              "  </style>\n",
              "\n",
              "      <script>\n",
              "        const buttonEl =\n",
              "          document.querySelector('#df-36033f02-a759-4d14-9f65-4cbeba82561f button.colab-df-convert');\n",
              "        buttonEl.style.display =\n",
              "          google.colab.kernel.accessAllowed ? 'block' : 'none';\n",
              "\n",
              "        async function convertToInteractive(key) {\n",
              "          const element = document.querySelector('#df-36033f02-a759-4d14-9f65-4cbeba82561f');\n",
              "          const dataTable =\n",
              "            await google.colab.kernel.invokeFunction('convertToInteractive',\n",
              "                                                     [key], {});\n",
              "          if (!dataTable) return;\n",
              "\n",
              "          const docLinkHtml = 'Like what you see? Visit the ' +\n",
              "            '<a target=\"_blank\" href=https://colab.research.google.com/notebooks/data_table.ipynb>data table notebook</a>'\n",
              "            + ' to learn more about interactive tables.';\n",
              "          element.innerHTML = '';\n",
              "          dataTable['output_type'] = 'display_data';\n",
              "          await google.colab.output.renderOutput(dataTable, element);\n",
              "          const docLink = document.createElement('div');\n",
              "          docLink.innerHTML = docLinkHtml;\n",
              "          element.appendChild(docLink);\n",
              "        }\n",
              "      </script>\n",
              "    </div>\n",
              "  </div>\n",
              "  "
            ]
          },
          "metadata": {},
          "execution_count": 3
        }
      ]
    },
    {
      "cell_type": "code",
      "source": [
        "df.shape"
      ],
      "metadata": {
        "colab": {
          "base_uri": "https://localhost:8080/"
        },
        "id": "AzjqSFO7CeRK",
        "outputId": "10fc0ae1-6363-411c-8e37-3e35c3a74587"
      },
      "execution_count": null,
      "outputs": [
        {
          "output_type": "execute_result",
          "data": {
            "text/plain": [
              "(21613, 21)"
            ]
          },
          "metadata": {},
          "execution_count": 4
        }
      ]
    },
    {
      "cell_type": "code",
      "source": [
        "df.info()"
      ],
      "metadata": {
        "colab": {
          "base_uri": "https://localhost:8080/"
        },
        "id": "PWJZ5llHlD0d",
        "outputId": "37e3a5a4-ee5e-4268-f1d0-c291a851c953"
      },
      "execution_count": null,
      "outputs": [
        {
          "output_type": "stream",
          "name": "stdout",
          "text": [
            "<class 'pandas.core.frame.DataFrame'>\n",
            "RangeIndex: 21613 entries, 0 to 21612\n",
            "Data columns (total 21 columns):\n",
            " #   Column         Non-Null Count  Dtype  \n",
            "---  ------         --------------  -----  \n",
            " 0   id             21613 non-null  int64  \n",
            " 1   date           21613 non-null  object \n",
            " 2   price          21613 non-null  float64\n",
            " 3   bedrooms       21613 non-null  int64  \n",
            " 4   bathrooms      21613 non-null  float64\n",
            " 5   sqft_living    21613 non-null  int64  \n",
            " 6   sqft_lot       21613 non-null  int64  \n",
            " 7   floors         21613 non-null  float64\n",
            " 8   waterfront     21613 non-null  int64  \n",
            " 9   view           21613 non-null  int64  \n",
            " 10  condition      21613 non-null  int64  \n",
            " 11  grade          21613 non-null  int64  \n",
            " 12  sqft_above     21613 non-null  int64  \n",
            " 13  sqft_basement  21613 non-null  int64  \n",
            " 14  yr_built       21613 non-null  int64  \n",
            " 15  yr_renovated   21613 non-null  int64  \n",
            " 16  zipcode        21613 non-null  int64  \n",
            " 17  lat            21613 non-null  float64\n",
            " 18  long           21613 non-null  float64\n",
            " 19  sqft_living15  21613 non-null  int64  \n",
            " 20  sqft_lot15     21613 non-null  int64  \n",
            "dtypes: float64(5), int64(15), object(1)\n",
            "memory usage: 3.5+ MB\n"
          ]
        }
      ]
    },
    {
      "cell_type": "markdown",
      "metadata": {
        "id": "u8D1SzT4UKZC"
      },
      "source": [
        "# Exercicio 1. (0.5 pontos)\n",
        "\n",
        "Formule ao menos duas perguntas que você acha que poderiam ser respondidas usando os dados"
      ]
    },
    {
      "cell_type": "markdown",
      "metadata": {
        "id": "jkx7TczkUKZD"
      },
      "source": [
        "**RESPOSTA** (VALE 0.5 pontos):  \n",
        "Através dos dados apresentados, poderiamos responder, por exemplo, como o tamanho da casa (sqft_living) afeta o preço de uma casa.\n",
        "\n",
        "Também poderiamos verificar se há diferenças na qualidade das casas (grade) de acordo com região através das variáveis 'zipcode', 'lat' e 'long'."
      ]
    },
    {
      "cell_type": "markdown",
      "metadata": {
        "id": "kC489MgKUKZE"
      },
      "source": [
        "# Exercicio 2. (2.5 pontos)\n",
        "\n",
        "A capacidade de comunicação é um dos principais pontos na análise de dados, pois sua análise deve ser tão boa quanto a sua capacidade de comunicá-la. Para isso usamos tabelas resumo e gráficos para apresentar os principais achados do trabalho realizado. Podemos adicionar outros materias que possam aprofundar essa apresentação como artigos e outros estudos realizados.\n",
        "\n",
        "Assim, qual visualização você acha interessante destacar?"
      ]
    },
    {
      "cell_type": "markdown",
      "metadata": {
        "id": "NYClGDaeUKZF"
      },
      "source": [
        "**RESPOSTA** (VALE 0.75 pontos):  \n",
        "O *Scatter plot* é um tipo de visualização capaz mostrar algumas caracteristicas importantes das variaveis do dataset. De forma geral, o *Scatter plot* é utilizado para mostrar a relação entre duas variáveis ou a ausência dessa relação.  \n",
        "    \n",
        "Esse tipo de visualização ainda é capaz de mostrar outros padrões nos dados, como por exemplo, outliers ou dados agrupados. Sendo assim, torna-se uma visualização importante de se destacar."
      ]
    },
    {
      "cell_type": "code",
      "execution_count": null,
      "metadata": {
        "id": "FksQOeZ8UKZG",
        "colab": {
          "base_uri": "https://localhost:8080/",
          "height": 535
        },
        "outputId": "6a56d724-72a0-4d66-97f2-0a3699c43c98"
      },
      "outputs": [
        {
          "output_type": "execute_result",
          "data": {
            "text/plain": [
              "Text(0, 0.5, 'Preço')"
            ]
          },
          "metadata": {},
          "execution_count": 6
        },
        {
          "output_type": "display_data",
          "data": {
            "text/plain": [
              "<Figure size 864x576 with 1 Axes>"
            ],
            "image/png": "[encoded data removed]"
          },
          "metadata": {}
        }
      ],
      "source": [
        "#### (VALE 1.5 pontos)\n",
        "#### CONSTRUA O SEU GRAFICO ABAIXO, USE MAIS CELULAS SE NECESSARIO\n",
        "\n",
        "sns.set_style('darkgrid')\n",
        "plt.figure(figsize=[12,8])\n",
        "grafico = sns.scatterplot(data=df, x=\"sqft_living\", y=\"price\")\n",
        "grafico.set_title('Evolução do preço', loc='center', fontsize=20)\n",
        "grafico.set_xlabel('Área da Casa', fontsize=10)\n",
        "grafico.set_ylabel('Preço', fontsize=10)"
      ]
    },
    {
      "cell_type": "markdown",
      "metadata": {
        "id": "aXwvHF9hUKZI"
      },
      "source": [
        "A sua visualização responde uma das suas perguntas? Se não, o que ela responde?"
      ]
    },
    {
      "cell_type": "markdown",
      "metadata": {
        "id": "WfU_Zj_KUKZJ"
      },
      "source": [
        "**RESPOSTA** (VALE 0.75 pontos):  \n",
        "Sim, a analise mostra que o preço de casa tem uma relação linear positiva em relação a área da casa. Ainda podemos detectar <u>**possíveis**</u> outliers (diversos pontos estão separados do grupo principal), dessa forma, seria necessaria uma análise mais aprofundada neste ponto."
      ]
    },
    {
      "cell_type": "markdown",
      "metadata": {
        "id": "yo46OwNJUKZS"
      },
      "source": [
        "# Exercicio 3. (3 pontos)\n",
        "\n",
        "Faremos uma analise exploratoria sobre estes dados, preencha abaixo analises sobre o conjunto de dados. Para isso a biblioteca numpy para obter a contagem, média, mediana e os quartis."
      ]
    },
    {
      "cell_type": "code",
      "execution_count": null,
      "metadata": {
        "id": "s0Um-NJ9UKZT"
      },
      "outputs": [],
      "source": [
        "#### (VALE 0.75 pontos)\n",
        "#### EXECUTE OS COMANDOS ABAIXO, USE MAIS CELULAS SE NECESSARIO\n",
        "\n",
        "observacoes = df.shape[0] # Cada linha pode ser encarada como uma observação\n",
        "variaveis = df.shape[1] # Cada coluna pode ser encarada como uma variável\n",
        "\n",
        "# Segundo o dicionário de dados, a variável sqft_living trata do tamanho da casa\n",
        "# Para tamanho médio em metros quadrados é necessario transformar de pés para metros, 1 pé quadrado = 0.092903 metro quadrado\n",
        "# O valor será arredondado para duas casas decimais\n",
        "df['sqm_living'] = round(df['sqft_living']*0.092903,2)\n",
        "\n",
        "media_tamanho = round(df['sqm_living'].mean(),2)\n",
        "mediana_tamanho = df['sqm_living'].median()\n",
        "p_quartil = df['sqm_living'].quantile(0.25) # 1º Quartil -> 25% das observações\n",
        "t_quartil = df['sqm_living'].quantile(0.75)  # 3º Quartil -> 75% das observações"
      ]
    },
    {
      "cell_type": "code",
      "execution_count": null,
      "metadata": {
        "id": "byZ47lFpUKZT",
        "outputId": "2cb3a012-5d59-4e71-f3b1-252827e45963",
        "colab": {
          "base_uri": "https://localhost:8080/"
        }
      },
      "outputs": [
        {
          "output_type": "stream",
          "name": "stdout",
          "text": [
            "Existem 21613 observações no conjunto de dados\n",
            "Existem 21 variaveis no conjunto de dados\n",
            "O tamanho médio das casas é de 193.23 metros quadrados\n",
            "A mediana do tamanho das casas é de 177.44 metros quadrados\n",
            "primeiro quartil 132.57 do tamanho das casas\n",
            "terceiro quartil 236.9 do tamanho das casas\n"
          ]
        }
      ],
      "source": [
        "# VALE 0.75 pontos\n",
        "# Substitua __ pelos valores solicitados\n",
        "print('Existem {} observações no conjunto de dados'.format(observacoes))\n",
        "print('Existem {} variaveis no conjunto de dados'.format(variaveis))\n",
        "print('O tamanho médio das casas é de {} metros quadrados'.format(media_tamanho))\n",
        "print('A mediana do tamanho das casas é de {} metros quadrados'.format(mediana_tamanho))\n",
        "\n",
        "# Quartis\n",
        "print('primeiro quartil {} do tamanho das casas'.format(p_quartil))\n",
        "print('terceiro quartil {} do tamanho das casas'.format(t_quartil))"
      ]
    },
    {
      "cell_type": "code",
      "source": [
        "# Ainda há a opção dos quartis em pés quadrados ao invés de metros quadrados\n",
        "\n",
        "p_quartil = df['sqft_living'].quantile(0.25) # 1º Quartil -> 25% das observações\n",
        "t_quartil = df['sqft_living'].quantile(0.75)  # 3º Quartil -> 75% das observações\n",
        "\n",
        "print('primeiro quartil {} do tamanho das casas'.format(p_quartil))\n",
        "print('terceiro quartil {} do tamanho das casas'.format(t_quartil))"
      ],
      "metadata": {
        "colab": {
          "base_uri": "https://localhost:8080/"
        },
        "id": "RSC7srI4JQAH",
        "outputId": "cb615ed4-c31a-497c-a7ad-9f6fff66c4b1"
      },
      "execution_count": null,
      "outputs": [
        {
          "output_type": "stream",
          "name": "stdout",
          "text": [
            "primeiro quartil 1427.0 do tamanho das casas\n",
            "terceiro quartil 2550.0 do tamanho das casas\n"
          ]
        }
      ]
    },
    {
      "cell_type": "markdown",
      "metadata": {
        "id": "q-_WlQBWUKZV"
      },
      "source": [
        "Neste conjunto de dados há casas com tamanho muito acima ou abaixo do esperado (outliers)? Faça um gráfico de caixa (boxplot) do tamanho das casas."
      ]
    },
    {
      "cell_type": "code",
      "execution_count": null,
      "metadata": {
        "id": "Wmo9jKOTUKZW",
        "colab": {
          "base_uri": "https://localhost:8080/",
          "height": 339
        },
        "outputId": "62107894-4033-4e0f-9f1f-19213cce3351"
      },
      "outputs": [
        {
          "output_type": "display_data",
          "data": {
            "text/plain": [
              "<Figure size 1800x360 with 1 Axes>"
            ],
            "image/png": "[encoded data removed]"
          },
          "metadata": {}
        }
      ],
      "source": [
        "#### (VALE 0.75 pontos)\n",
        "#### CONSTRUA O SEU GRAFICO ABAIXO, USE MAIS CELULAS SE NECESSARIO\n",
        "\n",
        "sns.set_theme(style=\"whitegrid\")\n",
        "plt.figure(figsize=[25,5])\n",
        "ax = sns.boxplot(x=df[\"sqft_living\"], fliersize = 3)"
      ]
    },
    {
      "cell_type": "markdown",
      "metadata": {
        "id": "FEkNv7rxUKZW"
      },
      "source": [
        "Observando a sua visualização, há casas com tamanhos muito abaixo ou acima do esperado (outliers)? "
      ]
    },
    {
      "cell_type": "markdown",
      "metadata": {
        "id": "sAnW33CyUKZX"
      },
      "source": [
        "**RESPOSTA** (VALE 0.75 pontos):  \n",
        "Sim, de acordo com a visualização, os pontos que excedem o limite superior são casas de tamanhos extremos."
      ]
    },
    {
      "cell_type": "markdown",
      "metadata": {
        "id": "ZpXNfZIGUKZY"
      },
      "source": [
        "# Exercicio 4. (4 pontos)\n",
        "\n",
        "Construa um modelo de regressão linear para predizer a variável **price** (preço) com **statsmodels.api**."
      ]
    },
    {
      "cell_type": "code",
      "execution_count": null,
      "metadata": {
        "id": "x2CYsZHrUKZY"
      },
      "outputs": [],
      "source": [
        "#### (VALE 0.625 pontos)\n",
        "#### EXECUTE OS COMANDOS ABAIXO, USE MAIS CELULAS SE NECESSARIO\n",
        "\n",
        "# Ajuste das colunas ao formato aceito em dmatrices\n",
        "# id e date, apesar de numéricas, servem para rotular os dados e não entram na regressão.\n",
        "# sqm_living trata da conversão de sqft_living para metros quadrados e não será utilizada.\n",
        "# price é a variável target, será declarada separadamente na função dmatrices.\n",
        "colunas = ' + '.join(str(i) for i in df.drop(['id','date','sqm_living','price'], axis=1).columns)\n",
        "\n",
        "# Criação das matrizes de design\n",
        "y, X = dmatrices(f'price ~ {colunas}', data=df, return_type='dataframe')"
      ]
    },
    {
      "cell_type": "code",
      "source": [
        "y.head()"
      ],
      "metadata": {
        "colab": {
          "base_uri": "https://localhost:8080/",
          "height": 206
        },
        "id": "6kSqlbs9mdrP",
        "outputId": "cbdf7435-9e3d-4448-e866-50c448f51dab"
      },
      "execution_count": null,
      "outputs": [
        {
          "output_type": "execute_result",
          "data": {
            "text/plain": [
              "      price\n",
              "0  221900.0\n",
              "1  538000.0\n",
              "2  180000.0\n",
              "3  604000.0\n",
              "4  510000.0"
            ],
            "text/html": [
              "\n",
              "  <div id=\"df-2b8909ce-339e-4d76-83ff-ad11dd6f03f8\">\n",
              "    <div class=\"colab-df-container\">\n",
              "      <div>\n",
              "<style scoped>\n",
              "    .dataframe tbody tr th:only-of-type {\n",
              "        vertical-align: middle;\n",
              "    }\n",
              "\n",
              "    .dataframe tbody tr th {\n",
              "        vertical-align: top;\n",
              "    }\n",
              "\n",
              "    .dataframe thead th {\n",
              "        text-align: right;\n",
              "    }\n",
              "</style>\n",
              "<table border=\"1\" class=\"dataframe\">\n",
              "  <thead>\n",
              "    <tr style=\"text-align: right;\">\n",
              "      <th></th>\n",
              "      <th>price</th>\n",
              "    </tr>\n",
              "  </thead>\n",
              "  <tbody>\n",
              "    <tr>\n",
              "      <th>0</th>\n",
              "      <td>221900.0</td>\n",
              "    </tr>\n",
              "    <tr>\n",
              "      <th>1</th>\n",
              "      <td>538000.0</td>\n",
              "    </tr>\n",
              "    <tr>\n",
              "      <th>2</th>\n",
              "      <td>180000.0</td>\n",
              "    </tr>\n",
              "    <tr>\n",
              "      <th>3</th>\n",
              "      <td>604000.0</td>\n",
              "    </tr>\n",
              "    <tr>\n",
              "      <th>4</th>\n",
              "      <td>510000.0</td>\n",
              "    </tr>\n",
              "  </tbody>\n",
              "</table>\n",
              "</div>\n",
              "      <button class=\"colab-df-convert\" onclick=\"convertToInteractive('df-2b8909ce-339e-4d76-83ff-ad11dd6f03f8')\"\n",
              "              title=\"Convert this dataframe to an interactive table.\"\n",
              "              style=\"display:none;\">\n",
              "        \n",
              "  <svg xmlns=\"http://www.w3.org/2000/svg\" height=\"24px\"viewBox=\"0 0 24 24\"\n",
              "       width=\"24px\">\n",
              "    <path d=\"M0 0h24v24H0V0z\" fill=\"none\"/>\n",
              "    <path d=\"M18.56 5.44l.94 2.06.94-2.06 2.06-.94-2.06-.94-.94-2.06-.94 2.06-2.06.94zm-11 1L8.5 8.5l.94-2.06 2.06-.94-2.06-.94L8.5 2.5l-.94 2.06-2.06.94zm10 10l.94 2.06.94-2.06 2.06-.94-2.06-.94-.94-2.06-.94 2.06-2.06.94z\"/><path d=\"M17.41 7.96l-1.37-1.37c-.4-.4-.92-.59-1.43-.59-.52 0-1.04.2-1.43.59L10.3 9.45l-7.72 7.72c-.78.78-.78 2.05 0 2.83L4 21.41c.39.39.9.59 1.41.59.51 0 1.02-.2 1.41-.59l7.78-7.78 2.81-2.81c.8-.78.8-2.07 0-2.86zM5.41 20L4 18.59l7.72-7.72 1.47 1.35L5.41 20z\"/>\n",
              "  </svg>\n",
              "      </button>\n",
              "      \n",
              "  <style>\n",
              "    .colab-df-container {\n",
              "      display:flex;\n",
              "      flex-wrap:wrap;\n",
              "      gap: 12px;\n",
              "    }\n",
              "\n",
              "    .colab-df-convert {\n",
              "      background-color: #E8F0FE;\n",
              "      border: none;\n",
              "      border-radius: 50%;\n",
              "      cursor: pointer;\n",
              "      display: none;\n",
              "      fill: #1967D2;\n",
              "      height: 32px;\n",
              "      padding: 0 0 0 0;\n",
              "      width: 32px;\n",
              "    }\n",
              "\n",
              "    .colab-df-convert:hover {\n",
              "      background-color: #E2EBFA;\n",
              "      box-shadow: 0px 1px 2px rgba(60, 64, 67, 0.3), 0px 1px 3px 1px rgba(60, 64, 67, 0.15);\n",
              "      fill: #174EA6;\n",
              "    }\n",
              "\n",
              "    [theme=dark] .colab-df-convert {\n",
              "      background-color: #3B4455;\n",
              "      fill: #D2E3FC;\n",
              "    }\n",
              "\n",
              "    [theme=dark] .colab-df-convert:hover {\n",
              "      background-color: #434B5C;\n",
              "      box-shadow: 0px 1px 3px 1px rgba(0, 0, 0, 0.15);\n",
              "      filter: drop-shadow(0px 1px 2px rgba(0, 0, 0, 0.3));\n",
              "      fill: #FFFFFF;\n",
              "    }\n",
              "  </style>\n",
              "\n",
              "      <script>\n",
              "        const buttonEl =\n",
              "          document.querySelector('#df-2b8909ce-339e-4d76-83ff-ad11dd6f03f8 button.colab-df-convert');\n",
              "        buttonEl.style.display =\n",
              "          google.colab.kernel.accessAllowed ? 'block' : 'none';\n",
              "\n",
              "        async function convertToInteractive(key) {\n",
              "          const element = document.querySelector('#df-2b8909ce-339e-4d76-83ff-ad11dd6f03f8');\n",
              "          const dataTable =\n",
              "            await google.colab.kernel.invokeFunction('convertToInteractive',\n",
              "                                                     [key], {});\n",
              "          if (!dataTable) return;\n",
              "\n",
              "          const docLinkHtml = 'Like what you see? Visit the ' +\n",
              "            '<a target=\"_blank\" href=https://colab.research.google.com/notebooks/data_table.ipynb>data table notebook</a>'\n",
              "            + ' to learn more about interactive tables.';\n",
              "          element.innerHTML = '';\n",
              "          dataTable['output_type'] = 'display_data';\n",
              "          await google.colab.output.renderOutput(dataTable, element);\n",
              "          const docLink = document.createElement('div');\n",
              "          docLink.innerHTML = docLinkHtml;\n",
              "          element.appendChild(docLink);\n",
              "        }\n",
              "      </script>\n",
              "    </div>\n",
              "  </div>\n",
              "  "
            ]
          },
          "metadata": {},
          "execution_count": 12
        }
      ]
    },
    {
      "cell_type": "code",
      "source": [
        "X.head()"
      ],
      "metadata": {
        "colab": {
          "base_uri": "https://localhost:8080/",
          "height": 270
        },
        "id": "OcAxgTnTo_hG",
        "outputId": "1516f4d2-37d7-480b-f13d-a57ac1ad168f"
      },
      "execution_count": null,
      "outputs": [
        {
          "output_type": "execute_result",
          "data": {
            "text/plain": [
              "   Intercept  bedrooms  bathrooms  sqft_living  sqft_lot  floors  waterfront  \\\n",
              "0        1.0       3.0       1.00       1180.0    5650.0     1.0         0.0   \n",
              "1        1.0       3.0       2.25       2570.0    7242.0     2.0         0.0   \n",
              "2        1.0       2.0       1.00        770.0   10000.0     1.0         0.0   \n",
              "3        1.0       4.0       3.00       1960.0    5000.0     1.0         0.0   \n",
              "4        1.0       3.0       2.00       1680.0    8080.0     1.0         0.0   \n",
              "\n",
              "   view  condition  grade  sqft_above  sqft_basement  yr_built  yr_renovated  \\\n",
              "0   0.0        3.0    7.0      1180.0            0.0    1955.0           0.0   \n",
              "1   0.0        3.0    7.0      2170.0          400.0    1951.0        1991.0   \n",
              "2   0.0        3.0    6.0       770.0            0.0    1933.0           0.0   \n",
              "3   0.0        5.0    7.0      1050.0          910.0    1965.0           0.0   \n",
              "4   0.0        3.0    8.0      1680.0            0.0    1987.0           0.0   \n",
              "\n",
              "   zipcode      lat     long  sqft_living15  sqft_lot15  \n",
              "0  98178.0  47.5112 -122.257         1340.0      5650.0  \n",
              "1  98125.0  47.7210 -122.319         1690.0      7639.0  \n",
              "2  98028.0  47.7379 -122.233         2720.0      8062.0  \n",
              "3  98136.0  47.5208 -122.393         1360.0      5000.0  \n",
              "4  98074.0  47.6168 -122.045         1800.0      7503.0  "
            ],
            "text/html": [
              "\n",
              "  <div id=\"df-f7697c61-f3d8-4a62-980d-ad6f45a21503\">\n",
              "    <div class=\"colab-df-container\">\n",
              "      <div>\n",
              "<style scoped>\n",
              "    .dataframe tbody tr th:only-of-type {\n",
              "        vertical-align: middle;\n",
              "    }\n",
              "\n",
              "    .dataframe tbody tr th {\n",
              "        vertical-align: top;\n",
              "    }\n",
              "\n",
              "    .dataframe thead th {\n",
              "        text-align: right;\n",
              "    }\n",
              "</style>\n",
              "<table border=\"1\" class=\"dataframe\">\n",
              "  <thead>\n",
              "    <tr style=\"text-align: right;\">\n",
              "      <th></th>\n",
              "      <th>Intercept</th>\n",
              "      <th>bedrooms</th>\n",
              "      <th>bathrooms</th>\n",
              "      <th>sqft_living</th>\n",
              "      <th>sqft_lot</th>\n",
              "      <th>floors</th>\n",
              "      <th>waterfront</th>\n",
              "      <th>view</th>\n",
              "      <th>condition</th>\n",
              "      <th>grade</th>\n",
              "      <th>sqft_above</th>\n",
              "      <th>sqft_basement</th>\n",
              "      <th>yr_built</th>\n",
              "      <th>yr_renovated</th>\n",
              "      <th>zipcode</th>\n",
              "      <th>lat</th>\n",
              "      <th>long</th>\n",
              "      <th>sqft_living15</th>\n",
              "      <th>sqft_lot15</th>\n",
              "    </tr>\n",
              "  </thead>\n",
              "  <tbody>\n",
              "    <tr>\n",
              "      <th>0</th>\n",
              "      <td>1.0</td>\n",
              "      <td>3.0</td>\n",
              "      <td>1.00</td>\n",
              "      <td>1180.0</td>\n",
              "      <td>5650.0</td>\n",
              "      <td>1.0</td>\n",
              "      <td>0.0</td>\n",
              "      <td>0.0</td>\n",
              "      <td>3.0</td>\n",
              "      <td>7.0</td>\n",
              "      <td>1180.0</td>\n",
              "      <td>0.0</td>\n",
              "      <td>1955.0</td>\n",
              "      <td>0.0</td>\n",
              "      <td>98178.0</td>\n",
              "      <td>47.5112</td>\n",
              "      <td>-122.257</td>\n",
              "      <td>1340.0</td>\n",
              "      <td>5650.0</td>\n",
              "    </tr>\n",
              "    <tr>\n",
              "      <th>1</th>\n",
              "      <td>1.0</td>\n",
              "      <td>3.0</td>\n",
              "      <td>2.25</td>\n",
              "      <td>2570.0</td>\n",
              "      <td>7242.0</td>\n",
              "      <td>2.0</td>\n",
              "      <td>0.0</td>\n",
              "      <td>0.0</td>\n",
              "      <td>3.0</td>\n",
              "      <td>7.0</td>\n",
              "      <td>2170.0</td>\n",
              "      <td>400.0</td>\n",
              "      <td>1951.0</td>\n",
              "      <td>1991.0</td>\n",
              "      <td>98125.0</td>\n",
              "      <td>47.7210</td>\n",
              "      <td>-122.319</td>\n",
              "      <td>1690.0</td>\n",
              "      <td>7639.0</td>\n",
              "    </tr>\n",
              "    <tr>\n",
              "      <th>2</th>\n",
              "      <td>1.0</td>\n",
              "      <td>2.0</td>\n",
              "      <td>1.00</td>\n",
              "      <td>770.0</td>\n",
              "      <td>10000.0</td>\n",
              "      <td>1.0</td>\n",
              "      <td>0.0</td>\n",
              "      <td>0.0</td>\n",
              "      <td>3.0</td>\n",
              "      <td>6.0</td>\n",
              "      <td>770.0</td>\n",
              "      <td>0.0</td>\n",
              "      <td>1933.0</td>\n",
              "      <td>0.0</td>\n",
              "      <td>98028.0</td>\n",
              "      <td>47.7379</td>\n",
              "      <td>-122.233</td>\n",
              "      <td>2720.0</td>\n",
              "      <td>8062.0</td>\n",
              "    </tr>\n",
              "    <tr>\n",
              "      <th>3</th>\n",
              "      <td>1.0</td>\n",
              "      <td>4.0</td>\n",
              "      <td>3.00</td>\n",
              "      <td>1960.0</td>\n",
              "      <td>5000.0</td>\n",
              "      <td>1.0</td>\n",
              "      <td>0.0</td>\n",
              "      <td>0.0</td>\n",
              "      <td>5.0</td>\n",
              "      <td>7.0</td>\n",
              "      <td>1050.0</td>\n",
              "      <td>910.0</td>\n",
              "      <td>1965.0</td>\n",
              "      <td>0.0</td>\n",
              "      <td>98136.0</td>\n",
              "      <td>47.5208</td>\n",
              "      <td>-122.393</td>\n",
              "      <td>1360.0</td>\n",
              "      <td>5000.0</td>\n",
              "    </tr>\n",
              "    <tr>\n",
              "      <th>4</th>\n",
              "      <td>1.0</td>\n",
              "      <td>3.0</td>\n",
              "      <td>2.00</td>\n",
              "      <td>1680.0</td>\n",
              "      <td>8080.0</td>\n",
              "      <td>1.0</td>\n",
              "      <td>0.0</td>\n",
              "      <td>0.0</td>\n",
              "      <td>3.0</td>\n",
              "      <td>8.0</td>\n",
              "      <td>1680.0</td>\n",
              "      <td>0.0</td>\n",
              "      <td>1987.0</td>\n",
              "      <td>0.0</td>\n",
              "      <td>98074.0</td>\n",
              "      <td>47.6168</td>\n",
              "      <td>-122.045</td>\n",
              "      <td>1800.0</td>\n",
              "      <td>7503.0</td>\n",
              "    </tr>\n",
              "  </tbody>\n",
              "</table>\n",
              "</div>\n",
              "      <button class=\"colab-df-convert\" onclick=\"convertToInteractive('df-f7697c61-f3d8-4a62-980d-ad6f45a21503')\"\n",
              "              title=\"Convert this dataframe to an interactive table.\"\n",
              "              style=\"display:none;\">\n",
              "        \n",
              "  <svg xmlns=\"http://www.w3.org/2000/svg\" height=\"24px\"viewBox=\"0 0 24 24\"\n",
              "       width=\"24px\">\n",
              "    <path d=\"M0 0h24v24H0V0z\" fill=\"none\"/>\n",
              "    <path d=\"M18.56 5.44l.94 2.06.94-2.06 2.06-.94-2.06-.94-.94-2.06-.94 2.06-2.06.94zm-11 1L8.5 8.5l.94-2.06 2.06-.94-2.06-.94L8.5 2.5l-.94 2.06-2.06.94zm10 10l.94 2.06.94-2.06 2.06-.94-2.06-.94-.94-2.06-.94 2.06-2.06.94z\"/><path d=\"M17.41 7.96l-1.37-1.37c-.4-.4-.92-.59-1.43-.59-.52 0-1.04.2-1.43.59L10.3 9.45l-7.72 7.72c-.78.78-.78 2.05 0 2.83L4 21.41c.39.39.9.59 1.41.59.51 0 1.02-.2 1.41-.59l7.78-7.78 2.81-2.81c.8-.78.8-2.07 0-2.86zM5.41 20L4 18.59l7.72-7.72 1.47 1.35L5.41 20z\"/>\n",
              "  </svg>\n",
              "      </button>\n",
              "      \n",
              "  <style>\n",
              "    .colab-df-container {\n",
              "      display:flex;\n",
              "      flex-wrap:wrap;\n",
              "      gap: 12px;\n",
              "    }\n",
              "\n",
              "    .colab-df-convert {\n",
              "      background-color: #E8F0FE;\n",
              "      border: none;\n",
              "      border-radius: 50%;\n",
              "      cursor: pointer;\n",
              "      display: none;\n",
              "      fill: #1967D2;\n",
              "      height: 32px;\n",
              "      padding: 0 0 0 0;\n",
              "      width: 32px;\n",
              "    }\n",
              "\n",
              "    .colab-df-convert:hover {\n",
              "      background-color: #E2EBFA;\n",
              "      box-shadow: 0px 1px 2px rgba(60, 64, 67, 0.3), 0px 1px 3px 1px rgba(60, 64, 67, 0.15);\n",
              "      fill: #174EA6;\n",
              "    }\n",
              "\n",
              "    [theme=dark] .colab-df-convert {\n",
              "      background-color: #3B4455;\n",
              "      fill: #D2E3FC;\n",
              "    }\n",
              "\n",
              "    [theme=dark] .colab-df-convert:hover {\n",
              "      background-color: #434B5C;\n",
              "      box-shadow: 0px 1px 3px 1px rgba(0, 0, 0, 0.15);\n",
              "      filter: drop-shadow(0px 1px 2px rgba(0, 0, 0, 0.3));\n",
              "      fill: #FFFFFF;\n",
              "    }\n",
              "  </style>\n",
              "\n",
              "      <script>\n",
              "        const buttonEl =\n",
              "          document.querySelector('#df-f7697c61-f3d8-4a62-980d-ad6f45a21503 button.colab-df-convert');\n",
              "        buttonEl.style.display =\n",
              "          google.colab.kernel.accessAllowed ? 'block' : 'none';\n",
              "\n",
              "        async function convertToInteractive(key) {\n",
              "          const element = document.querySelector('#df-f7697c61-f3d8-4a62-980d-ad6f45a21503');\n",
              "          const dataTable =\n",
              "            await google.colab.kernel.invokeFunction('convertToInteractive',\n",
              "                                                     [key], {});\n",
              "          if (!dataTable) return;\n",
              "\n",
              "          const docLinkHtml = 'Like what you see? Visit the ' +\n",
              "            '<a target=\"_blank\" href=https://colab.research.google.com/notebooks/data_table.ipynb>data table notebook</a>'\n",
              "            + ' to learn more about interactive tables.';\n",
              "          element.innerHTML = '';\n",
              "          dataTable['output_type'] = 'display_data';\n",
              "          await google.colab.output.renderOutput(dataTable, element);\n",
              "          const docLink = document.createElement('div');\n",
              "          docLink.innerHTML = docLinkHtml;\n",
              "          element.appendChild(docLink);\n",
              "        }\n",
              "      </script>\n",
              "    </div>\n",
              "  </div>\n",
              "  "
            ]
          },
          "metadata": {},
          "execution_count": 13
        }
      ]
    },
    {
      "cell_type": "code",
      "source": [
        "modelo = sm.OLS(y,X)\n",
        "res = modelo.fit()"
      ],
      "metadata": {
        "id": "vg_prSOTqxk3"
      },
      "execution_count": null,
      "outputs": []
    },
    {
      "cell_type": "markdown",
      "metadata": {
        "id": "N4H2lr-FUKZZ"
      },
      "source": [
        "Coloque abaixo a saida do seu modelo usando **seu_modelo.summary()**."
      ]
    },
    {
      "cell_type": "code",
      "execution_count": null,
      "metadata": {
        "id": "K07-JRzxUKZZ",
        "colab": {
          "base_uri": "https://localhost:8080/"
        },
        "outputId": "0aaf6cf8-06b8-475c-b4a3-b6ff878b9a0c"
      },
      "outputs": [
        {
          "output_type": "stream",
          "name": "stdout",
          "text": [
            "                            OLS Regression Results                            \n",
            "==============================================================================\n",
            "Dep. Variable:                  price   R-squared:                       0.700\n",
            "Model:                            OLS   Adj. R-squared:                  0.700\n",
            "Method:                 Least Squares   F-statistic:                     2960.\n",
            "Date:                Fri, 29 Apr 2022   Prob (F-statistic):               0.00\n",
            "Time:                        23:30:24   Log-Likelihood:            -2.9460e+05\n",
            "No. Observations:               21613   AIC:                         5.892e+05\n",
            "Df Residuals:                   21595   BIC:                         5.894e+05\n",
            "Df Model:                          17                                         \n",
            "Covariance Type:            nonrobust                                         \n",
            "=================================================================================\n",
            "                    coef    std err          t      P>|t|      [0.025      0.975]\n",
            "---------------------------------------------------------------------------------\n",
            "Intercept       6.69e+06   2.93e+06      2.282      0.022    9.44e+05    1.24e+07\n",
            "bedrooms      -3.577e+04   1891.843    -18.906      0.000   -3.95e+04   -3.21e+04\n",
            "bathrooms      4.114e+04   3253.678     12.645      0.000    3.48e+04    4.75e+04\n",
            "sqft_living     110.4414      2.270     48.661      0.000     105.993     114.890\n",
            "sqft_lot          0.1286      0.048      2.683      0.007       0.035       0.223\n",
            "floors         6689.5501   3595.859      1.860      0.063    -358.599    1.37e+04\n",
            "waterfront      5.83e+05   1.74e+04     33.580      0.000    5.49e+05    6.17e+05\n",
            "view           5.287e+04   2140.055     24.705      0.000    4.87e+04    5.71e+04\n",
            "condition      2.639e+04   2351.461     11.221      0.000    2.18e+04     3.1e+04\n",
            "grade          9.589e+04   2152.789     44.542      0.000    9.17e+04       1e+05\n",
            "sqft_above       70.7867      2.253     31.414      0.000      66.370      75.203\n",
            "sqft_basement    39.6591      2.647     14.985      0.000      34.472      44.847\n",
            "yr_built      -2620.2232     72.659    -36.062      0.000   -2762.640   -2477.806\n",
            "yr_renovated     19.8126      3.656      5.420      0.000      12.647      26.978\n",
            "zipcode        -582.4199     32.986    -17.657      0.000    -647.074    -517.765\n",
            "lat            6.027e+05   1.07e+04     56.149      0.000    5.82e+05    6.24e+05\n",
            "long          -2.147e+05   1.31e+04    -16.349      0.000    -2.4e+05   -1.89e+05\n",
            "sqft_living15    21.6814      3.448      6.289      0.000      14.924      28.439\n",
            "sqft_lot15       -0.3826      0.073     -5.222      0.000      -0.526      -0.239\n",
            "==============================================================================\n",
            "Omnibus:                    18384.201   Durbin-Watson:                   1.990\n",
            "Prob(Omnibus):                  0.000   Jarque-Bera (JB):          1868224.491\n",
            "Skew:                           3.566   Prob(JB):                         0.00\n",
            "Kurtosis:                      47.985   Cond. No.                     4.98e+17\n",
            "==============================================================================\n",
            "\n",
            "Warnings:\n",
            "[1] Standard Errors assume that the covariance matrix of the errors is correctly specified.\n",
            "[2] The smallest eigenvalue is 8.84e-22. This might indicate that there are\n",
            "strong multicollinearity problems or that the design matrix is singular.\n"
          ]
        }
      ],
      "source": [
        "#### (VALE 0.625 pontos)\n",
        "#### EXECUTE O COMANDO ABAIXO\n",
        "\n",
        "print(res.summary())"
      ]
    },
    {
      "cell_type": "markdown",
      "metadata": {
        "id": "3AvuhQ-cUKZa"
      },
      "source": [
        "Faça outro modelo usando a biblioteca **sklearn**."
      ]
    },
    {
      "cell_type": "code",
      "execution_count": null,
      "metadata": {
        "id": "ozBcNjcZUKZa",
        "colab": {
          "base_uri": "https://localhost:8080/"
        },
        "outputId": "a91b835d-26a6-4679-8d30-13c1e356f8b8"
      },
      "outputs": [
        {
          "output_type": "stream",
          "name": "stdout",
          "text": [
            "0.7099\n",
            "122986.0\n"
          ]
        }
      ],
      "source": [
        "#### (VALE 0.625 pontos)\n",
        "#### EXECUTE OS COMANDOS ABAIXO, USE MAIS CELULAS SE NECESSARIO\n",
        "X = X.drop('Intercept',axis=1) # sklearn não precisa da coluna intercept\n",
        "X_std = StandardScaler().fit_transform(X)\n",
        "X_train, X_test, y_train, y_test = train_test_split(X_std, y, test_size = 0.3, random_state=10)\n",
        "\n",
        "lr = LinearRegression()\n",
        "lr.fit(X_train, y_train)\n",
        "y_pred = lr.predict(X_test)\n",
        "\n",
        "print(round(r2_score(y_test,y_pred),4))\n",
        "print(round(mean_absolute_error(y_test, y_pred),0))"
      ]
    },
    {
      "cell_type": "markdown",
      "metadata": {
        "id": "1VkIGVseUKZa"
      },
      "source": [
        "Qual o valor de ${R}^{2}$ e $MAE$ obtido?"
      ]
    },
    {
      "cell_type": "markdown",
      "metadata": {
        "id": "xEnzGRNqUKZa"
      },
      "source": [
        "**RESPOSTA** (VALE 0.5 pontos):   \n",
        "${R}^{2}$ = 0.7099  \n",
        "$MAE$ = 122986.0"
      ]
    },
    {
      "cell_type": "markdown",
      "metadata": {
        "id": "ADC1IzIrUKZb"
      },
      "source": [
        "Faça novamente um novo modelo utilizando a seleção de caracteristicas, selecionando as 5 variaveis mais importantes."
      ]
    },
    {
      "cell_type": "code",
      "execution_count": null,
      "metadata": {
        "id": "PIH3KinbUKZb",
        "colab": {
          "base_uri": "https://localhost:8080/"
        },
        "outputId": "6bfce324-e61e-4535-c601-0129e1dd6656"
      },
      "outputs": [
        {
          "output_type": "execute_result",
          "data": {
            "text/plain": [
              "array(['waterfront', 'view', 'grade', 'lat', 'long'], dtype=object)"
            ]
          },
          "metadata": {},
          "execution_count": 17
        }
      ],
      "source": [
        "#### (VALE 0.625 pontos)\n",
        "#### EXECUTE OS COMANDOS ABAIXO, USE MAIS CELULAS SE NECESSARIO\n",
        "\n",
        "estimator = LinearRegression()\n",
        "\n",
        "selector = RFE(estimator, n_features_to_select=5, step=1)\n",
        "selector = selector.fit(X, y)\n",
        "selector.get_feature_names_out()"
      ]
    },
    {
      "cell_type": "code",
      "source": [
        "X_ajustado = X[selector.get_feature_names_out()]\n",
        "\n",
        "X_ajustado_std = StandardScaler().fit_transform(X_ajustado)\n",
        "X_ajustado_train, X_ajustado_test, y_train, y_test = train_test_split(X_ajustado_std, y, test_size=0.3, random_state=10)\n",
        "\n",
        "modelo = LinearRegression()\n",
        "modelo = modelo.fit(X_ajustado_train, y_train)\n",
        "y_pred = modelo.predict(X_ajustado_test)\n",
        "\n",
        "print(round(r2_score(y_test,y_pred),4))\n",
        "print(round(mean_absolute_error(y_test, y_pred),0))"
      ],
      "metadata": {
        "colab": {
          "base_uri": "https://localhost:8080/"
        },
        "id": "jN78Sou6R6Y8",
        "outputId": "de448c36-9f0d-42f4-e617-fdadbea0114a"
      },
      "execution_count": null,
      "outputs": [
        {
          "output_type": "stream",
          "name": "stdout",
          "text": [
            "0.5645\n",
            "148263.0\n"
          ]
        }
      ]
    },
    {
      "cell_type": "markdown",
      "metadata": {
        "id": "61riREIuUKZb"
      },
      "source": [
        "Quais são as 5 variaveis mais importantes deste conjunto de dados?"
      ]
    },
    {
      "cell_type": "markdown",
      "metadata": {
        "id": "XwxDGPSpUKZb"
      },
      "source": [
        "**RESPOSTA** (VALE 0.5 pontos):  \n",
        "As variáveis mais importantes são 'waterfront', 'view', 'grade', 'lat' e 'long'"
      ]
    },
    {
      "cell_type": "markdown",
      "metadata": {
        "id": "UZg758-DUKZb"
      },
      "source": [
        "Qual o valor de ${R}^{2}$ e $MAE$ deste novo modelo? Este modelo é melhor do que o anterior?"
      ]
    },
    {
      "cell_type": "markdown",
      "metadata": {
        "id": "eXYxsafCUKZc"
      },
      "source": [
        "**RESPOSTA** (VALE 0.5 pontos):  \n",
        "Com todas as variáveis:  \n",
        "R2 = 0.7099  \n",
        "MAE = 122986.0\n",
        "\n",
        "Com as 5 mais importantes:  \n",
        "R2 = 0.5645  \n",
        "MAE = 148263.0\n",
        "\n",
        "As métricas apontam que o novo modelo é <u>**pior**</u> que o anterior."
      ]
    }
  ],
  "metadata": {
    "kernelspec": {
      "display_name": "Python 3",
      "language": "python",
      "name": "python3"
    },
    "language_info": {
      "codemirror_mode": {
        "name": "ipython",
        "version": 3
      },
      "file_extension": ".py",
      "mimetype": "text/x-python",
      "name": "python",
      "nbconvert_exporter": "python",
      "pygments_lexer": "ipython3",
      "version": "3.8.3"
    },
    "colab": {
      "name": "projeto_1_final.ipynb",
      "provenance": [],
      "collapsed_sections": []
    }
  },
  "nbformat": 4,
  "nbformat_minor": 0
}