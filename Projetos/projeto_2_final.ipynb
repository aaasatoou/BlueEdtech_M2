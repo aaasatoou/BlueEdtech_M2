{
  "cells": [
    {
      "cell_type": "markdown",
      "metadata": {
        "id": "T7BQsqFMTrgE"
      },
      "source": [
        "# Projeto 2 - Classificação usando dados de Cancer de Mama\n",
        "## Breast Cancer Coimbra Data Set - UCI"
      ]
    },
    {
      "cell_type": "markdown",
      "metadata": {
        "id": "bg3s394aTrgZ"
      },
      "source": [
        "## Introdução"
      ]
    },
    {
      "cell_type": "markdown",
      "metadata": {
        "id": "IsObHh_1TrgZ"
      },
      "source": [
        "O conjunto de dados de Cancer Mama esta localizado na plataforma UCI no seguinte link - https://archive.ics.uci.edu/ml/datasets/Breast+Cancer+Coimbra. O objetivo deste conjunto de dados é classificar se um individuo possui ou não cancer de mama a partir destas variaveis obtidas através do exame de sangue.\n",
        "\n",
        "\n",
        "Segue a descrição das variaveis:\n",
        "- Age: idade em anos\n",
        "- BMI: indice de massa corporal (kg/m2)\n",
        "- Glucose: nivel de glicose no sangue (mg/dL)\n",
        "- Insulin: nivel de insulina no sangue (µU/mL)\n",
        "- HOMA: nivel de resistencia a insulina\n",
        "- Leptin: leptina (ng/mL)\n",
        "- Adiponectin: Adiponectina (µg/mL)\n",
        "- Resistin: Resistina (ng/mL)\n",
        "- MCP-1: nivel de proteina MCP-1 (pg/dL)\n",
        "- Classification: é classificado como 1 sem cancer (grupo controle) e 2 com cancer (grupo paciente)\n",
        "\n",
        "Para mais informações, segue o link do artigo: https://bmccancer.biomedcentral.com/articles/10.1186/s12885-017-3877-1\n",
        "\n",
        "#### referencia: \n",
        "Patrício, M., Pereira, J., Crisóstomo, J., Matafome, P., Gomes, M., Seiça, R., & Caramelo, F. (2018). Using Resistin, glucose, age and BMI to predict the presence of breast cancer. BMC Cancer, 18(1)."
      ]
    },
    {
      "cell_type": "markdown",
      "metadata": {
        "id": "z41MXiqhTrga"
      },
      "source": [
        "# Sobre este projeto\n",
        "\n",
        "Neste projeto treine os conhecimentos aprendidos até o momento e que entenda algumas das dificuldades que pode ter quando for aplicar os mesmos. \n",
        "\n",
        "Os principais pontos que serão avaliados:\n",
        "\n",
        "- Levantamento de hipoteses\n",
        "- Manipulação de dados e criação de gráficos simples com o `Pandas`\n",
        "- Criar um modelo usando regressão logistica e justificar"
      ]
    },
    {
      "cell_type": "markdown",
      "metadata": {
        "id": "jfS3go_tTrgb"
      },
      "source": [
        "# Preparação do ambiente\n",
        "\n",
        "- Acessem o link - https://archive.ics.uci.edu/ml/machine-learning-databases/00451/dataR2.csv e faça o download do conjunto de dados."
      ]
    },
    {
      "cell_type": "code",
      "source": [
        "# Bibliotecas\n",
        "\n",
        "import pandas as pd\n",
        "import numpy as np\n",
        "\n",
        "import seaborn as sns\n",
        "import matplotlib.pyplot as plt\n",
        "\n",
        "from sklearn.model_selection import train_test_split\n",
        "from sklearn.preprocessing import StandardScaler\n",
        "\n",
        "from sklearn.linear_model import LogisticRegression\n",
        "import statsmodels.api as sm\n",
        "\n",
        "# metricas usadas para classificacao\n",
        "from sklearn.metrics import accuracy_score, precision_score, recall_score, confusion_matrix"
      ],
      "metadata": {
        "id": "ZOy-oGuUbEIE",
        "colab": {
          "base_uri": "https://localhost:8080/"
        },
        "outputId": "0c179aa5-0e87-426b-8346-2bfb6eaaad25"
      },
      "execution_count": null,
      "outputs": [
        {
          "output_type": "stream",
          "name": "stderr",
          "text": [
            "/usr/local/lib/python3.7/dist-packages/statsmodels/tools/_testing.py:19: FutureWarning: pandas.util.testing is deprecated. Use the functions in the public API at pandas.testing instead.\n",
            "  import pandas.util.testing as tm\n"
          ]
        }
      ]
    },
    {
      "cell_type": "code",
      "source": [
        "df = pd.read_csv('/content/dataR2.csv')"
      ],
      "metadata": {
        "id": "o7iKvxhcbGF8"
      },
      "execution_count": null,
      "outputs": []
    },
    {
      "cell_type": "code",
      "source": [
        "df"
      ],
      "metadata": {
        "colab": {
          "base_uri": "https://localhost:8080/",
          "height": 424
        },
        "id": "dcdIuk6TbPAW",
        "outputId": "576076f9-8e21-4327-9a5d-2399a6ff770c"
      },
      "execution_count": null,
      "outputs": [
        {
          "output_type": "execute_result",
          "data": {
            "text/plain": [
              "     Age        BMI  Glucose  Insulin      HOMA   Leptin  Adiponectin  \\\n",
              "0     48  23.500000       70    2.707  0.467409   8.8071     9.702400   \n",
              "1     83  20.690495       92    3.115  0.706897   8.8438     5.429285   \n",
              "2     82  23.124670       91    4.498  1.009651  17.9393    22.432040   \n",
              "3     68  21.367521       77    3.226  0.612725   9.8827     7.169560   \n",
              "4     86  21.111111       92    3.549  0.805386   6.6994     4.819240   \n",
              "..   ...        ...      ...      ...       ...      ...          ...   \n",
              "111   45  26.850000       92    3.330  0.755688  54.6800    12.100000   \n",
              "112   62  26.840000      100    4.530  1.117400  12.4500    21.420000   \n",
              "113   65  32.050000       97    5.730  1.370998  61.4800    22.540000   \n",
              "114   72  25.590000       82    2.820  0.570392  24.9600    33.750000   \n",
              "115   86  27.180000      138   19.910  6.777364  90.2800    14.110000   \n",
              "\n",
              "     Resistin    MCP.1  Classification  \n",
              "0     7.99585  417.114               1  \n",
              "1     4.06405  468.786               1  \n",
              "2     9.27715  554.697               1  \n",
              "3    12.76600  928.220               1  \n",
              "4    10.57635  773.920               1  \n",
              "..        ...      ...             ...  \n",
              "111  10.96000  268.230               2  \n",
              "112   7.32000  330.160               2  \n",
              "113  10.33000  314.050               2  \n",
              "114   3.27000  392.460               2  \n",
              "115   4.35000   90.090               2  \n",
              "\n",
              "[116 rows x 10 columns]"
            ],
            "text/html": [
              "\n",
              "  <div id=\"df-9a6186bd-3a92-4f42-86e3-eaeed3adc342\">\n",
              "    <div class=\"colab-df-container\">\n",
              "      <div>\n",
              "<style scoped>\n",
              "    .dataframe tbody tr th:only-of-type {\n",
              "        vertical-align: middle;\n",
              "    }\n",
              "\n",
              "    .dataframe tbody tr th {\n",
              "        vertical-align: top;\n",
              "    }\n",
              "\n",
              "    .dataframe thead th {\n",
              "        text-align: right;\n",
              "    }\n",
              "</style>\n",
              "<table border=\"1\" class=\"dataframe\">\n",
              "  <thead>\n",
              "    <tr style=\"text-align: right;\">\n",
              "      <th></th>\n",
              "      <th>Age</th>\n",
              "      <th>BMI</th>\n",
              "      <th>Glucose</th>\n",
              "      <th>Insulin</th>\n",
              "      <th>HOMA</th>\n",
              "      <th>Leptin</th>\n",
              "      <th>Adiponectin</th>\n",
              "      <th>Resistin</th>\n",
              "      <th>MCP.1</th>\n",
              "      <th>Classification</th>\n",
              "    </tr>\n",
              "  </thead>\n",
              "  <tbody>\n",
              "    <tr>\n",
              "      <th>0</th>\n",
              "      <td>48</td>\n",
              "      <td>23.500000</td>\n",
              "      <td>70</td>\n",
              "      <td>2.707</td>\n",
              "      <td>0.467409</td>\n",
              "      <td>8.8071</td>\n",
              "      <td>9.702400</td>\n",
              "      <td>7.99585</td>\n",
              "      <td>417.114</td>\n",
              "      <td>1</td>\n",
              "    </tr>\n",
              "    <tr>\n",
              "      <th>1</th>\n",
              "      <td>83</td>\n",
              "      <td>20.690495</td>\n",
              "      <td>92</td>\n",
              "      <td>3.115</td>\n",
              "      <td>0.706897</td>\n",
              "      <td>8.8438</td>\n",
              "      <td>5.429285</td>\n",
              "      <td>4.06405</td>\n",
              "      <td>468.786</td>\n",
              "      <td>1</td>\n",
              "    </tr>\n",
              "    <tr>\n",
              "      <th>2</th>\n",
              "      <td>82</td>\n",
              "      <td>23.124670</td>\n",
              "      <td>91</td>\n",
              "      <td>4.498</td>\n",
              "      <td>1.009651</td>\n",
              "      <td>17.9393</td>\n",
              "      <td>22.432040</td>\n",
              "      <td>9.27715</td>\n",
              "      <td>554.697</td>\n",
              "      <td>1</td>\n",
              "    </tr>\n",
              "    <tr>\n",
              "      <th>3</th>\n",
              "      <td>68</td>\n",
              "      <td>21.367521</td>\n",
              "      <td>77</td>\n",
              "      <td>3.226</td>\n",
              "      <td>0.612725</td>\n",
              "      <td>9.8827</td>\n",
              "      <td>7.169560</td>\n",
              "      <td>12.76600</td>\n",
              "      <td>928.220</td>\n",
              "      <td>1</td>\n",
              "    </tr>\n",
              "    <tr>\n",
              "      <th>4</th>\n",
              "      <td>86</td>\n",
              "      <td>21.111111</td>\n",
              "      <td>92</td>\n",
              "      <td>3.549</td>\n",
              "      <td>0.805386</td>\n",
              "      <td>6.6994</td>\n",
              "      <td>4.819240</td>\n",
              "      <td>10.57635</td>\n",
              "      <td>773.920</td>\n",
              "      <td>1</td>\n",
              "    </tr>\n",
              "    <tr>\n",
              "      <th>...</th>\n",
              "      <td>...</td>\n",
              "      <td>...</td>\n",
              "      <td>...</td>\n",
              "      <td>...</td>\n",
              "      <td>...</td>\n",
              "      <td>...</td>\n",
              "      <td>...</td>\n",
              "      <td>...</td>\n",
              "      <td>...</td>\n",
              "      <td>...</td>\n",
              "    </tr>\n",
              "    <tr>\n",
              "      <th>111</th>\n",
              "      <td>45</td>\n",
              "      <td>26.850000</td>\n",
              "      <td>92</td>\n",
              "      <td>3.330</td>\n",
              "      <td>0.755688</td>\n",
              "      <td>54.6800</td>\n",
              "      <td>12.100000</td>\n",
              "      <td>10.96000</td>\n",
              "      <td>268.230</td>\n",
              "      <td>2</td>\n",
              "    </tr>\n",
              "    <tr>\n",
              "      <th>112</th>\n",
              "      <td>62</td>\n",
              "      <td>26.840000</td>\n",
              "      <td>100</td>\n",
              "      <td>4.530</td>\n",
              "      <td>1.117400</td>\n",
              "      <td>12.4500</td>\n",
              "      <td>21.420000</td>\n",
              "      <td>7.32000</td>\n",
              "      <td>330.160</td>\n",
              "      <td>2</td>\n",
              "    </tr>\n",
              "    <tr>\n",
              "      <th>113</th>\n",
              "      <td>65</td>\n",
              "      <td>32.050000</td>\n",
              "      <td>97</td>\n",
              "      <td>5.730</td>\n",
              "      <td>1.370998</td>\n",
              "      <td>61.4800</td>\n",
              "      <td>22.540000</td>\n",
              "      <td>10.33000</td>\n",
              "      <td>314.050</td>\n",
              "      <td>2</td>\n",
              "    </tr>\n",
              "    <tr>\n",
              "      <th>114</th>\n",
              "      <td>72</td>\n",
              "      <td>25.590000</td>\n",
              "      <td>82</td>\n",
              "      <td>2.820</td>\n",
              "      <td>0.570392</td>\n",
              "      <td>24.9600</td>\n",
              "      <td>33.750000</td>\n",
              "      <td>3.27000</td>\n",
              "      <td>392.460</td>\n",
              "      <td>2</td>\n",
              "    </tr>\n",
              "    <tr>\n",
              "      <th>115</th>\n",
              "      <td>86</td>\n",
              "      <td>27.180000</td>\n",
              "      <td>138</td>\n",
              "      <td>19.910</td>\n",
              "      <td>6.777364</td>\n",
              "      <td>90.2800</td>\n",
              "      <td>14.110000</td>\n",
              "      <td>4.35000</td>\n",
              "      <td>90.090</td>\n",
              "      <td>2</td>\n",
              "    </tr>\n",
              "  </tbody>\n",
              "</table>\n",
              "<p>116 rows × 10 columns</p>\n",
              "</div>\n",
              "      <button class=\"colab-df-convert\" onclick=\"convertToInteractive('df-9a6186bd-3a92-4f42-86e3-eaeed3adc342')\"\n",
              "              title=\"Convert this dataframe to an interactive table.\"\n",
              "              style=\"display:none;\">\n",
              "        \n",
              "  <svg xmlns=\"http://www.w3.org/2000/svg\" height=\"24px\"viewBox=\"0 0 24 24\"\n",
              "       width=\"24px\">\n",
              "    <path d=\"M0 0h24v24H0V0z\" fill=\"none\"/>\n",
              "    <path d=\"M18.56 5.44l.94 2.06.94-2.06 2.06-.94-2.06-.94-.94-2.06-.94 2.06-2.06.94zm-11 1L8.5 8.5l.94-2.06 2.06-.94-2.06-.94L8.5 2.5l-.94 2.06-2.06.94zm10 10l.94 2.06.94-2.06 2.06-.94-2.06-.94-.94-2.06-.94 2.06-2.06.94z\"/><path d=\"M17.41 7.96l-1.37-1.37c-.4-.4-.92-.59-1.43-.59-.52 0-1.04.2-1.43.59L10.3 9.45l-7.72 7.72c-.78.78-.78 2.05 0 2.83L4 21.41c.39.39.9.59 1.41.59.51 0 1.02-.2 1.41-.59l7.78-7.78 2.81-2.81c.8-.78.8-2.07 0-2.86zM5.41 20L4 18.59l7.72-7.72 1.47 1.35L5.41 20z\"/>\n",
              "  </svg>\n",
              "      </button>\n",
              "      \n",
              "  <style>\n",
              "    .colab-df-container {\n",
              "      display:flex;\n",
              "      flex-wrap:wrap;\n",
              "      gap: 12px;\n",
              "    }\n",
              "\n",
              "    .colab-df-convert {\n",
              "      background-color: #E8F0FE;\n",
              "      border: none;\n",
              "      border-radius: 50%;\n",
              "      cursor: pointer;\n",
              "      display: none;\n",
              "      fill: #1967D2;\n",
              "      height: 32px;\n",
              "      padding: 0 0 0 0;\n",
              "      width: 32px;\n",
              "    }\n",
              "\n",
              "    .colab-df-convert:hover {\n",
              "      background-color: #E2EBFA;\n",
              "      box-shadow: 0px 1px 2px rgba(60, 64, 67, 0.3), 0px 1px 3px 1px rgba(60, 64, 67, 0.15);\n",
              "      fill: #174EA6;\n",
              "    }\n",
              "\n",
              "    [theme=dark] .colab-df-convert {\n",
              "      background-color: #3B4455;\n",
              "      fill: #D2E3FC;\n",
              "    }\n",
              "\n",
              "    [theme=dark] .colab-df-convert:hover {\n",
              "      background-color: #434B5C;\n",
              "      box-shadow: 0px 1px 3px 1px rgba(0, 0, 0, 0.15);\n",
              "      filter: drop-shadow(0px 1px 2px rgba(0, 0, 0, 0.3));\n",
              "      fill: #FFFFFF;\n",
              "    }\n",
              "  </style>\n",
              "\n",
              "      <script>\n",
              "        const buttonEl =\n",
              "          document.querySelector('#df-9a6186bd-3a92-4f42-86e3-eaeed3adc342 button.colab-df-convert');\n",
              "        buttonEl.style.display =\n",
              "          google.colab.kernel.accessAllowed ? 'block' : 'none';\n",
              "\n",
              "        async function convertToInteractive(key) {\n",
              "          const element = document.querySelector('#df-9a6186bd-3a92-4f42-86e3-eaeed3adc342');\n",
              "          const dataTable =\n",
              "            await google.colab.kernel.invokeFunction('convertToInteractive',\n",
              "                                                     [key], {});\n",
              "          if (!dataTable) return;\n",
              "\n",
              "          const docLinkHtml = 'Like what you see? Visit the ' +\n",
              "            '<a target=\"_blank\" href=https://colab.research.google.com/notebooks/data_table.ipynb>data table notebook</a>'\n",
              "            + ' to learn more about interactive tables.';\n",
              "          element.innerHTML = '';\n",
              "          dataTable['output_type'] = 'display_data';\n",
              "          await google.colab.output.renderOutput(dataTable, element);\n",
              "          const docLink = document.createElement('div');\n",
              "          docLink.innerHTML = docLinkHtml;\n",
              "          element.appendChild(docLink);\n",
              "        }\n",
              "      </script>\n",
              "    </div>\n",
              "  </div>\n",
              "  "
            ]
          },
          "metadata": {},
          "execution_count": 3
        }
      ]
    },
    {
      "cell_type": "code",
      "source": [
        "df.info()"
      ],
      "metadata": {
        "colab": {
          "base_uri": "https://localhost:8080/"
        },
        "id": "IW3dmfHKgjAk",
        "outputId": "5cd793ee-f3c2-455f-e554-7ce3483b4a46"
      },
      "execution_count": null,
      "outputs": [
        {
          "output_type": "stream",
          "name": "stdout",
          "text": [
            "<class 'pandas.core.frame.DataFrame'>\n",
            "RangeIndex: 116 entries, 0 to 115\n",
            "Data columns (total 10 columns):\n",
            " #   Column          Non-Null Count  Dtype  \n",
            "---  ------          --------------  -----  \n",
            " 0   Age             116 non-null    int64  \n",
            " 1   BMI             116 non-null    float64\n",
            " 2   Glucose         116 non-null    int64  \n",
            " 3   Insulin         116 non-null    float64\n",
            " 4   HOMA            116 non-null    float64\n",
            " 5   Leptin          116 non-null    float64\n",
            " 6   Adiponectin     116 non-null    float64\n",
            " 7   Resistin        116 non-null    float64\n",
            " 8   MCP.1           116 non-null    float64\n",
            " 9   Classification  116 non-null    int64  \n",
            "dtypes: float64(7), int64(3)\n",
            "memory usage: 9.2 KB\n"
          ]
        }
      ]
    },
    {
      "cell_type": "markdown",
      "source": [
        "## Sumário de análise das variáveis"
      ],
      "metadata": {
        "id": "ZE5UlK0cWC0y"
      }
    },
    {
      "cell_type": "code",
      "source": [
        "print(df.shape,\"\\n\\n\")\n",
        "plt.subplots(5, 2, figsize=(15,20))\n",
        "for i in range(0,len(df.columns)):\n",
        "  print(f\"Coluna {df.columns[i]}\\n\")\n",
        "  print(df.iloc[:,i].describe(),\"\\n\")\n",
        "  print(f\"Nulos: {df.iloc[:,i].isnull().any()}\\n\")\n",
        "  print(df.iloc[:,i].unique())\n",
        "  print(\"\\n\\n---------------------------------------------------------------------------------------------\\n\\n\")\n",
        "  plt.subplot(5, 2, i+1)\n",
        "  sns.boxplot(x = df.iloc[:,i])\n",
        "\n",
        "plt.show()"
      ],
      "metadata": {
        "colab": {
          "base_uri": "https://localhost:8080/",
          "height": 1000
        },
        "id": "_6cQ20CKUcwZ",
        "outputId": "c01ee3cb-22f7-4d2e-e5dc-163508df92a0"
      },
      "execution_count": null,
      "outputs": [
        {
          "output_type": "stream",
          "name": "stdout",
          "text": [
            "(116, 10) \n",
            "\n",
            "\n",
            "Coluna Age\n",
            "\n",
            "count    116.000000\n",
            "mean      57.301724\n",
            "std       16.112766\n",
            "min       24.000000\n",
            "25%       45.000000\n",
            "50%       56.000000\n",
            "75%       71.000000\n",
            "max       89.000000\n",
            "Name: Age, dtype: float64 \n",
            "\n",
            "Nulos: False\n",
            "\n",
            "[48 83 82 68 86 49 89 76 73 75 34 29 25 24 38 44 47 61 64 32 36 35 54 45\n",
            " 50 66 53 28 43 51 67 69 60 77 71 78 85 42 62 59 46 72 55 41 81 65 58 40\n",
            " 52 74 57]\n",
            "\n",
            "\n",
            "---------------------------------------------------------------------------------------------\n",
            "\n",
            "\n",
            "Coluna BMI\n",
            "\n",
            "count    116.000000\n",
            "mean      27.582111\n",
            "std        5.020136\n",
            "min       18.370000\n",
            "25%       22.973205\n",
            "50%       27.662416\n",
            "75%       31.241442\n",
            "max       38.578759\n",
            "Name: BMI, dtype: float64 \n",
            "\n",
            "Nulos: False\n",
            "\n",
            "[23.5        20.69049454 23.12467037 21.36752137 21.11111111 22.85445769\n",
            " 22.7        23.8        22.         23.         21.47       23.01\n",
            " 22.86       18.67       23.34       20.76       22.03       32.03895937\n",
            " 34.5297228  36.51263743 28.57667585 31.97501487 32.27078777 30.27681661\n",
            " 30.48315806 37.03560819 38.57875854 31.44654088 35.2507611  34.17489\n",
            " 36.21227888 36.7901662  35.85581466 34.42217362 27.68877813 29.60676726\n",
            " 31.2385898  35.09270153 26.34929208 35.58792924 29.2184076  27.2\n",
            " 27.3        32.5        30.3        27.7        25.7        25.3\n",
            " 29.4        26.6        27.1        25.9        21.30394858 20.82999519\n",
            " 20.9566075  24.24242424 21.35991456 21.08281329 19.13265306 22.65625\n",
            " 22.4996371  21.51385851 22.89281998 22.83287935 23.14049587 24.21875\n",
            " 22.22222222 20.83       19.56       20.26       24.74       18.37\n",
            " 23.62       22.21       26.5625     31.25       26.66666667 26.6727633\n",
            " 28.67262608 31.64036818 32.46191136 25.51020408 29.296875   29.666548\n",
            " 28.125      29.15451895 30.83653053 31.21748179 30.8012487  31.23140988\n",
            " 29.77777778 27.88761707 27.63605442 27.91551882 28.44444444 28.65013774\n",
            " 30.91557669 29.13631634 34.83814777 37.109375   29.38475666 33.18\n",
            " 35.56       30.48       36.05       26.85       26.84       32.05\n",
            " 25.59       27.18      ]\n",
            "\n",
            "\n",
            "---------------------------------------------------------------------------------------------\n",
            "\n",
            "\n",
            "Coluna Glucose\n",
            "\n",
            "count    116.000000\n",
            "mean      97.793103\n",
            "std       22.525162\n",
            "min       60.000000\n",
            "25%       85.750000\n",
            "50%       92.000000\n",
            "75%      102.000000\n",
            "max      201.000000\n",
            "Name: Glucose, dtype: float64 \n",
            "\n",
            "Nulos: False\n",
            "\n",
            "[ 70  92  91  77 118  97  83  78  82  88  75  86  84  85  95  87  90 106\n",
            "  80 101  89  79 103  76  94  93 102  60  96 110  74 112  98 116 114 105\n",
            " 201 100  99 196 199 139 128 134 131 104 108 152 119 138]\n",
            "\n",
            "\n",
            "---------------------------------------------------------------------------------------------\n",
            "\n",
            "\n",
            "Coluna Insulin\n",
            "\n",
            "count    116.000000\n",
            "mean      10.012086\n",
            "std       10.067768\n",
            "min        2.432000\n",
            "25%        4.359250\n",
            "50%        5.924500\n",
            "75%       11.189250\n",
            "max       58.460000\n",
            "Name: Insulin, dtype: float64 \n",
            "\n",
            "Nulos: False\n",
            "\n",
            "[ 2.707  3.115  4.498  3.226  3.549  4.69   6.47   3.35   4.952  3.469\n",
            "  5.663  4.09   6.107  5.782  7.553  2.869 18.077  4.427 14.026  4.345\n",
            "  4.53   5.81   4.376  5.537  6.76   6.703  9.245  6.817  6.59  15.533\n",
            " 10.175  8.576 23.194  3.855  5.819  4.181  5.646  5.138  3.881  5.376\n",
            " 14.07   5.197  5.43   8.34   6.042  8.079  3.508 10.704  4.462 26.211\n",
            "  4.58  13.852  4.56  12.305 21.699  2.999  6.2    4.364  3.482  5.261\n",
            "  6.683  2.64   2.74   6.862  4.902  3.73   5.7    3.42  15.89   3.44\n",
            " 58.46   6.03   4.42  36.94  10.555 16.635  4.328 41.611 22.033  3.188\n",
            "  9.669 28.677 10.395  4.172 14.649  2.54  51.814 12.162 16.582 41.894\n",
            " 30.212 24.887 30.13   8.396  9.208  2.432 18.2    8.808  3.012  6.524\n",
            " 10.491 10.949 12.548  5.636  4.713  5.75   8.15   7.01  11.91   3.33\n",
            "  5.73   2.82  19.91 ]\n",
            "\n",
            "\n",
            "---------------------------------------------------------------------------------------------\n",
            "\n",
            "\n",
            "Coluna HOMA\n",
            "\n",
            "count    116.000000\n",
            "mean       2.694988\n",
            "std        3.642043\n",
            "min        0.467409\n",
            "25%        0.917966\n",
            "50%        1.380939\n",
            "75%        2.857787\n",
            "max       25.050342\n",
            "Name: HOMA, dtype: float64 \n",
            "\n",
            "Nulos: False\n",
            "\n",
            "[ 0.46740867  0.70689733  1.00965107  0.61272493  0.8053864   0.73208693\n",
            "  0.89078733  1.88320133  0.80154333  1.01383947  0.6674356   1.14543613\n",
            "  0.82727067  1.33        1.06967     1.6         0.59        3.79014433\n",
            "  1.03739367  3.0099796   0.92171933  0.972138    1.203832    0.9067072\n",
            "  1.229214    1.38399733  1.75261107  2.05239     1.513374    1.30042667\n",
            "  3.86978807  2.53493167  1.8404096   5.09185613  0.732193    1.13392913\n",
            "  0.84567693  1.4066068   1.30539453  0.72755813  1.1006464   3.262364\n",
            "  1.08963767  1.245642    2.098344    1.341324    1.8732508   0.519184\n",
            "  2.3498848   1.0566016   7.111918    0.96027333  3.4851632   0.832352\n",
            "  2.85311933  4.9242264   0.6879706   1.55992     1.0011016   0.79018187\n",
            "  1.23282767  1.84629013  0.507936    0.69614267  1.65877413  1.4026256\n",
            "  0.79125733  1.37788     0.742368    4.468268    0.78065067 15.28534133\n",
            "  1.56177     1.14478     7.83620533  2.62960233  3.775036    1.09960053\n",
            " 20.6307338   5.27176247  0.60550747  2.38502     7.0029234   2.871792\n",
            "  1.00851147  3.071407    0.56388    25.05034187  5.9699204   5.68541507\n",
            " 13.22733227  4.45899333  6.4834952   8.22598307  9.73600733  1.44970933\n",
            "  2.2485936   0.61789013  4.66890667  2.3464512   0.6538048   1.43223547\n",
            "  2.5101466   2.24162527  2.94041467  1.86288587  1.046286    1.30486667\n",
            "  2.63353667  2.62828267  3.495982    0.755688    1.1174      1.370998\n",
            "  0.570392    6.777364  ]\n",
            "\n",
            "\n",
            "---------------------------------------------------------------------------------------------\n",
            "\n",
            "\n",
            "Coluna Leptin\n",
            "\n",
            "count    116.000000\n",
            "mean      26.615080\n",
            "std       19.183294\n",
            "min        4.311000\n",
            "25%       12.313675\n",
            "50%       20.271000\n",
            "75%       37.378300\n",
            "max       90.280000\n",
            "Name: Leptin, dtype: float64 \n",
            "\n",
            "Nulos: False\n",
            "\n",
            "[ 8.8071  8.8438 17.9393  9.8827  6.6994  6.8317  6.964   4.311   4.47\n",
            " 17.127  14.57   35.59   20.45    8.88   15.26   14.09   26.65   30.7729\n",
            " 21.2117 49.3727 15.1248 28.7502 45.6196 39.2134 12.331  39.9802 46.6401\n",
            " 45.9624 50.6094 10.2809 74.7069 27.1841 68.5102 31.2128 20.092  21.9033\n",
            " 16.2247 83.4821 24.2998 21.7863 28.562  35.891  10.39   15.145  56.502\n",
            " 24.846  65.926   6.633  45.272   7.85   21.778  13.74    7.6476  7.7529\n",
            " 11.2406 16.7353 19.0826  9.6994 11.0816  9.8648  8.438  32.58    6.3339\n",
            "  8.0163 14.9037 17.9973  8.6874 12.1905 12.87   13.08    7.65   18.16\n",
            "  9.62   21.78   10.16    9.8    37.2234 25.7816 47.647  44.7059 17.022\n",
            " 38.8066 46.076  19.0653 12.2617 26.5166 15.5325 70.8824 18.1314 22.8884\n",
            " 31.0385 31.6453 29.2739 42.3914 37.843  51.3387 12.6757 14.3224 53.4997\n",
            " 14.7485 31.1233 14.9084 44.0217 26.8081 33.1612 41.4064 23.8479 18.69\n",
            " 17.87   50.53   89.27   54.68   12.45   61.48   24.96   90.28  ]\n",
            "\n",
            "\n",
            "---------------------------------------------------------------------------------------------\n",
            "\n",
            "\n",
            "Coluna Adiponectin\n",
            "\n",
            "count    116.000000\n",
            "mean      10.180874\n",
            "std        6.843341\n",
            "min        1.656020\n",
            "25%        5.474283\n",
            "50%        8.352692\n",
            "75%       11.815970\n",
            "max       38.040000\n",
            "Name: Adiponectin, dtype: float64 \n",
            "\n",
            "Nulos: False\n",
            "\n",
            "[ 9.7024    5.429285 22.43204   7.16956   4.81924  13.67975   5.589865\n",
            " 13.25132  10.358725 11.57899  13.11     26.72     23.67     36.06\n",
            " 17.95     20.32     38.04      7.780255  5.46262   5.1       8.6\n",
            "  7.64276   6.209635  9.048185  9.73138   4.617125  4.667645 10.35526\n",
            "  6.966895  5.065915  7.53955  20.03      4.7942    8.300955  3.19209\n",
            "  2.19428   4.267105  6.796985  8.12555   7.36996   9.34663   9.000805\n",
            " 11.78796   8.13      7.652055  3.74122  10.567295  8.2863    7.9317\n",
            "  4.935635  9.75326  21.056625  8.237405  8.412175 21.823745  8.462915\n",
            "  8.574655  5.80762  11.236235  4.77192   4.138025  3.886145  9.349775\n",
            "  4.230105  4.294705  3.70523   4.783985 18.55     20.37     16.67\n",
            " 16.1      12.76     17.86      9.76      6.420295 11.018455 12.71896\n",
            "  5.357135 13.494865 16.44048  10.636525 21.57      5.4861    6.695585\n",
            "  7.28287  10.22231   7.901685  4.104105 10.26266   6.160995  9.92365\n",
            "  6.26854  10.79394   8.40443  10.73174   5.47817   6.78387   1.65602\n",
            "  5.288025  7.65222   8.42996   3.71009   2.78491   2.36495   3.335665\n",
            "  6.644245  9.16     11.9      10.06      8.01     12.1      21.42\n",
            " 22.54     33.75     14.11    ]\n",
            "\n",
            "\n",
            "---------------------------------------------------------------------------------------------\n",
            "\n",
            "\n",
            "Coluna Resistin\n",
            "\n",
            "count    116.000000\n",
            "mean      14.725966\n",
            "std       12.390646\n",
            "min        3.210000\n",
            "25%        6.881763\n",
            "50%       10.827740\n",
            "75%       17.755207\n",
            "max       82.100000\n",
            "Name: Resistin, dtype: float64 \n",
            "\n",
            "Nulos: False\n",
            "\n",
            "[ 7.99585  4.06405  9.27715 12.766   10.57635 10.3176  12.9361   5.1042\n",
            "  6.28445  7.0913   6.92     4.58     5.14     6.85     9.35     7.64\n",
            "  3.32    13.68392  6.70188 17.10223  9.1539   5.62592 24.6033  16.43706\n",
            " 10.19299  8.70448 11.78388 23.3819  22.03703 15.72187 22.32024 10.26309\n",
            " 21.44366  6.71026 10.37518  4.2075   3.29175 82.1     20.2535  17.2615\n",
            "  8.04375  8.4156   7.5767  11.78796  4.2989   6.7052   4.49685  4.6638\n",
            "  4.53     9.6135   8.49395 11.774   23.03408 28.0323  23.1177  12.06534\n",
            " 17.37615 13.74244  5.57055 10.69548 15.73606 15.69876 22.94254 11.55492\n",
            "  8.2049   5.2633  10.34455 13.91245 13.56     4.62     7.84     5.31\n",
            "  3.21     4.82     5.68    16.1      7.16514 38.6531  24.3701  27.8325\n",
            " 31.6904  29.5583  10.15726 42.7447  53.6717  19.46324 16.11032 55.2153\n",
            " 53.6308  13.97399 17.55503 19.94687 24.24591  5.768   11.50005 20.76801\n",
            " 23.03306 26.0136  49.24184 16.48508 18.35574 14.91922 20.4685  14.76966\n",
            "  9.9542   6.89235 15.55625  8.89     4.19    11.73     5.06    10.96\n",
            "  7.32    10.33     3.27     4.35   ]\n",
            "\n",
            "\n",
            "---------------------------------------------------------------------------------------------\n",
            "\n",
            "\n",
            "Coluna MCP.1\n",
            "\n",
            "count     116.000000\n",
            "mean      534.647000\n",
            "std       345.912663\n",
            "min        45.843000\n",
            "25%       269.978250\n",
            "50%       471.322500\n",
            "75%       700.085000\n",
            "max      1698.440000\n",
            "Name: MCP.1, dtype: float64 \n",
            "\n",
            "Nulos: False\n",
            "\n",
            "[ 417.114  468.786  554.697  928.22   773.92   530.41  1256.083  280.694\n",
            "  136.855  318.302  354.6    174.8    313.73   632.22   165.02    63.61\n",
            "  191.72   444.395  252.449  588.46   534.224  572.783  904.981  733.797\n",
            " 1227.91   586.173  887.16  1102.11   667.928  581.313  864.968  695.754\n",
            "  358.624  960.246  473.859  585.307  634.602  263.499  378.996  618.272\n",
            "  698.789  377.227  335.393  270.142  200.976  225.88   206.802  209.749\n",
            "  215.769  232.006   45.843  488.829  552.444  382.955  573.63   481.949\n",
            "  321.919  448.799   90.6    703.973  199.055  713.239  737.672  359.232\n",
            "  355.31   518.586  635.049  395.976  301.21   220.66   193.87   244.75\n",
            "  513.66   195.94   312.     806.724  483.377  775.322 1698.44   783.796\n",
            "  910.489  426.175  738.034  799.898 1041.843 1078.359  923.886  638.261\n",
            "  994.316  764.667  656.393  396.021  602.486  407.206  293.123  256.001\n",
            "  353.568  572.401  269.487  396.648  232.018  655.834  788.902  621.273\n",
            "  209.19   198.4     99.45   218.28   268.23   330.16   314.05   392.46\n",
            "   90.09 ]\n",
            "\n",
            "\n",
            "---------------------------------------------------------------------------------------------\n",
            "\n",
            "\n",
            "Coluna Classification\n",
            "\n",
            "count    116.000000\n",
            "mean       1.551724\n",
            "std        0.499475\n",
            "min        1.000000\n",
            "25%        1.000000\n",
            "50%        2.000000\n",
            "75%        2.000000\n",
            "max        2.000000\n",
            "Name: Classification, dtype: float64 \n",
            "\n",
            "Nulos: False\n",
            "\n",
            "[1 2]\n",
            "\n",
            "\n",
            "---------------------------------------------------------------------------------------------\n",
            "\n",
            "\n"
          ]
        },
        {
          "output_type": "display_data",
          "data": {
            "text/plain": [
              "<Figure size 1080x1440 with 10 Axes>"
            ],
            "image/png": "[encoded data removed]"
          },
          "metadata": {
            "needs_background": "light"
          }
        }
      ]
    },
    {
      "cell_type": "markdown",
      "source": [
        "Conclusão sobre os dados:\n",
        "\n",
        "Os dados não apresentam dados nulos e nem dados não numéricos, o único ponto de atenção está em torno dos outliers (indicados no boxplot ao fim da analise). Decidi por manter os outliers uma vez que tais dados podem ser os indicativos da presença de câncer."
      ],
      "metadata": {
        "id": "J6F77xk-bWhP"
      }
    },
    {
      "cell_type": "markdown",
      "metadata": {
        "id": "J6PCPej4Trgb"
      },
      "source": [
        "# Exercicio 1. (2.0 pontos)\n",
        "\n",
        "Escreva em até quatro frases, uma breve apresentação sobre suas ideias do conjunto de dados e adicione qualquer contexto que possa ajudar os leitores a entendê-la."
      ]
    },
    {
      "cell_type": "markdown",
      "metadata": {
        "id": "RIdfsx12Trgd"
      },
      "source": [
        "**RESPOSTA** (VALE 2.0 pontos):  \n",
        "Segundo dados do INCA, no Brasil, o câncer de mama é o tipo de câncer mais comum em mulheres, estima-se que em 2022 ocorrerão 66.280 casos novos da doença. Diante deste cenário, a medicina preventiva tenta evitar que procedimentos mais invasivos sejam realizados através da prevenção e detecção do câncer. O papel de um cientista de dados está diretamente ligado ao diagnóstico precoce do câncer através da identificação de padrões e relações entre indicadores normalmente associados a pessoas doentes.\n",
        "<br><br> \n",
        "#### Referências:  \n",
        "INSTITUTO NACIONAL DE CÂNCER JOSÉ ALENCAR GOMES DA SILVA. Estimativa 2020: incidência do Câncer no Brasil. Rio de Janeiro: INCA, 2019. Disponível em: https://www.inca.gov.br/sites/ufu.sti.inca.local/files//media/document//estimativa-2020-incidencia-de-cancer-no-brasil.pdf Acesso em: 27 abril 2022"
      ]
    },
    {
      "cell_type": "markdown",
      "metadata": {
        "id": "0Hln_kUQTrgd"
      },
      "source": [
        "# Exercicio 2. (3.0 pontos)\n",
        "\n",
        "Explore seu conjunto de dados e crie uma história em torno deles! Pense sobre o objetivo que deseja transmitir para seus leitores."
      ]
    },
    {
      "cell_type": "markdown",
      "metadata": {
        "id": "FZIEZOXdTrge"
      },
      "source": [
        "**RESPOSTA** (VALE 0.6 pontos):  \n",
        "Nossa função, neste conjunto de dados, é analisar como as 9 variáveis apresentadas estão relacionadas a presença ou não de câncer, servindo como auxilio a medicina preventiva. Como estamos lidando com uma classificação binária (1 - Sem Câncer e 2 - Com Câncer), numa análise primária, devemos \"resumir\" o conjunto de dados e tentar verificar se tais relações realmente existem. Confirmando as relações, podemos prosseguir para a criação de modelos preditivos baseados nas informações apresentadas."
      ]
    },
    {
      "cell_type": "markdown",
      "metadata": {
        "id": "T0XqUH5VTrgg"
      },
      "source": [
        "Você precisa criar uma visualização explicativa, ajudando o leitor a identificar uma ou mais ideias-chave no conjunto de dados. Assim, qual visualização você acha interessante destacar?"
      ]
    },
    {
      "cell_type": "code",
      "execution_count": null,
      "metadata": {
        "id": "wf4uY1nnTrgh",
        "colab": {
          "base_uri": "https://localhost:8080/",
          "height": 896
        },
        "outputId": "65bf4a1c-df29-44d6-83bd-1e98230c2c41"
      },
      "outputs": [
        {
          "output_type": "display_data",
          "data": {
            "text/plain": [
              "<Figure size 1440x1080 with 9 Axes>"
            ],
            "image/png": "[encoded data removed]"
          },
          "metadata": {}
        }
      ],
      "source": [
        "#### VALE 0.6 pontos\n",
        "#### CONSTRUA OS SEUS GRAFICOS ABAIXO, USE MAIS CELULAS SE NECESSARIO\n",
        "\n",
        "rotulo = df['Classification'].copy()\n",
        "rotulo[rotulo == 1] = 'Saudável'\n",
        "rotulo[rotulo == 2] = 'Doente'\n",
        "\n",
        "sns.set_style('darkgrid')\n",
        "plt.subplots(3, 3, figsize=(20,15))\n",
        "\n",
        "for i in range(0,len(df.drop('Classification', axis=1).columns)):\n",
        "  plt.subplot(3,3,(i+1))\n",
        "  sns.histplot(x = df.columns[i], data = df, hue = rotulo, palette = 'tab10').legend_.set_title('Classificação')\n",
        "  plt.ylabel('Frequência', size = 10)\n",
        "  plt.title(f'Frequência de \"{df.columns[i]}\"', size = 15)\n",
        "\n",
        "plt.show()"
      ]
    },
    {
      "cell_type": "markdown",
      "metadata": {
        "id": "5OFEFNONTrgk"
      },
      "source": [
        "Obtenha o feedback de suas ideias e de sua(s) visualização(ões), se possivel apresente esse grafico com pelo menos uma outra pessoa e questione:"
      ]
    },
    {
      "cell_type": "markdown",
      "metadata": {
        "id": "OyJudmN-Trgk"
      },
      "source": [
        "1. O que você percebe na visualização?  \n",
        "2. Quais perguntas você tem sobre o conjunto de dados?  \n",
        "3. Há algo que você não entende nas visualizações?"
      ]
    },
    {
      "cell_type": "markdown",
      "metadata": {
        "id": "-ZOs7r6CTrgl"
      },
      "source": [
        "**RESPOSTA** (VALE 0.6 pontos):  \n",
        "\n",
        "As perguntas foram feitas a uma pessoa sem conhecimento tanto na área médica quanto na área de dados.\n",
        "1. O que você percebe na visualização?  \n",
        "As probabilidades de uma pessoa vir a ter câncer basedo nas estatisticas apresentadas.\n",
        "2. Quais perguntas você tem sobre o conjunto de dados?  \n",
        "Quantas amostras?  \n",
        "Essas amostras foram feitas em localidades distintas?  \n",
        "Se há diferença de localidade, há diferenças entre hábitos alimentares?  \n",
        "Existem pessoas com doenças pré-existentes?\n",
        "3. Há algo que você não entende nas visualizações?  \n",
        "A função da cor cinza não está clara."
      ]
    },
    {
      "cell_type": "markdown",
      "metadata": {
        "id": "Ahm_Jtc3Trgl"
      },
      "source": [
        "Após o feedback, o que você mudaria?"
      ]
    },
    {
      "cell_type": "markdown",
      "metadata": {
        "id": "PfR4pgNpTrgl"
      },
      "source": [
        "**RESPOSTA** (VALE 0.6 pontos):  \n",
        "Principalmente a cor cinza. Adicionar cores a um histograma parte da ideia de separar os valores em duas classes e representar a proporção entre os dois grupos, algo que não estava sendo atingido com a presença da cor cinza.\n",
        "<br><br>\n",
        "A função \"histplot\" da biblioteca \"seaborn\" utiliza como padrão a distribuição em camadas quando grupos são separados dentro do histograma, ou seja, a cor cinza tratava-se de barras azuis e laranjas sobrepostas. Diante deste problema, resolvi eliminar completamente a presença da \"barra cinza\" alterando a forma que a função \"histplot\" lida com grupos, ao invés de camadas optei por empilhar as barras."
      ]
    },
    {
      "cell_type": "markdown",
      "metadata": {
        "id": "MaR9o7X1Trgm"
      },
      "source": [
        "Apresente suas nova(s) visualização(ões) a partir do feedback:"
      ]
    },
    {
      "cell_type": "code",
      "execution_count": null,
      "metadata": {
        "id": "WC07SRdOTrgm",
        "colab": {
          "base_uri": "https://localhost:8080/",
          "height": 896
        },
        "outputId": "a70b56f4-62b7-4f02-9d00-a8906b9c405e"
      },
      "outputs": [
        {
          "output_type": "display_data",
          "data": {
            "text/plain": [
              "<Figure size 1440x1080 with 9 Axes>"
            ],
            "image/png": "[encoded data removed]"
          },
          "metadata": {}
        }
      ],
      "source": [
        "#### VALE 0.6 pontos\n",
        "#### CONSTRUA O SEU GRAFICO ABAIXO, USE MAIS CELULAS SE NECESSARIO\n",
        "\n",
        "rotulo = df['Classification'].copy()\n",
        "rotulo[rotulo == 1] = 'Saudável'\n",
        "rotulo[rotulo == 2] = 'Doente'\n",
        "\n",
        "sns.set_style('darkgrid')\n",
        "plt.subplots(3, 3, figsize=(20,15))\n",
        "\n",
        "for i in range(0,len(df.drop('Classification', axis=1).columns)):\n",
        "  plt.subplot(3,3,(i+1))\n",
        "  sns.histplot(x = df.columns[i], data = df, hue = rotulo, palette = 'tab10', multiple=\"stack\").legend_.set_title('Classificação')\n",
        "  plt.ylabel('Frequência', size = 10)\n",
        "  plt.title(f'Frequência de \"{df.columns[i]}\"', size = 15)\n",
        "\n",
        "plt.show()"
      ]
    },
    {
      "cell_type": "markdown",
      "metadata": {
        "id": "hRjQuCsiTrgn"
      },
      "source": [
        "# Exercicio 3. (5.0 pontos)\n",
        "\n",
        "Construa um modelo de regressão logistica para predizer a variável **Classification** com **statsmodels.api**."
      ]
    },
    {
      "cell_type": "code",
      "execution_count": null,
      "metadata": {
        "id": "gpvk1SIATrgn"
      },
      "outputs": [],
      "source": [
        "#### VALE 0.8 pontos\n",
        "#### EXECUTE OS COMANDOS ABAIXO, USE MAIS CELULAS SE NECESSARIO\n",
        "\n",
        "X = df.drop('Classification', axis = 1).copy()\n",
        "y = df['Classification'].copy()\n",
        "\n",
        "X = pd.DataFrame(StandardScaler().fit_transform(X), columns=X.columns)"
      ]
    },
    {
      "cell_type": "code",
      "source": [
        "X.head()"
      ],
      "metadata": {
        "id": "aGvEZoyCmRhz",
        "colab": {
          "base_uri": "https://localhost:8080/",
          "height": 206
        },
        "outputId": "391642ef-0733-4ca0-acb4-bcfdf81ade8c"
      },
      "execution_count": null,
      "outputs": [
        {
          "output_type": "execute_result",
          "data": {
            "text/plain": [
              "        Age       BMI   Glucose   Insulin      HOMA    Leptin  Adiponectin  \\\n",
              "0 -0.579794 -0.816675 -1.239222 -0.728739 -0.614282 -0.932334    -0.070222   \n",
              "1  1.601821 -1.378751 -0.258299 -0.688038 -0.548240 -0.930413    -0.697350   \n",
              "2  1.539489 -0.891764 -0.302887 -0.550073 -0.464752 -0.454219     1.797998   \n",
              "3  0.666843 -1.243303 -0.927110 -0.676965 -0.574210 -0.876021    -0.441945   \n",
              "4  1.788816 -1.294601 -0.258299 -0.644743 -0.521081 -1.042682    -0.786881   \n",
              "\n",
              "   Resistin     MCP.1  \n",
              "0 -0.545517 -0.341251  \n",
              "1 -0.864214 -0.191224  \n",
              "2 -0.441660  0.058214  \n",
              "3 -0.158867  1.142718  \n",
              "4 -0.336352  0.694716  "
            ],
            "text/html": [
              "\n",
              "  <div id=\"df-f76aa4e7-048d-4021-b7db-e45cbacaafa9\">\n",
              "    <div class=\"colab-df-container\">\n",
              "      <div>\n",
              "<style scoped>\n",
              "    .dataframe tbody tr th:only-of-type {\n",
              "        vertical-align: middle;\n",
              "    }\n",
              "\n",
              "    .dataframe tbody tr th {\n",
              "        vertical-align: top;\n",
              "    }\n",
              "\n",
              "    .dataframe thead th {\n",
              "        text-align: right;\n",
              "    }\n",
              "</style>\n",
              "<table border=\"1\" class=\"dataframe\">\n",
              "  <thead>\n",
              "    <tr style=\"text-align: right;\">\n",
              "      <th></th>\n",
              "      <th>Age</th>\n",
              "      <th>BMI</th>\n",
              "      <th>Glucose</th>\n",
              "      <th>Insulin</th>\n",
              "      <th>HOMA</th>\n",
              "      <th>Leptin</th>\n",
              "      <th>Adiponectin</th>\n",
              "      <th>Resistin</th>\n",
              "      <th>MCP.1</th>\n",
              "    </tr>\n",
              "  </thead>\n",
              "  <tbody>\n",
              "    <tr>\n",
              "      <th>0</th>\n",
              "      <td>-0.579794</td>\n",
              "      <td>-0.816675</td>\n",
              "      <td>-1.239222</td>\n",
              "      <td>-0.728739</td>\n",
              "      <td>-0.614282</td>\n",
              "      <td>-0.932334</td>\n",
              "      <td>-0.070222</td>\n",
              "      <td>-0.545517</td>\n",
              "      <td>-0.341251</td>\n",
              "    </tr>\n",
              "    <tr>\n",
              "      <th>1</th>\n",
              "      <td>1.601821</td>\n",
              "      <td>-1.378751</td>\n",
              "      <td>-0.258299</td>\n",
              "      <td>-0.688038</td>\n",
              "      <td>-0.548240</td>\n",
              "      <td>-0.930413</td>\n",
              "      <td>-0.697350</td>\n",
              "      <td>-0.864214</td>\n",
              "      <td>-0.191224</td>\n",
              "    </tr>\n",
              "    <tr>\n",
              "      <th>2</th>\n",
              "      <td>1.539489</td>\n",
              "      <td>-0.891764</td>\n",
              "      <td>-0.302887</td>\n",
              "      <td>-0.550073</td>\n",
              "      <td>-0.464752</td>\n",
              "      <td>-0.454219</td>\n",
              "      <td>1.797998</td>\n",
              "      <td>-0.441660</td>\n",
              "      <td>0.058214</td>\n",
              "    </tr>\n",
              "    <tr>\n",
              "      <th>3</th>\n",
              "      <td>0.666843</td>\n",
              "      <td>-1.243303</td>\n",
              "      <td>-0.927110</td>\n",
              "      <td>-0.676965</td>\n",
              "      <td>-0.574210</td>\n",
              "      <td>-0.876021</td>\n",
              "      <td>-0.441945</td>\n",
              "      <td>-0.158867</td>\n",
              "      <td>1.142718</td>\n",
              "    </tr>\n",
              "    <tr>\n",
              "      <th>4</th>\n",
              "      <td>1.788816</td>\n",
              "      <td>-1.294601</td>\n",
              "      <td>-0.258299</td>\n",
              "      <td>-0.644743</td>\n",
              "      <td>-0.521081</td>\n",
              "      <td>-1.042682</td>\n",
              "      <td>-0.786881</td>\n",
              "      <td>-0.336352</td>\n",
              "      <td>0.694716</td>\n",
              "    </tr>\n",
              "  </tbody>\n",
              "</table>\n",
              "</div>\n",
              "      <button class=\"colab-df-convert\" onclick=\"convertToInteractive('df-f76aa4e7-048d-4021-b7db-e45cbacaafa9')\"\n",
              "              title=\"Convert this dataframe to an interactive table.\"\n",
              "              style=\"display:none;\">\n",
              "        \n",
              "  <svg xmlns=\"http://www.w3.org/2000/svg\" height=\"24px\"viewBox=\"0 0 24 24\"\n",
              "       width=\"24px\">\n",
              "    <path d=\"M0 0h24v24H0V0z\" fill=\"none\"/>\n",
              "    <path d=\"M18.56 5.44l.94 2.06.94-2.06 2.06-.94-2.06-.94-.94-2.06-.94 2.06-2.06.94zm-11 1L8.5 8.5l.94-2.06 2.06-.94-2.06-.94L8.5 2.5l-.94 2.06-2.06.94zm10 10l.94 2.06.94-2.06 2.06-.94-2.06-.94-.94-2.06-.94 2.06-2.06.94z\"/><path d=\"M17.41 7.96l-1.37-1.37c-.4-.4-.92-.59-1.43-.59-.52 0-1.04.2-1.43.59L10.3 9.45l-7.72 7.72c-.78.78-.78 2.05 0 2.83L4 21.41c.39.39.9.59 1.41.59.51 0 1.02-.2 1.41-.59l7.78-7.78 2.81-2.81c.8-.78.8-2.07 0-2.86zM5.41 20L4 18.59l7.72-7.72 1.47 1.35L5.41 20z\"/>\n",
              "  </svg>\n",
              "      </button>\n",
              "      \n",
              "  <style>\n",
              "    .colab-df-container {\n",
              "      display:flex;\n",
              "      flex-wrap:wrap;\n",
              "      gap: 12px;\n",
              "    }\n",
              "\n",
              "    .colab-df-convert {\n",
              "      background-color: #E8F0FE;\n",
              "      border: none;\n",
              "      border-radius: 50%;\n",
              "      cursor: pointer;\n",
              "      display: none;\n",
              "      fill: #1967D2;\n",
              "      height: 32px;\n",
              "      padding: 0 0 0 0;\n",
              "      width: 32px;\n",
              "    }\n",
              "\n",
              "    .colab-df-convert:hover {\n",
              "      background-color: #E2EBFA;\n",
              "      box-shadow: 0px 1px 2px rgba(60, 64, 67, 0.3), 0px 1px 3px 1px rgba(60, 64, 67, 0.15);\n",
              "      fill: #174EA6;\n",
              "    }\n",
              "\n",
              "    [theme=dark] .colab-df-convert {\n",
              "      background-color: #3B4455;\n",
              "      fill: #D2E3FC;\n",
              "    }\n",
              "\n",
              "    [theme=dark] .colab-df-convert:hover {\n",
              "      background-color: #434B5C;\n",
              "      box-shadow: 0px 1px 3px 1px rgba(0, 0, 0, 0.15);\n",
              "      filter: drop-shadow(0px 1px 2px rgba(0, 0, 0, 0.3));\n",
              "      fill: #FFFFFF;\n",
              "    }\n",
              "  </style>\n",
              "\n",
              "      <script>\n",
              "        const buttonEl =\n",
              "          document.querySelector('#df-f76aa4e7-048d-4021-b7db-e45cbacaafa9 button.colab-df-convert');\n",
              "        buttonEl.style.display =\n",
              "          google.colab.kernel.accessAllowed ? 'block' : 'none';\n",
              "\n",
              "        async function convertToInteractive(key) {\n",
              "          const element = document.querySelector('#df-f76aa4e7-048d-4021-b7db-e45cbacaafa9');\n",
              "          const dataTable =\n",
              "            await google.colab.kernel.invokeFunction('convertToInteractive',\n",
              "                                                     [key], {});\n",
              "          if (!dataTable) return;\n",
              "\n",
              "          const docLinkHtml = 'Like what you see? Visit the ' +\n",
              "            '<a target=\"_blank\" href=https://colab.research.google.com/notebooks/data_table.ipynb>data table notebook</a>'\n",
              "            + ' to learn more about interactive tables.';\n",
              "          element.innerHTML = '';\n",
              "          dataTable['output_type'] = 'display_data';\n",
              "          await google.colab.output.renderOutput(dataTable, element);\n",
              "          const docLink = document.createElement('div');\n",
              "          docLink.innerHTML = docLinkHtml;\n",
              "          element.appendChild(docLink);\n",
              "        }\n",
              "      </script>\n",
              "    </div>\n",
              "  </div>\n",
              "  "
            ]
          },
          "metadata": {},
          "execution_count": 9
        }
      ]
    },
    {
      "cell_type": "code",
      "source": [
        "y = y.map({1:0,\n",
        "           2:1})\n",
        "\n",
        "# 1 > Classe negativa, sem cancer\n",
        "# 2 > Classe positiva, com cancer"
      ],
      "metadata": {
        "id": "d3ayBCGwkUEH"
      },
      "execution_count": null,
      "outputs": []
    },
    {
      "cell_type": "code",
      "source": [
        "y"
      ],
      "metadata": {
        "id": "N1TIPbgTiYJL",
        "colab": {
          "base_uri": "https://localhost:8080/"
        },
        "outputId": "d90df0d2-8f51-479e-ec93-2d9be1476fb6"
      },
      "execution_count": null,
      "outputs": [
        {
          "output_type": "execute_result",
          "data": {
            "text/plain": [
              "0      0\n",
              "1      0\n",
              "2      0\n",
              "3      0\n",
              "4      0\n",
              "      ..\n",
              "111    1\n",
              "112    1\n",
              "113    1\n",
              "114    1\n",
              "115    1\n",
              "Name: Classification, Length: 116, dtype: int64"
            ]
          },
          "metadata": {},
          "execution_count": 11
        }
      ]
    },
    {
      "cell_type": "code",
      "source": [
        "modelo = sm.Logit(y,X)\n",
        "reg_log = modelo.fit()"
      ],
      "metadata": {
        "id": "_HFoUvHniwVE",
        "colab": {
          "base_uri": "https://localhost:8080/"
        },
        "outputId": "e06e9515-54a8-42fb-f5bb-4fefdab1f0d3"
      },
      "execution_count": null,
      "outputs": [
        {
          "output_type": "stream",
          "name": "stdout",
          "text": [
            "Optimization terminated successfully.\n",
            "         Current function value: 0.499549\n",
            "         Iterations 7\n"
          ]
        }
      ]
    },
    {
      "cell_type": "markdown",
      "metadata": {
        "id": "LPbb8KnqTrgn"
      },
      "source": [
        "Coloque abaixo a saida do seu modelo usando **seu_modelo.summary()**."
      ]
    },
    {
      "cell_type": "code",
      "execution_count": null,
      "metadata": {
        "id": "v-WGa5BiTrgo",
        "colab": {
          "base_uri": "https://localhost:8080/"
        },
        "outputId": "04282ead-2c53-4021-d4ff-a4acd18ebcce"
      },
      "outputs": [
        {
          "output_type": "stream",
          "name": "stdout",
          "text": [
            "                           Logit Regression Results                           \n",
            "==============================================================================\n",
            "Dep. Variable:         Classification   No. Observations:                  116\n",
            "Model:                          Logit   Df Residuals:                      107\n",
            "Method:                           MLE   Df Model:                            8\n",
            "Date:                Mon, 09 May 2022   Pseudo R-squ.:                  0.2737\n",
            "Time:                        19:24:46   Log-Likelihood:                -57.948\n",
            "converged:                       True   LL-Null:                       -79.783\n",
            "Covariance Type:            nonrobust   LLR p-value:                 6.564e-07\n",
            "===============================================================================\n",
            "                  coef    std err          z      P>|z|      [0.025      0.975]\n",
            "-------------------------------------------------------------------------------\n",
            "Age            -0.3587      0.251     -1.432      0.152      -0.850       0.132\n",
            "BMI            -0.7561      0.333     -2.273      0.023      -1.408      -0.104\n",
            "Glucose         2.3752      0.598      3.971      0.000       1.203       3.547\n",
            "Insulin         2.9132      1.078      2.703      0.007       0.801       5.025\n",
            "HOMA           -3.5310      1.402     -2.518      0.012      -6.279      -0.783\n",
            "Leptin         -0.1264      0.317     -0.398      0.690      -0.748       0.495\n",
            "Adiponectin    -0.0374      0.256     -0.146      0.884      -0.539       0.465\n",
            "Resistin        0.6295      0.313      2.013      0.044       0.017       1.242\n",
            "MCP.1           0.2360      0.268      0.879      0.379      -0.290       0.762\n",
            "===============================================================================\n"
          ]
        }
      ],
      "source": [
        "#### VALE 0.8 pontos\n",
        "#### EXECUTE O COMANDO ABAIXO\n",
        "\n",
        "print(reg_log.summary())"
      ]
    },
    {
      "cell_type": "markdown",
      "metadata": {
        "id": "0Xv0Gs0ETrgo"
      },
      "source": [
        "Faça outro modelo usando a biblioteca **sklearn** e usem o parametro **random_state** com valor 10."
      ]
    },
    {
      "cell_type": "code",
      "execution_count": null,
      "metadata": {
        "id": "6uSiAExXTrgp"
      },
      "outputs": [],
      "source": [
        "#### VALE 0.8 pontos\n",
        "#### EXECUTE OS COMANDOS ABAIXO, USE MAIS CELULAS SE NECESSARIO\n",
        "\n",
        "X = df.drop('Classification', axis = 1).copy()\n",
        "y = df['Classification'].copy()\n",
        "\n",
        "y = y.map({1:0,\n",
        "           2:1})\n",
        "\n",
        "# 1 > Classe negativa, sem cancer\n",
        "# 2 > Classe positiva, com cancer\n",
        "\n",
        "X = pd.DataFrame(StandardScaler().fit_transform(X), columns=X.columns)"
      ]
    },
    {
      "cell_type": "code",
      "source": [
        "X_train, X_test, y_train, y_test = train_test_split(X, y, test_size = 0.3, random_state=10)\n",
        "\n",
        "modelo_scikit = LogisticRegression()\n",
        "modelo_scikit.fit(X_train,y_train)\n",
        "y_pred = modelo_scikit.predict(X_test)"
      ],
      "metadata": {
        "id": "hlP16t02n8uC"
      },
      "execution_count": null,
      "outputs": []
    },
    {
      "cell_type": "markdown",
      "metadata": {
        "id": "PfpKAUdgTrgp"
      },
      "source": [
        "Coloque abaixo a matriz de confusão do modelo feito:"
      ]
    },
    {
      "cell_type": "code",
      "execution_count": null,
      "metadata": {
        "id": "ky1-PobhTrgp",
        "colab": {
          "base_uri": "https://localhost:8080/",
          "height": 112
        },
        "outputId": "adce5bfe-6b13-4261-9097-0960120b8b77"
      },
      "outputs": [
        {
          "output_type": "execute_result",
          "data": {
            "text/plain": [
              "                    Predito benigno  Predito maligno\n",
              "Verdadeiro benigno               13                3\n",
              "Verdadeiro maligno                3               16"
            ],
            "text/html": [
              "\n",
              "  <div id=\"df-0c1fc55a-7f7f-44df-9b50-ee959b112ece\">\n",
              "    <div class=\"colab-df-container\">\n",
              "      <div>\n",
              "<style scoped>\n",
              "    .dataframe tbody tr th:only-of-type {\n",
              "        vertical-align: middle;\n",
              "    }\n",
              "\n",
              "    .dataframe tbody tr th {\n",
              "        vertical-align: top;\n",
              "    }\n",
              "\n",
              "    .dataframe thead th {\n",
              "        text-align: right;\n",
              "    }\n",
              "</style>\n",
              "<table border=\"1\" class=\"dataframe\">\n",
              "  <thead>\n",
              "    <tr style=\"text-align: right;\">\n",
              "      <th></th>\n",
              "      <th>Predito benigno</th>\n",
              "      <th>Predito maligno</th>\n",
              "    </tr>\n",
              "  </thead>\n",
              "  <tbody>\n",
              "    <tr>\n",
              "      <th>Verdadeiro benigno</th>\n",
              "      <td>13</td>\n",
              "      <td>3</td>\n",
              "    </tr>\n",
              "    <tr>\n",
              "      <th>Verdadeiro maligno</th>\n",
              "      <td>3</td>\n",
              "      <td>16</td>\n",
              "    </tr>\n",
              "  </tbody>\n",
              "</table>\n",
              "</div>\n",
              "      <button class=\"colab-df-convert\" onclick=\"convertToInteractive('df-0c1fc55a-7f7f-44df-9b50-ee959b112ece')\"\n",
              "              title=\"Convert this dataframe to an interactive table.\"\n",
              "              style=\"display:none;\">\n",
              "        \n",
              "  <svg xmlns=\"http://www.w3.org/2000/svg\" height=\"24px\"viewBox=\"0 0 24 24\"\n",
              "       width=\"24px\">\n",
              "    <path d=\"M0 0h24v24H0V0z\" fill=\"none\"/>\n",
              "    <path d=\"M18.56 5.44l.94 2.06.94-2.06 2.06-.94-2.06-.94-.94-2.06-.94 2.06-2.06.94zm-11 1L8.5 8.5l.94-2.06 2.06-.94-2.06-.94L8.5 2.5l-.94 2.06-2.06.94zm10 10l.94 2.06.94-2.06 2.06-.94-2.06-.94-.94-2.06-.94 2.06-2.06.94z\"/><path d=\"M17.41 7.96l-1.37-1.37c-.4-.4-.92-.59-1.43-.59-.52 0-1.04.2-1.43.59L10.3 9.45l-7.72 7.72c-.78.78-.78 2.05 0 2.83L4 21.41c.39.39.9.59 1.41.59.51 0 1.02-.2 1.41-.59l7.78-7.78 2.81-2.81c.8-.78.8-2.07 0-2.86zM5.41 20L4 18.59l7.72-7.72 1.47 1.35L5.41 20z\"/>\n",
              "  </svg>\n",
              "      </button>\n",
              "      \n",
              "  <style>\n",
              "    .colab-df-container {\n",
              "      display:flex;\n",
              "      flex-wrap:wrap;\n",
              "      gap: 12px;\n",
              "    }\n",
              "\n",
              "    .colab-df-convert {\n",
              "      background-color: #E8F0FE;\n",
              "      border: none;\n",
              "      border-radius: 50%;\n",
              "      cursor: pointer;\n",
              "      display: none;\n",
              "      fill: #1967D2;\n",
              "      height: 32px;\n",
              "      padding: 0 0 0 0;\n",
              "      width: 32px;\n",
              "    }\n",
              "\n",
              "    .colab-df-convert:hover {\n",
              "      background-color: #E2EBFA;\n",
              "      box-shadow: 0px 1px 2px rgba(60, 64, 67, 0.3), 0px 1px 3px 1px rgba(60, 64, 67, 0.15);\n",
              "      fill: #174EA6;\n",
              "    }\n",
              "\n",
              "    [theme=dark] .colab-df-convert {\n",
              "      background-color: #3B4455;\n",
              "      fill: #D2E3FC;\n",
              "    }\n",
              "\n",
              "    [theme=dark] .colab-df-convert:hover {\n",
              "      background-color: #434B5C;\n",
              "      box-shadow: 0px 1px 3px 1px rgba(0, 0, 0, 0.15);\n",
              "      filter: drop-shadow(0px 1px 2px rgba(0, 0, 0, 0.3));\n",
              "      fill: #FFFFFF;\n",
              "    }\n",
              "  </style>\n",
              "\n",
              "      <script>\n",
              "        const buttonEl =\n",
              "          document.querySelector('#df-0c1fc55a-7f7f-44df-9b50-ee959b112ece button.colab-df-convert');\n",
              "        buttonEl.style.display =\n",
              "          google.colab.kernel.accessAllowed ? 'block' : 'none';\n",
              "\n",
              "        async function convertToInteractive(key) {\n",
              "          const element = document.querySelector('#df-0c1fc55a-7f7f-44df-9b50-ee959b112ece');\n",
              "          const dataTable =\n",
              "            await google.colab.kernel.invokeFunction('convertToInteractive',\n",
              "                                                     [key], {});\n",
              "          if (!dataTable) return;\n",
              "\n",
              "          const docLinkHtml = 'Like what you see? Visit the ' +\n",
              "            '<a target=\"_blank\" href=https://colab.research.google.com/notebooks/data_table.ipynb>data table notebook</a>'\n",
              "            + ' to learn more about interactive tables.';\n",
              "          element.innerHTML = '';\n",
              "          dataTable['output_type'] = 'display_data';\n",
              "          await google.colab.output.renderOutput(dataTable, element);\n",
              "          const docLink = document.createElement('div');\n",
              "          docLink.innerHTML = docLinkHtml;\n",
              "          element.appendChild(docLink);\n",
              "        }\n",
              "      </script>\n",
              "    </div>\n",
              "  </div>\n",
              "  "
            ]
          },
          "metadata": {},
          "execution_count": 16
        }
      ],
      "source": [
        "#### VALE 0.8 pontos\n",
        "#### EXECUTE O COMANDO ABAIXO\n",
        "\n",
        "conf_matrix = pd.DataFrame(confusion_matrix(y_test, y_pred), \n",
        "             columns=[\"Predito benigno\",\"Predito maligno\",],\n",
        "             index  =[\"Verdadeiro benigno\", \"Verdadeiro maligno\"])\n",
        "\n",
        "conf_matrix"
      ]
    },
    {
      "cell_type": "markdown",
      "metadata": {
        "id": "swcnst1DTrgp"
      },
      "source": [
        "Prencha as métricas a partir da matriz de confusão obtida (lembrando que a classe negativa é 1 - sem cancer e a classe positiva é 2 - com cancer)"
      ]
    },
    {
      "cell_type": "code",
      "source": [
        "acuracia = accuracy_score(y_test,y_pred) # (conf_matrix.iloc[0,0]+conf_matrix.iloc[1,1])/(conf_matrix.iloc[0,0]+conf_matrix.iloc[1,1]+conf_matrix.iloc[0,1]+conf_matrix.iloc[1,0])\n",
        "precisao = precision_score(y_test,y_pred) # conf_matrix.iloc[1,1]/(conf_matrix.iloc[1,1]+conf_matrix.iloc[0,1])\n",
        "especificidade = conf_matrix.iloc[0,0]/(conf_matrix.iloc[0,0]+conf_matrix.iloc[0,1])\n",
        "recall = recall_score(y_test,y_pred)  # conf_matrix.iloc[1,1]/(conf_matrix.iloc[1,1] + conf_matrix.iloc[1,0])"
      ],
      "metadata": {
        "id": "eQ6RuJzMr3Ki"
      },
      "execution_count": null,
      "outputs": []
    },
    {
      "cell_type": "code",
      "execution_count": null,
      "metadata": {
        "id": "n-J2uug8Trgq",
        "colab": {
          "base_uri": "https://localhost:8080/"
        },
        "outputId": "3769f54b-ecfd-44dc-86cb-3c71043042ec"
      },
      "outputs": [
        {
          "output_type": "stream",
          "name": "stdout",
          "text": [
            "acurácia: 0.8285714285714286\n",
            "precisão: 0.8421052631578947\n",
            "especificidade: 0.8125\n",
            "sensitividade: 0.8421052631578947\n"
          ]
        }
      ],
      "source": [
        "# VALE 0.8 pontos\n",
        "# Substitua __ pelos valores solicitados\n",
        "print('acurácia: {}'.format(acuracia))\n",
        "print('precisão: {}'.format(precisao))\n",
        "print('especificidade: {}'.format(especificidade))\n",
        "print('sensitividade: {}'.format(recall))"
      ]
    },
    {
      "cell_type": "markdown",
      "metadata": {
        "id": "Qd19aTA_Trgr"
      },
      "source": [
        "Observando a matriz de confusão, o seu modelo tende a obter mais erros do tipo I ou do tipo II?"
      ]
    },
    {
      "cell_type": "markdown",
      "metadata": {
        "id": "85OImJyYTrgs"
      },
      "source": [
        "**RESPOSTA** (VALE 1.0 ponto):  \n",
        "Tivemos 3 erros tipo I (Falso Positivo) em 16 amostras da classe negativa.  \n",
        "Tivemos 3 erros tipo II (Falso Negativo) em 19 amostras da classe positiva.  \n",
        "Além disso, a pior métrica do modelo é a **especificidade**.  \n",
        "Tanto a métrica quanto os valores absolutos da matriz de confusão mostram que o nosso modelo falha em identificar verdadeiros negativos e, consequentemente, gera mais erros do tipo I (Falsos Positivos)."
      ]
    }
  ],
  "metadata": {
    "kernelspec": {
      "display_name": "Python 3",
      "language": "python",
      "name": "python3"
    },
    "language_info": {
      "codemirror_mode": {
        "name": "ipython",
        "version": 3
      },
      "file_extension": ".py",
      "mimetype": "text/x-python",
      "name": "python",
      "nbconvert_exporter": "python",
      "pygments_lexer": "ipython3",
      "version": "3.8.3"
    },
    "colab": {
      "name": "projeto_2.ipynb",
      "provenance": []
    }
  },
  "nbformat": 4,
  "nbformat_minor": 0
}